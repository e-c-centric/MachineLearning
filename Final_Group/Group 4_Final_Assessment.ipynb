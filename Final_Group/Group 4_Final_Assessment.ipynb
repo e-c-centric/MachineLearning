{
 "cells": [
  {
   "cell_type": "markdown",
   "metadata": {},
   "source": [
    "# Introduction"
   ]
  },
  {
   "cell_type": "markdown",
   "metadata": {},
   "source": [
    "## Purpose"
   ]
  },
  {
   "cell_type": "markdown",
   "metadata": {},
   "source": [
    "The goal of this project is to analyze the dataset titled \"Estimates of the Use of Water (2000–2020)\" and extract meaningful insights about global water access trends. The dataset spans over two decades and provides information about both rural and urban populations across various countries, detailing their access to different categories of water sources such as basic water, limited access, and surface water.\n",
    "\n",
    "This analysis aims to explore key trends in water access, assess regional disparities, and apply machine learning techniques to predict future trends or categorize countries based on water access profiles. The insights generated from this project could serve as valuable inputs for policymakers and global water organizations to make informed decisions regarding water infrastructure and resource allocation."
   ]
  },
  {
   "cell_type": "markdown",
   "metadata": {},
   "source": [
    "## Dataset Overview"
   ]
  },
  {
   "cell_type": "markdown",
   "metadata": {},
   "source": [
    "The dataset contains the following columns and what they likely mean:\n",
    "\n",
    "- name: The name of the country.\n",
    "- year: The year of the data record (ranging from 2015 to 2020).\n",
    "- pop_n: The national population of the country (total population) in thousands.\n",
    "- pop_u: Urban population (population living in urban areas) represented as a percentage.\n",
    "- wat_bas_n: Percentage of the national population with access to basic water sources.\n",
    "- wat_lim_n: Percentage of the national population with limited access to water sources.\n",
    "- wat_unimp_n: Percentage of the national population without improved water access.\n",
    "- wat_sur_n: Percentage of the national population relying on surface water sources.\n",
    "- wat_bas_r: Percentage of the rural population with access to basic water sources.\n",
    "- wat_lim_r: Percentage of the rural population with limited access to water sources.\n",
    "- wat_unimp_r: Percentage of the rural population without improved water access.\n",
    "- wat_sur_r: Percentage of the rural population relying on surface water sources.\n",
    "- wat_bas_u: Percentage of the urban population with access to basic water sources.\n",
    "- wat_lim_u: Percentage of the urban population with limited access to water sources.\n",
    "- wat_unimp_u: Percentage of the urban population without improved water access.\n",
    "- wat_sur_u: Percentage of the urban population relying on surface water sources.\n",
    "\n",
    "The rational for the assumptions applied to the meanings for the column names stems from data from sites like https://www.ceicdata.com/en/indicator/croatia/population#:~:text=Croatia%20Population%201%20The%20Croatia%20population%20reached%203.9,low%20of%203.9%20million%20people%20in%20Jun%202021. According to this data, the population of Croatia was slightly north of 4,000,000 in 2020. In the dataset provided, the pop_n column contains 4105.268066 which when multiplied by 1,000, yields a figure slightly over 4,000,000. This corresponds to the data found online, and supports our assumptions about the meaning of the column.\n",
    "\n",
    "Additionally, the next column, pop_u, which we assumed to mean the proportion of the population in urban areas, has a value of 57.55299759 for Croatia, in the year 2020. According to https://www.macrotrends.net/global-metrics/countries/HRV/croatia/urban-population#:~:text=1%20Croatia%20urban%20population%20for%202023%20was%202%2C257%2C012%2C,2020%20was%202%2C329%2C561%2C%20a%200.11%25%20increase%20from%202019, the urban population of Croatia in 2020 was 2,329,561, which is roughly 58% of the 4,105,268 in the column for pop_n. This suggests this column contains proportions.\n",
    "\n",
    "It is only logical to assume from this point on that n represents national, u - urban, and r rural."
   ]
  },
  {
   "cell_type": "markdown",
   "metadata": {},
   "source": [
    "## Scope of the Analysis"
   ]
  },
  {
   "cell_type": "markdown",
   "metadata": {},
   "source": [
    "This project will focus on the following core aspects:\n",
    "\n",
    "1. **Data Exploration and Preprocessing**: The dataset will be thoroughly explored to understand its structure, identify missing values, and clean the data for analysis. This process will ensure that the data is in the right format for further analysis and modeling.\n",
    "\n",
    "2. **Exploratory Data Analysis**: Visualizations and statistical techniques will be applied to uncover key trends and patterns in water access over time. This will include analyzing the differences between rural and urban populations and identifying countries or regions that have made significant progress or are facing challenges in water access.\n",
    "\n",
    "3. **Machine Learning for Prediction and Classification**:\n",
    "    - Prediction: Time series forecasting models, such as ARIMA or LSTM, will be used to predict future water access trends. This will help forecast the future state of water access in countries based on historical data.\n",
    "\n",
    "    - Clustering and Classification: Machine learning models will also be applied to group countries with similar water access profiles, identifying patterns and regions of the world that share similar challenges or successes.\n",
    "\n",
    "    - Policy Impact Simulation: We will implement a tool to simulate the impact of specific policy interventions (e.g., infrastructure investment or water conservation efforts) on future water access trends.\n",
    "\n",
    "4. **Additional Analysis**: Beyond the basic scope of the project, we will incorporate:\n",
    "\n",
    "    - Socioeconomic Factors: We will explore the relationship between water access and socioeconomic factors, such as GDP, literacy rates, and government spending on water infrastructure. This analysis could provide deeper insights into the causes of water access disparities.\n",
    "    - Climate Change and Water Access: We will examine the role of climate change, such as variations in temperature and rainfall patterns, and its correlation with water access in different countries.\n",
    "    - Regional Analysis: A comparative study will analyze how different regions of the world are progressing in terms of water access and identify best practices that could be adopted globally.\n",
    "\n",
    "5. **Interactive Data Visualization**: To make the findings more engaging and accessible, an interactive dashboard will be created to visualize water access trends. Users will be able to explore the data dynamically by selecting countries or regions and viewing specific trends over time.\n"
   ]
  },
  {
   "cell_type": "markdown",
   "metadata": {},
   "source": [
    "## Key Questions"
   ]
  },
  {
   "cell_type": "markdown",
   "metadata": {},
   "source": [
    "- What are the trends in water access across countries, over the years from 2015 to 2020?\n",
    "- How does water access differ between rural and urban populations, and what are the driving factors behind these disparities?\n",
    "- Which regions of the world are making the most significant progress in improving water access, and which ones are facing persistent challenges?\n",
    "- Can machine learning be used to predict future water access trends or to group countries into meaningful categories for policy targeting?\n",
    "- How do socioeconomic factors and climate change influence water access, and what interventions could mitigate these effects?\n",
    "- What is the potential impact of policy interventions on future water access in resource-constrained countries?"
   ]
  },
  {
   "cell_type": "markdown",
   "metadata": {},
   "source": [
    "## Objectives of the Analysis"
   ]
  },
  {
   "cell_type": "markdown",
   "metadata": {},
   "source": [
    "- Exploration: Understand the dataset’s structure, detect anomalies, and preprocess the data for analysis.\n",
    "- Analysis: Utilize machine learning models to generate insights and predict future trends. Apply clustering techniques to categorize countries based on water access, and use regression models to analyze the impact of socioeconomic factors.\n",
    "- Insight Generation: Provide a clear set of actionable insights for stakeholders, policymakers, and global water organizations to address water access disparities."
   ]
  },
  {
   "cell_type": "markdown",
   "metadata": {},
   "source": [
    "# Data Collection"
   ]
  },
  {
   "cell_type": "markdown",
   "metadata": {},
   "source": [
    "As mentioned in the introduction, the data has already been collected aand provided in the dataset 'Estimates of the use of water (2000-2020).csv'. All that has to be done in this step as sych, is to load the dataset, and extract summary statistics, which will influence subsequent steps.\n",
    "\n",
    "The pandas library will be used here due to its utility functions that enable the creation of pandas dataframes from csv files."
   ]
  },
  {
   "cell_type": "code",
   "execution_count": 149,
   "metadata": {},
   "outputs": [],
   "source": [
    "import pandas as pd\n",
    "\n",
    "data = pd.read_csv('Estimates of the use of water (2000-2020).csv')"
   ]
  },
  {
   "cell_type": "code",
   "execution_count": 150,
   "metadata": {},
   "outputs": [
    {
     "data": {
      "text/html": [
       "<div>\n",
       "<style scoped>\n",
       "    .dataframe tbody tr th:only-of-type {\n",
       "        vertical-align: middle;\n",
       "    }\n",
       "\n",
       "    .dataframe tbody tr th {\n",
       "        vertical-align: top;\n",
       "    }\n",
       "\n",
       "    .dataframe thead th {\n",
       "        text-align: right;\n",
       "    }\n",
       "</style>\n",
       "<table border=\"1\" class=\"dataframe\">\n",
       "  <thead>\n",
       "    <tr style=\"text-align: right;\">\n",
       "      <th></th>\n",
       "      <th>name</th>\n",
       "      <th>year</th>\n",
       "      <th>pop_n</th>\n",
       "      <th>pop_u</th>\n",
       "      <th>wat_bas_n</th>\n",
       "      <th>wat_lim_n</th>\n",
       "      <th>wat_unimp_n</th>\n",
       "      <th>wat_sur_n</th>\n",
       "      <th>wat_bas_r</th>\n",
       "      <th>wat_lim_r</th>\n",
       "      <th>wat_unimp_r</th>\n",
       "      <th>wat_sur_r</th>\n",
       "      <th>wat_bas_u</th>\n",
       "      <th>wat_lim_u</th>\n",
       "      <th>wat_unimp_u</th>\n",
       "      <th>wat_sur_u</th>\n",
       "    </tr>\n",
       "  </thead>\n",
       "  <tbody>\n",
       "    <tr>\n",
       "      <th>0</th>\n",
       "      <td>Croatia</td>\n",
       "      <td>2020</td>\n",
       "      <td>4105.268066</td>\n",
       "      <td>57.552998</td>\n",
       "      <td>NaN</td>\n",
       "      <td>NaN</td>\n",
       "      <td>NaN</td>\n",
       "      <td>NaN</td>\n",
       "      <td>NaN</td>\n",
       "      <td>NaN</td>\n",
       "      <td>NaN</td>\n",
       "      <td>NaN</td>\n",
       "      <td>100.000000</td>\n",
       "      <td>0.0</td>\n",
       "      <td>0.000000</td>\n",
       "      <td>0</td>\n",
       "    </tr>\n",
       "    <tr>\n",
       "      <th>1</th>\n",
       "      <td>Croatia</td>\n",
       "      <td>2015</td>\n",
       "      <td>4232.874023</td>\n",
       "      <td>56.155003</td>\n",
       "      <td>NaN</td>\n",
       "      <td>NaN</td>\n",
       "      <td>NaN</td>\n",
       "      <td>NaN</td>\n",
       "      <td>NaN</td>\n",
       "      <td>NaN</td>\n",
       "      <td>NaN</td>\n",
       "      <td>NaN</td>\n",
       "      <td>100.000000</td>\n",
       "      <td>0.0</td>\n",
       "      <td>0.000000</td>\n",
       "      <td>0</td>\n",
       "    </tr>\n",
       "    <tr>\n",
       "      <th>2</th>\n",
       "      <td>Argentina</td>\n",
       "      <td>2020</td>\n",
       "      <td>45195.77734</td>\n",
       "      <td>92.111000</td>\n",
       "      <td>NaN</td>\n",
       "      <td>NaN</td>\n",
       "      <td>NaN</td>\n",
       "      <td>NaN</td>\n",
       "      <td>NaN</td>\n",
       "      <td>NaN</td>\n",
       "      <td>NaN</td>\n",
       "      <td>NaN</td>\n",
       "      <td>99.790421</td>\n",
       "      <td>0.0</td>\n",
       "      <td>0.209579</td>\n",
       "      <td>0</td>\n",
       "    </tr>\n",
       "    <tr>\n",
       "      <th>3</th>\n",
       "      <td>Greece</td>\n",
       "      <td>2015</td>\n",
       "      <td>10659.7373</td>\n",
       "      <td>78.046005</td>\n",
       "      <td>100.000005</td>\n",
       "      <td>0.0</td>\n",
       "      <td>0.0</td>\n",
       "      <td>0.0</td>\n",
       "      <td>100.0</td>\n",
       "      <td>0.0</td>\n",
       "      <td>0.0</td>\n",
       "      <td>0.0</td>\n",
       "      <td>100.000000</td>\n",
       "      <td>0.0</td>\n",
       "      <td>0.000000</td>\n",
       "      <td>0</td>\n",
       "    </tr>\n",
       "    <tr>\n",
       "      <th>4</th>\n",
       "      <td>Andorra</td>\n",
       "      <td>2020</td>\n",
       "      <td>77.26499939</td>\n",
       "      <td>87.916000</td>\n",
       "      <td>100.000004</td>\n",
       "      <td>0.0</td>\n",
       "      <td>0.0</td>\n",
       "      <td>0.0</td>\n",
       "      <td>100.0</td>\n",
       "      <td>0.0</td>\n",
       "      <td>0.0</td>\n",
       "      <td>0.0</td>\n",
       "      <td>100.000000</td>\n",
       "      <td>0.0</td>\n",
       "      <td>0.000000</td>\n",
       "      <td>0</td>\n",
       "    </tr>\n",
       "  </tbody>\n",
       "</table>\n",
       "</div>"
      ],
      "text/plain": [
       "        name  year        pop_n      pop_u   wat_bas_n  wat_lim_n  \\\n",
       "0    Croatia  2020  4105.268066  57.552998         NaN        NaN   \n",
       "1    Croatia  2015  4232.874023  56.155003         NaN        NaN   \n",
       "2  Argentina  2020  45195.77734  92.111000         NaN        NaN   \n",
       "3     Greece  2015   10659.7373  78.046005  100.000005        0.0   \n",
       "4    Andorra  2020  77.26499939  87.916000  100.000004        0.0   \n",
       "\n",
       "   wat_unimp_n  wat_sur_n  wat_bas_r  wat_lim_r  wat_unimp_r  wat_sur_r  \\\n",
       "0          NaN        NaN        NaN        NaN          NaN        NaN   \n",
       "1          NaN        NaN        NaN        NaN          NaN        NaN   \n",
       "2          NaN        NaN        NaN        NaN          NaN        NaN   \n",
       "3          0.0        0.0      100.0        0.0          0.0        0.0   \n",
       "4          0.0        0.0      100.0        0.0          0.0        0.0   \n",
       "\n",
       "    wat_bas_u  wat_lim_u  wat_unimp_u wat_sur_u  \n",
       "0  100.000000        0.0     0.000000         0  \n",
       "1  100.000000        0.0     0.000000         0  \n",
       "2   99.790421        0.0     0.209579         0  \n",
       "3  100.000000        0.0     0.000000         0  \n",
       "4  100.000000        0.0     0.000000         0  "
      ]
     },
     "execution_count": 150,
     "metadata": {},
     "output_type": "execute_result"
    }
   ],
   "source": [
    "data.head()"
   ]
  },
  {
   "cell_type": "code",
   "execution_count": 151,
   "metadata": {},
   "outputs": [
    {
     "data": {
      "text/html": [
       "<div>\n",
       "<style scoped>\n",
       "    .dataframe tbody tr th:only-of-type {\n",
       "        vertical-align: middle;\n",
       "    }\n",
       "\n",
       "    .dataframe tbody tr th {\n",
       "        vertical-align: top;\n",
       "    }\n",
       "\n",
       "    .dataframe thead th {\n",
       "        text-align: right;\n",
       "    }\n",
       "</style>\n",
       "<table border=\"1\" class=\"dataframe\">\n",
       "  <thead>\n",
       "    <tr style=\"text-align: right;\">\n",
       "      <th></th>\n",
       "      <th>name</th>\n",
       "      <th>year</th>\n",
       "      <th>pop_n</th>\n",
       "      <th>pop_u</th>\n",
       "      <th>wat_bas_n</th>\n",
       "      <th>wat_lim_n</th>\n",
       "      <th>wat_unimp_n</th>\n",
       "      <th>wat_sur_n</th>\n",
       "      <th>wat_bas_r</th>\n",
       "      <th>wat_lim_r</th>\n",
       "      <th>wat_unimp_r</th>\n",
       "      <th>wat_sur_r</th>\n",
       "      <th>wat_bas_u</th>\n",
       "      <th>wat_lim_u</th>\n",
       "      <th>wat_unimp_u</th>\n",
       "      <th>wat_sur_u</th>\n",
       "    </tr>\n",
       "  </thead>\n",
       "  <tbody>\n",
       "    <tr>\n",
       "      <th>459</th>\n",
       "      <td>Ethiopia</td>\n",
       "      <td>2015</td>\n",
       "      <td>100835.4531</td>\n",
       "      <td>19.428001</td>\n",
       "      <td>42.070067</td>\n",
       "      <td>21.738790</td>\n",
       "      <td>24.477856</td>\n",
       "      <td>11.713286</td>\n",
       "      <td>32.451767</td>\n",
       "      <td>23.598552</td>\n",
       "      <td>29.781556</td>\n",
       "      <td>14.168125</td>\n",
       "      <td>81.959177</td>\n",
       "      <td>14.025967</td>\n",
       "      <td>2.482300</td>\n",
       "      <td>1.532556439</td>\n",
       "    </tr>\n",
       "    <tr>\n",
       "      <th>460</th>\n",
       "      <td>Papua New Guinea</td>\n",
       "      <td>2015</td>\n",
       "      <td>8107.771973</td>\n",
       "      <td>13.012000</td>\n",
       "      <td>41.485508</td>\n",
       "      <td>1.809953</td>\n",
       "      <td>21.261052</td>\n",
       "      <td>35.443486</td>\n",
       "      <td>34.990633</td>\n",
       "      <td>1.804724</td>\n",
       "      <td>23.253549</td>\n",
       "      <td>39.951094</td>\n",
       "      <td>84.905143</td>\n",
       "      <td>1.844908</td>\n",
       "      <td>7.940776</td>\n",
       "      <td>5.309172598</td>\n",
       "    </tr>\n",
       "    <tr>\n",
       "      <th>461</th>\n",
       "      <td>South Sudan</td>\n",
       "      <td>2015</td>\n",
       "      <td>10715.65723</td>\n",
       "      <td>18.851999</td>\n",
       "      <td>41.247509</td>\n",
       "      <td>30.695737</td>\n",
       "      <td>13.554393</td>\n",
       "      <td>14.502360</td>\n",
       "      <td>36.726780</td>\n",
       "      <td>32.662800</td>\n",
       "      <td>14.310065</td>\n",
       "      <td>16.300355</td>\n",
       "      <td>60.706877</td>\n",
       "      <td>22.228554</td>\n",
       "      <td>10.301639</td>\n",
       "      <td>6.762929552</td>\n",
       "    </tr>\n",
       "    <tr>\n",
       "      <th>462</th>\n",
       "      <td>South Sudan</td>\n",
       "      <td>2020</td>\n",
       "      <td>11193.72852</td>\n",
       "      <td>20.198999</td>\n",
       "      <td>40.950927</td>\n",
       "      <td>37.426963</td>\n",
       "      <td>13.537555</td>\n",
       "      <td>8.084555</td>\n",
       "      <td>33.593629</td>\n",
       "      <td>42.164381</td>\n",
       "      <td>14.111096</td>\n",
       "      <td>10.130894</td>\n",
       "      <td>70.017704</td>\n",
       "      <td>18.710661</td>\n",
       "      <td>11.271635</td>\n",
       "      <td>0</td>\n",
       "    </tr>\n",
       "    <tr>\n",
       "      <th>463</th>\n",
       "      <td>Central African Republic</td>\n",
       "      <td>2020</td>\n",
       "      <td>4829.76416</td>\n",
       "      <td>42.197998</td>\n",
       "      <td>37.202402</td>\n",
       "      <td>25.682373</td>\n",
       "      <td>33.539114</td>\n",
       "      <td>3.576111</td>\n",
       "      <td>28.106594</td>\n",
       "      <td>19.405890</td>\n",
       "      <td>46.373073</td>\n",
       "      <td>6.114443</td>\n",
       "      <td>49.661665</td>\n",
       "      <td>34.279780</td>\n",
       "      <td>15.959402</td>\n",
       "      <td>0.09915281712</td>\n",
       "    </tr>\n",
       "  </tbody>\n",
       "</table>\n",
       "</div>"
      ],
      "text/plain": [
       "                         name  year        pop_n      pop_u  wat_bas_n  \\\n",
       "459                  Ethiopia  2015  100835.4531  19.428001  42.070067   \n",
       "460          Papua New Guinea  2015  8107.771973  13.012000  41.485508   \n",
       "461               South Sudan  2015  10715.65723  18.851999  41.247509   \n",
       "462               South Sudan  2020  11193.72852  20.198999  40.950927   \n",
       "463  Central African Republic  2020   4829.76416  42.197998  37.202402   \n",
       "\n",
       "     wat_lim_n  wat_unimp_n  wat_sur_n  wat_bas_r  wat_lim_r  wat_unimp_r  \\\n",
       "459  21.738790    24.477856  11.713286  32.451767  23.598552    29.781556   \n",
       "460   1.809953    21.261052  35.443486  34.990633   1.804724    23.253549   \n",
       "461  30.695737    13.554393  14.502360  36.726780  32.662800    14.310065   \n",
       "462  37.426963    13.537555   8.084555  33.593629  42.164381    14.111096   \n",
       "463  25.682373    33.539114   3.576111  28.106594  19.405890    46.373073   \n",
       "\n",
       "     wat_sur_r  wat_bas_u  wat_lim_u  wat_unimp_u      wat_sur_u  \n",
       "459  14.168125  81.959177  14.025967     2.482300    1.532556439  \n",
       "460  39.951094  84.905143   1.844908     7.940776    5.309172598  \n",
       "461  16.300355  60.706877  22.228554    10.301639    6.762929552  \n",
       "462  10.130894  70.017704  18.710661    11.271635              0  \n",
       "463   6.114443  49.661665  34.279780    15.959402  0.09915281712  "
      ]
     },
     "execution_count": 151,
     "metadata": {},
     "output_type": "execute_result"
    }
   ],
   "source": [
    "data.tail()"
   ]
  },
  {
   "cell_type": "code",
   "execution_count": 152,
   "metadata": {},
   "outputs": [
    {
     "name": "stdout",
     "output_type": "stream",
     "text": [
      "<class 'pandas.core.frame.DataFrame'>\n",
      "RangeIndex: 464 entries, 0 to 463\n",
      "Data columns (total 16 columns):\n",
      " #   Column       Non-Null Count  Dtype  \n",
      "---  ------       --------------  -----  \n",
      " 0   name         464 non-null    object \n",
      " 1   year         464 non-null    int64  \n",
      " 2   pop_n        464 non-null    object \n",
      " 3   pop_u        464 non-null    float64\n",
      " 4   wat_bas_n    461 non-null    float64\n",
      " 5   wat_lim_n    461 non-null    float64\n",
      " 6   wat_unimp_n  461 non-null    float64\n",
      " 7   wat_sur_n    446 non-null    float64\n",
      " 8   wat_bas_r    339 non-null    float64\n",
      " 9   wat_lim_r    339 non-null    float64\n",
      " 10  wat_unimp_r  339 non-null    float64\n",
      " 11  wat_sur_r    330 non-null    float64\n",
      " 12  wat_bas_u    364 non-null    float64\n",
      " 13  wat_lim_u    364 non-null    float64\n",
      " 14  wat_unimp_u  364 non-null    float64\n",
      " 15  wat_sur_u    361 non-null    object \n",
      "dtypes: float64(12), int64(1), object(3)\n",
      "memory usage: 58.1+ KB\n"
     ]
    }
   ],
   "source": [
    "data.info()"
   ]
  },
  {
   "cell_type": "markdown",
   "metadata": {},
   "source": [
    "The above results clearly show that:\n",
    "- There are 16 columns in the dataset.\n",
    "- The dataset contains a maximum of 464 ows in any single column.\n",
    "- There are several columns with missing values, as indicated by the non-null counts being less than the total number of rows (464).\n",
    "- There is a mix of data types in the dataset, including integers, floats, and objects (likely strings)."
   ]
  },
  {
   "cell_type": "code",
   "execution_count": 153,
   "metadata": {},
   "outputs": [
    {
     "data": {
      "text/html": [
       "<div>\n",
       "<style scoped>\n",
       "    .dataframe tbody tr th:only-of-type {\n",
       "        vertical-align: middle;\n",
       "    }\n",
       "\n",
       "    .dataframe tbody tr th {\n",
       "        vertical-align: top;\n",
       "    }\n",
       "\n",
       "    .dataframe thead th {\n",
       "        text-align: right;\n",
       "    }\n",
       "</style>\n",
       "<table border=\"1\" class=\"dataframe\">\n",
       "  <thead>\n",
       "    <tr style=\"text-align: right;\">\n",
       "      <th></th>\n",
       "      <th>year</th>\n",
       "      <th>pop_u</th>\n",
       "      <th>wat_bas_n</th>\n",
       "      <th>wat_lim_n</th>\n",
       "      <th>wat_unimp_n</th>\n",
       "      <th>wat_sur_n</th>\n",
       "      <th>wat_bas_r</th>\n",
       "      <th>wat_lim_r</th>\n",
       "      <th>wat_unimp_r</th>\n",
       "      <th>wat_sur_r</th>\n",
       "      <th>wat_bas_u</th>\n",
       "      <th>wat_lim_u</th>\n",
       "      <th>wat_unimp_u</th>\n",
       "    </tr>\n",
       "  </thead>\n",
       "  <tbody>\n",
       "    <tr>\n",
       "      <th>count</th>\n",
       "      <td>464.000000</td>\n",
       "      <td>464.000000</td>\n",
       "      <td>461.000000</td>\n",
       "      <td>461.000000</td>\n",
       "      <td>461.000000</td>\n",
       "      <td>446.000000</td>\n",
       "      <td>339.000000</td>\n",
       "      <td>339.000000</td>\n",
       "      <td>339.000000</td>\n",
       "      <td>330.000000</td>\n",
       "      <td>364.000000</td>\n",
       "      <td>364.000000</td>\n",
       "      <td>364.000000</td>\n",
       "    </tr>\n",
       "    <tr>\n",
       "      <th>mean</th>\n",
       "      <td>2017.398707</td>\n",
       "      <td>60.890215</td>\n",
       "      <td>89.174871</td>\n",
       "      <td>3.675032</td>\n",
       "      <td>4.984907</td>\n",
       "      <td>2.238010</td>\n",
       "      <td>79.453935</td>\n",
       "      <td>5.846687</td>\n",
       "      <td>9.712588</td>\n",
       "      <td>5.122794</td>\n",
       "      <td>94.170999</td>\n",
       "      <td>3.292272</td>\n",
       "      <td>2.135052</td>\n",
       "    </tr>\n",
       "    <tr>\n",
       "      <th>std</th>\n",
       "      <td>2.459714</td>\n",
       "      <td>25.052383</td>\n",
       "      <td>15.489866</td>\n",
       "      <td>6.513164</td>\n",
       "      <td>7.522532</td>\n",
       "      <td>4.420156</td>\n",
       "      <td>22.426280</td>\n",
       "      <td>8.269319</td>\n",
       "      <td>12.190953</td>\n",
       "      <td>7.732253</td>\n",
       "      <td>8.141636</td>\n",
       "      <td>5.380358</td>\n",
       "      <td>3.508875</td>\n",
       "    </tr>\n",
       "    <tr>\n",
       "      <th>min</th>\n",
       "      <td>2015.000000</td>\n",
       "      <td>0.000000</td>\n",
       "      <td>37.202402</td>\n",
       "      <td>0.000000</td>\n",
       "      <td>0.000000</td>\n",
       "      <td>0.000000</td>\n",
       "      <td>20.622514</td>\n",
       "      <td>0.000000</td>\n",
       "      <td>0.000000</td>\n",
       "      <td>0.000000</td>\n",
       "      <td>49.661665</td>\n",
       "      <td>0.000000</td>\n",
       "      <td>0.000000</td>\n",
       "    </tr>\n",
       "    <tr>\n",
       "      <th>25%</th>\n",
       "      <td>2015.000000</td>\n",
       "      <td>41.839750</td>\n",
       "      <td>85.495601</td>\n",
       "      <td>0.000000</td>\n",
       "      <td>0.108476</td>\n",
       "      <td>0.000000</td>\n",
       "      <td>62.353529</td>\n",
       "      <td>0.000000</td>\n",
       "      <td>0.352567</td>\n",
       "      <td>0.000000</td>\n",
       "      <td>91.009838</td>\n",
       "      <td>0.000000</td>\n",
       "      <td>0.000000</td>\n",
       "    </tr>\n",
       "    <tr>\n",
       "      <th>50%</th>\n",
       "      <td>2015.500000</td>\n",
       "      <td>62.281998</td>\n",
       "      <td>96.604139</td>\n",
       "      <td>0.406530</td>\n",
       "      <td>1.344803</td>\n",
       "      <td>0.009381</td>\n",
       "      <td>89.875800</td>\n",
       "      <td>1.804724</td>\n",
       "      <td>4.310939</td>\n",
       "      <td>0.713097</td>\n",
       "      <td>97.836161</td>\n",
       "      <td>0.671124</td>\n",
       "      <td>0.639986</td>\n",
       "    </tr>\n",
       "    <tr>\n",
       "      <th>75%</th>\n",
       "      <td>2020.000000</td>\n",
       "      <td>81.416750</td>\n",
       "      <td>99.765173</td>\n",
       "      <td>4.692599</td>\n",
       "      <td>6.163618</td>\n",
       "      <td>2.303579</td>\n",
       "      <td>98.587231</td>\n",
       "      <td>8.768605</td>\n",
       "      <td>15.371147</td>\n",
       "      <td>7.727167</td>\n",
       "      <td>99.866205</td>\n",
       "      <td>4.234145</td>\n",
       "      <td>2.662380</td>\n",
       "    </tr>\n",
       "    <tr>\n",
       "      <th>max</th>\n",
       "      <td>2020.000000</td>\n",
       "      <td>100.000000</td>\n",
       "      <td>100.000005</td>\n",
       "      <td>37.426963</td>\n",
       "      <td>34.719560</td>\n",
       "      <td>35.443486</td>\n",
       "      <td>100.000000</td>\n",
       "      <td>42.164381</td>\n",
       "      <td>51.215982</td>\n",
       "      <td>41.629254</td>\n",
       "      <td>100.000000</td>\n",
       "      <td>34.279780</td>\n",
       "      <td>19.835807</td>\n",
       "    </tr>\n",
       "  </tbody>\n",
       "</table>\n",
       "</div>"
      ],
      "text/plain": [
       "              year       pop_u   wat_bas_n   wat_lim_n  wat_unimp_n  \\\n",
       "count   464.000000  464.000000  461.000000  461.000000   461.000000   \n",
       "mean   2017.398707   60.890215   89.174871    3.675032     4.984907   \n",
       "std       2.459714   25.052383   15.489866    6.513164     7.522532   \n",
       "min    2015.000000    0.000000   37.202402    0.000000     0.000000   \n",
       "25%    2015.000000   41.839750   85.495601    0.000000     0.108476   \n",
       "50%    2015.500000   62.281998   96.604139    0.406530     1.344803   \n",
       "75%    2020.000000   81.416750   99.765173    4.692599     6.163618   \n",
       "max    2020.000000  100.000000  100.000005   37.426963    34.719560   \n",
       "\n",
       "        wat_sur_n   wat_bas_r   wat_lim_r  wat_unimp_r   wat_sur_r  \\\n",
       "count  446.000000  339.000000  339.000000   339.000000  330.000000   \n",
       "mean     2.238010   79.453935    5.846687     9.712588    5.122794   \n",
       "std      4.420156   22.426280    8.269319    12.190953    7.732253   \n",
       "min      0.000000   20.622514    0.000000     0.000000    0.000000   \n",
       "25%      0.000000   62.353529    0.000000     0.352567    0.000000   \n",
       "50%      0.009381   89.875800    1.804724     4.310939    0.713097   \n",
       "75%      2.303579   98.587231    8.768605    15.371147    7.727167   \n",
       "max     35.443486  100.000000   42.164381    51.215982   41.629254   \n",
       "\n",
       "        wat_bas_u   wat_lim_u  wat_unimp_u  \n",
       "count  364.000000  364.000000   364.000000  \n",
       "mean    94.170999    3.292272     2.135052  \n",
       "std      8.141636    5.380358     3.508875  \n",
       "min     49.661665    0.000000     0.000000  \n",
       "25%     91.009838    0.000000     0.000000  \n",
       "50%     97.836161    0.671124     0.639986  \n",
       "75%     99.866205    4.234145     2.662380  \n",
       "max    100.000000   34.279780    19.835807  "
      ]
     },
     "execution_count": 153,
     "metadata": {},
     "output_type": "execute_result"
    }
   ],
   "source": [
    "data.describe()"
   ]
  },
  {
   "cell_type": "markdown",
   "metadata": {},
   "source": [
    "The above summary statistics provide a good starting point for understanding the dataset's structure and content. For example, the range of years (min = 2015, max = 2020, mean = 2017) indicates that the dataset spans from 2015 to 2020. The urban population percentage ranges from 0 to 100, which is expected, while the water access percentages are also within the range of 0 to 100, as expected. Additionally, summing up the water access percentages for basic, limited, unimproved, and surface water for rural/urban/national gives 100 for each row, as these categories are mutually exclusive."
   ]
  },
  {
   "cell_type": "code",
   "execution_count": 154,
   "metadata": {},
   "outputs": [
    {
     "data": {
      "text/plain": [
       "array([2020, 2015, 2017, 2019, 2016, 2018], dtype=int64)"
      ]
     },
     "execution_count": 154,
     "metadata": {},
     "output_type": "execute_result"
    }
   ],
   "source": [
    "data.year.unique()"
   ]
  },
  {
   "cell_type": "markdown",
   "metadata": {},
   "source": [
    "To further confirm the hypothesis about the number of years in the dataset, we can check the unique values in the 'year' column which yields an array of years from 2015 to 2020. This confirms that the dataset spans six years, as expected."
   ]
  },
  {
   "cell_type": "markdown",
   "metadata": {},
   "source": [
    "To gain a rough idea of the distribution of each column, we can plot histograms for each numerical column. This will help us understand the range and distribution of values in each column."
   ]
  },
  {
   "cell_type": "code",
   "execution_count": 155,
   "metadata": {},
   "outputs": [
    {
     "data": {
      "text/plain": [
       "<Figure size 2000x1500 with 0 Axes>"
      ]
     },
     "metadata": {},
     "output_type": "display_data"
    },
    {
     "data": {
      "image/png": "[encoded data removed]",
      "text/plain": [
       "<Figure size 640x480 with 16 Axes>"
      ]
     },
     "metadata": {},
     "output_type": "display_data"
    }
   ],
   "source": [
    "import matplotlib.pyplot as plt\n",
    "plt.figure(figsize=(20, 15))\n",
    "\n",
    "data.hist()\n",
    "\n",
    "plt.tight_layout()\n",
    "plt.show()"
   ]
  },
  {
   "cell_type": "markdown",
   "metadata": {},
   "source": [
    "Three glaring omissions from the above histograms are the columns 'name', 'wat_sur_u', and 'pop_n'. The 'name' column is a categorical column, and as such, a histogram is not the most appropriate visualization. The 'pop_n' and 'wat_sur_u' columns, on the other hand, are numerical columns, but appear to be encoded as strings. This is likely due to the presence of commas in the numbers, which causes pandas to interpret them as strings. We can convert these columns to a numerical data type by removing the commas and converting the values to integers.\n",
    "\n",
    "The name column is a categorical column that represents the country names. To visualize this column, we can use a bar plot to show the distribution of countries in the dataset. This will help us understand how many data points we have for each country."
   ]
  },
  {
   "cell_type": "code",
   "execution_count": 156,
   "metadata": {},
   "outputs": [
    {
     "data": {
      "text/plain": [
       "dtype('O')"
      ]
     },
     "execution_count": 156,
     "metadata": {},
     "output_type": "execute_result"
    }
   ],
   "source": [
    "data['pop_n'].dtypes"
   ]
  },
  {
   "cell_type": "code",
   "execution_count": 157,
   "metadata": {},
   "outputs": [
    {
     "data": {
      "text/plain": [
       "dtype('O')"
      ]
     },
     "execution_count": 157,
     "metadata": {},
     "output_type": "execute_result"
    }
   ],
   "source": [
    "data['wat_sur_u'].dtypes"
   ]
  },
  {
   "cell_type": "code",
   "execution_count": 158,
   "metadata": {},
   "outputs": [],
   "source": [
    "data['pop_n'] = data['pop_n'].str.replace(',', '').str.replace(' ', repl='').astype(float)"
   ]
  },
  {
   "cell_type": "code",
   "execution_count": 159,
   "metadata": {},
   "outputs": [
    {
     "name": "stderr",
     "output_type": "stream",
     "text": [
      "FutureWarning: A value is trying to be set on a copy of a DataFrame or Series through chained assignment using an inplace method.\n",
      "The behavior will change in pandas 3.0. This inplace method will never work because the intermediate object on which we are setting values always behaves as a copy.\n",
      "\n",
      "For example, when doing 'df[col].method(value, inplace=True)', try using 'df.method({col: value}, inplace=True)' or df[col] = df[col].method(value) instead, to perform the operation inplace on the original object.\n",
      "\n",
      "\n"
     ]
    }
   ],
   "source": [
    "data['wat_sur_u'].fillna('0', inplace=True)\n",
    "data['wat_sur_u'] = data['wat_sur_u'].apply(lambda x: 0 if '<' in str(x) else float(x) * 1000)"
   ]
  },
  {
   "cell_type": "code",
   "execution_count": 160,
   "metadata": {},
   "outputs": [
    {
     "data": {
      "text/plain": [
       "dtype('float64')"
      ]
     },
     "execution_count": 160,
     "metadata": {},
     "output_type": "execute_result"
    }
   ],
   "source": [
    "data['wat_sur_u'].dtypes"
   ]
  },
  {
   "cell_type": "code",
   "execution_count": 161,
   "metadata": {},
   "outputs": [
    {
     "data": {
      "text/plain": [
       "dtype('float64')"
      ]
     },
     "execution_count": 161,
     "metadata": {},
     "output_type": "execute_result"
    }
   ],
   "source": [
    "data['pop_n'].dtypes"
   ]
  },
  {
   "cell_type": "code",
   "execution_count": 162,
   "metadata": {},
   "outputs": [
    {
     "data": {
      "text/plain": [
       "<Figure size 2000x1500 with 0 Axes>"
      ]
     },
     "metadata": {},
     "output_type": "display_data"
    },
    {
     "data": {
      "image/png": "[encoded data removed]",
      "text/plain": [
       "<Figure size 640x480 with 16 Axes>"
      ]
     },
     "metadata": {},
     "output_type": "display_data"
    }
   ],
   "source": [
    "import matplotlib.pyplot as plt\n",
    "plt.figure(figsize=(20, 15))\n",
    "\n",
    "data.hist()\n",
    "\n",
    "plt.tight_layout()\n",
    "plt.show()"
   ]
  },
  {
   "cell_type": "markdown",
   "metadata": {},
   "source": [
    "The histogram suggests that the dataset contains data for multiple countries, with some countries having more data points than others. Additionally, not all the years from 2015 to 2020 are present for each country, as indicated by the varying heights of the bars with the 2 peaks being at 2015 and 2020."
   ]
  },
  {
   "cell_type": "markdown",
   "metadata": {},
   "source": [
    "To further explore the distribution of the data, we can group the dataset by year and calculate the mean values for each column. This will give us an overview of the average water access percentages, population, and urban population percentage for each year."
   ]
  },
  {
   "cell_type": "code",
   "execution_count": 163,
   "metadata": {},
   "outputs": [
    {
     "data": {
      "text/html": [
       "<div>\n",
       "<style scoped>\n",
       "    .dataframe tbody tr th:only-of-type {\n",
       "        vertical-align: middle;\n",
       "    }\n",
       "\n",
       "    .dataframe tbody tr th {\n",
       "        vertical-align: top;\n",
       "    }\n",
       "\n",
       "    .dataframe thead th {\n",
       "        text-align: right;\n",
       "    }\n",
       "</style>\n",
       "<table border=\"1\" class=\"dataframe\">\n",
       "  <thead>\n",
       "    <tr style=\"text-align: right;\">\n",
       "      <th></th>\n",
       "      <th>name</th>\n",
       "      <th>pop_n</th>\n",
       "      <th>pop_u</th>\n",
       "      <th>wat_bas_n</th>\n",
       "      <th>wat_lim_n</th>\n",
       "      <th>wat_unimp_n</th>\n",
       "      <th>wat_sur_n</th>\n",
       "      <th>wat_bas_r</th>\n",
       "      <th>wat_lim_r</th>\n",
       "      <th>wat_unimp_r</th>\n",
       "      <th>wat_sur_r</th>\n",
       "      <th>wat_bas_u</th>\n",
       "      <th>wat_lim_u</th>\n",
       "      <th>wat_unimp_u</th>\n",
       "      <th>wat_sur_u</th>\n",
       "    </tr>\n",
       "    <tr>\n",
       "      <th>year</th>\n",
       "      <th></th>\n",
       "      <th></th>\n",
       "      <th></th>\n",
       "      <th></th>\n",
       "      <th></th>\n",
       "      <th></th>\n",
       "      <th></th>\n",
       "      <th></th>\n",
       "      <th></th>\n",
       "      <th></th>\n",
       "      <th></th>\n",
       "      <th></th>\n",
       "      <th></th>\n",
       "      <th></th>\n",
       "      <th></th>\n",
       "    </tr>\n",
       "  </thead>\n",
       "  <tbody>\n",
       "    <tr>\n",
       "      <th>2015</th>\n",
       "      <td>232</td>\n",
       "      <td>232</td>\n",
       "      <td>232</td>\n",
       "      <td>231</td>\n",
       "      <td>231</td>\n",
       "      <td>231</td>\n",
       "      <td>227</td>\n",
       "      <td>171</td>\n",
       "      <td>171</td>\n",
       "      <td>171</td>\n",
       "      <td>168</td>\n",
       "      <td>182</td>\n",
       "      <td>182</td>\n",
       "      <td>182</td>\n",
       "      <td>232</td>\n",
       "    </tr>\n",
       "    <tr>\n",
       "      <th>2016</th>\n",
       "      <td>3</td>\n",
       "      <td>3</td>\n",
       "      <td>3</td>\n",
       "      <td>3</td>\n",
       "      <td>3</td>\n",
       "      <td>3</td>\n",
       "      <td>3</td>\n",
       "      <td>1</td>\n",
       "      <td>1</td>\n",
       "      <td>1</td>\n",
       "      <td>1</td>\n",
       "      <td>2</td>\n",
       "      <td>2</td>\n",
       "      <td>2</td>\n",
       "      <td>3</td>\n",
       "    </tr>\n",
       "    <tr>\n",
       "      <th>2017</th>\n",
       "      <td>9</td>\n",
       "      <td>9</td>\n",
       "      <td>9</td>\n",
       "      <td>9</td>\n",
       "      <td>9</td>\n",
       "      <td>9</td>\n",
       "      <td>9</td>\n",
       "      <td>1</td>\n",
       "      <td>1</td>\n",
       "      <td>1</td>\n",
       "      <td>1</td>\n",
       "      <td>3</td>\n",
       "      <td>3</td>\n",
       "      <td>3</td>\n",
       "      <td>9</td>\n",
       "    </tr>\n",
       "    <tr>\n",
       "      <th>2018</th>\n",
       "      <td>2</td>\n",
       "      <td>2</td>\n",
       "      <td>2</td>\n",
       "      <td>2</td>\n",
       "      <td>2</td>\n",
       "      <td>2</td>\n",
       "      <td>1</td>\n",
       "      <td>0</td>\n",
       "      <td>0</td>\n",
       "      <td>0</td>\n",
       "      <td>0</td>\n",
       "      <td>0</td>\n",
       "      <td>0</td>\n",
       "      <td>0</td>\n",
       "      <td>2</td>\n",
       "    </tr>\n",
       "    <tr>\n",
       "      <th>2019</th>\n",
       "      <td>4</td>\n",
       "      <td>4</td>\n",
       "      <td>4</td>\n",
       "      <td>4</td>\n",
       "      <td>4</td>\n",
       "      <td>4</td>\n",
       "      <td>1</td>\n",
       "      <td>1</td>\n",
       "      <td>1</td>\n",
       "      <td>1</td>\n",
       "      <td>0</td>\n",
       "      <td>1</td>\n",
       "      <td>1</td>\n",
       "      <td>1</td>\n",
       "      <td>4</td>\n",
       "    </tr>\n",
       "    <tr>\n",
       "      <th>2020</th>\n",
       "      <td>214</td>\n",
       "      <td>214</td>\n",
       "      <td>214</td>\n",
       "      <td>212</td>\n",
       "      <td>212</td>\n",
       "      <td>212</td>\n",
       "      <td>205</td>\n",
       "      <td>165</td>\n",
       "      <td>165</td>\n",
       "      <td>165</td>\n",
       "      <td>160</td>\n",
       "      <td>176</td>\n",
       "      <td>176</td>\n",
       "      <td>176</td>\n",
       "      <td>214</td>\n",
       "    </tr>\n",
       "  </tbody>\n",
       "</table>\n",
       "</div>"
      ],
      "text/plain": [
       "      name  pop_n  pop_u  wat_bas_n  wat_lim_n  wat_unimp_n  wat_sur_n  \\\n",
       "year                                                                     \n",
       "2015   232    232    232        231        231          231        227   \n",
       "2016     3      3      3          3          3            3          3   \n",
       "2017     9      9      9          9          9            9          9   \n",
       "2018     2      2      2          2          2            2          1   \n",
       "2019     4      4      4          4          4            4          1   \n",
       "2020   214    214    214        212        212          212        205   \n",
       "\n",
       "      wat_bas_r  wat_lim_r  wat_unimp_r  wat_sur_r  wat_bas_u  wat_lim_u  \\\n",
       "year                                                                       \n",
       "2015        171        171          171        168        182        182   \n",
       "2016          1          1            1          1          2          2   \n",
       "2017          1          1            1          1          3          3   \n",
       "2018          0          0            0          0          0          0   \n",
       "2019          1          1            1          0          1          1   \n",
       "2020        165        165          165        160        176        176   \n",
       "\n",
       "      wat_unimp_u  wat_sur_u  \n",
       "year                          \n",
       "2015          182        232  \n",
       "2016            2          3  \n",
       "2017            3          9  \n",
       "2018            0          2  \n",
       "2019            1          4  \n",
       "2020          176        214  "
      ]
     },
     "execution_count": 163,
     "metadata": {},
     "output_type": "execute_result"
    }
   ],
   "source": [
    "count_frame = data.groupby('year').count()\n",
    "count_frame"
   ]
  },
  {
   "cell_type": "code",
   "execution_count": 164,
   "metadata": {},
   "outputs": [
    {
     "data": {
      "text/plain": [
       "<Figure size 2000x1500 with 0 Axes>"
      ]
     },
     "metadata": {},
     "output_type": "display_data"
    },
    {
     "data": {
      "image/png": "[encoded data removed]",
      "text/plain": [
       "<Figure size 640x480 with 16 Axes>"
      ]
     },
     "metadata": {},
     "output_type": "display_data"
    }
   ],
   "source": [
    "import matplotlib.pyplot as plt\n",
    "plt.figure(figsize=(20, 15))\n",
    "\n",
    "count_frame.hist()\n",
    "\n",
    "plt.tight_layout()\n",
    "plt.show()"
   ]
  },
  {
   "cell_type": "code",
   "execution_count": 165,
   "metadata": {},
   "outputs": [
    {
     "data": {
      "text/html": [
       "<div>\n",
       "<style scoped>\n",
       "    .dataframe tbody tr th:only-of-type {\n",
       "        vertical-align: middle;\n",
       "    }\n",
       "\n",
       "    .dataframe tbody tr th {\n",
       "        vertical-align: top;\n",
       "    }\n",
       "\n",
       "    .dataframe thead th {\n",
       "        text-align: right;\n",
       "    }\n",
       "</style>\n",
       "<table border=\"1\" class=\"dataframe\">\n",
       "  <thead>\n",
       "    <tr style=\"text-align: right;\">\n",
       "      <th></th>\n",
       "      <th>name</th>\n",
       "      <th>pop_n</th>\n",
       "      <th>pop_u</th>\n",
       "      <th>wat_bas_n</th>\n",
       "      <th>wat_lim_n</th>\n",
       "      <th>wat_unimp_n</th>\n",
       "      <th>wat_sur_n</th>\n",
       "      <th>wat_bas_r</th>\n",
       "      <th>wat_lim_r</th>\n",
       "      <th>wat_unimp_r</th>\n",
       "      <th>wat_sur_r</th>\n",
       "      <th>wat_bas_u</th>\n",
       "      <th>wat_lim_u</th>\n",
       "      <th>wat_unimp_u</th>\n",
       "      <th>wat_sur_u</th>\n",
       "    </tr>\n",
       "  </thead>\n",
       "  <tbody>\n",
       "    <tr>\n",
       "      <th>count</th>\n",
       "      <td>6.000000</td>\n",
       "      <td>6.000000</td>\n",
       "      <td>6.000000</td>\n",
       "      <td>6.000000</td>\n",
       "      <td>6.000000</td>\n",
       "      <td>6.000000</td>\n",
       "      <td>6.000000</td>\n",
       "      <td>6.000000</td>\n",
       "      <td>6.000000</td>\n",
       "      <td>6.000000</td>\n",
       "      <td>6.000000</td>\n",
       "      <td>6.000000</td>\n",
       "      <td>6.000000</td>\n",
       "      <td>6.000000</td>\n",
       "      <td>6.000000</td>\n",
       "    </tr>\n",
       "    <tr>\n",
       "      <th>mean</th>\n",
       "      <td>77.333333</td>\n",
       "      <td>77.333333</td>\n",
       "      <td>77.333333</td>\n",
       "      <td>76.833333</td>\n",
       "      <td>76.833333</td>\n",
       "      <td>76.833333</td>\n",
       "      <td>74.333333</td>\n",
       "      <td>56.500000</td>\n",
       "      <td>56.500000</td>\n",
       "      <td>56.500000</td>\n",
       "      <td>55.000000</td>\n",
       "      <td>60.666667</td>\n",
       "      <td>60.666667</td>\n",
       "      <td>60.666667</td>\n",
       "      <td>77.333333</td>\n",
       "    </tr>\n",
       "    <tr>\n",
       "      <th>std</th>\n",
       "      <td>113.002065</td>\n",
       "      <td>113.002065</td>\n",
       "      <td>113.002065</td>\n",
       "      <td>112.245119</td>\n",
       "      <td>112.245119</td>\n",
       "      <td>112.245119</td>\n",
       "      <td>109.993939</td>\n",
       "      <td>86.389235</td>\n",
       "      <td>86.389235</td>\n",
       "      <td>86.389235</td>\n",
       "      <td>84.470113</td>\n",
       "      <td>91.685695</td>\n",
       "      <td>91.685695</td>\n",
       "      <td>91.685695</td>\n",
       "      <td>113.002065</td>\n",
       "    </tr>\n",
       "    <tr>\n",
       "      <th>min</th>\n",
       "      <td>2.000000</td>\n",
       "      <td>2.000000</td>\n",
       "      <td>2.000000</td>\n",
       "      <td>2.000000</td>\n",
       "      <td>2.000000</td>\n",
       "      <td>2.000000</td>\n",
       "      <td>1.000000</td>\n",
       "      <td>0.000000</td>\n",
       "      <td>0.000000</td>\n",
       "      <td>0.000000</td>\n",
       "      <td>0.000000</td>\n",
       "      <td>0.000000</td>\n",
       "      <td>0.000000</td>\n",
       "      <td>0.000000</td>\n",
       "      <td>2.000000</td>\n",
       "    </tr>\n",
       "    <tr>\n",
       "      <th>25%</th>\n",
       "      <td>3.250000</td>\n",
       "      <td>3.250000</td>\n",
       "      <td>3.250000</td>\n",
       "      <td>3.250000</td>\n",
       "      <td>3.250000</td>\n",
       "      <td>3.250000</td>\n",
       "      <td>1.500000</td>\n",
       "      <td>1.000000</td>\n",
       "      <td>1.000000</td>\n",
       "      <td>1.000000</td>\n",
       "      <td>0.250000</td>\n",
       "      <td>1.250000</td>\n",
       "      <td>1.250000</td>\n",
       "      <td>1.250000</td>\n",
       "      <td>3.250000</td>\n",
       "    </tr>\n",
       "    <tr>\n",
       "      <th>50%</th>\n",
       "      <td>6.500000</td>\n",
       "      <td>6.500000</td>\n",
       "      <td>6.500000</td>\n",
       "      <td>6.500000</td>\n",
       "      <td>6.500000</td>\n",
       "      <td>6.500000</td>\n",
       "      <td>6.000000</td>\n",
       "      <td>1.000000</td>\n",
       "      <td>1.000000</td>\n",
       "      <td>1.000000</td>\n",
       "      <td>1.000000</td>\n",
       "      <td>2.500000</td>\n",
       "      <td>2.500000</td>\n",
       "      <td>2.500000</td>\n",
       "      <td>6.500000</td>\n",
       "    </tr>\n",
       "    <tr>\n",
       "      <th>75%</th>\n",
       "      <td>162.750000</td>\n",
       "      <td>162.750000</td>\n",
       "      <td>162.750000</td>\n",
       "      <td>161.250000</td>\n",
       "      <td>161.250000</td>\n",
       "      <td>161.250000</td>\n",
       "      <td>156.000000</td>\n",
       "      <td>124.000000</td>\n",
       "      <td>124.000000</td>\n",
       "      <td>124.000000</td>\n",
       "      <td>120.250000</td>\n",
       "      <td>132.750000</td>\n",
       "      <td>132.750000</td>\n",
       "      <td>132.750000</td>\n",
       "      <td>162.750000</td>\n",
       "    </tr>\n",
       "    <tr>\n",
       "      <th>max</th>\n",
       "      <td>232.000000</td>\n",
       "      <td>232.000000</td>\n",
       "      <td>232.000000</td>\n",
       "      <td>231.000000</td>\n",
       "      <td>231.000000</td>\n",
       "      <td>231.000000</td>\n",
       "      <td>227.000000</td>\n",
       "      <td>171.000000</td>\n",
       "      <td>171.000000</td>\n",
       "      <td>171.000000</td>\n",
       "      <td>168.000000</td>\n",
       "      <td>182.000000</td>\n",
       "      <td>182.000000</td>\n",
       "      <td>182.000000</td>\n",
       "      <td>232.000000</td>\n",
       "    </tr>\n",
       "  </tbody>\n",
       "</table>\n",
       "</div>"
      ],
      "text/plain": [
       "             name       pop_n       pop_u   wat_bas_n   wat_lim_n  \\\n",
       "count    6.000000    6.000000    6.000000    6.000000    6.000000   \n",
       "mean    77.333333   77.333333   77.333333   76.833333   76.833333   \n",
       "std    113.002065  113.002065  113.002065  112.245119  112.245119   \n",
       "min      2.000000    2.000000    2.000000    2.000000    2.000000   \n",
       "25%      3.250000    3.250000    3.250000    3.250000    3.250000   \n",
       "50%      6.500000    6.500000    6.500000    6.500000    6.500000   \n",
       "75%    162.750000  162.750000  162.750000  161.250000  161.250000   \n",
       "max    232.000000  232.000000  232.000000  231.000000  231.000000   \n",
       "\n",
       "       wat_unimp_n   wat_sur_n   wat_bas_r   wat_lim_r  wat_unimp_r  \\\n",
       "count     6.000000    6.000000    6.000000    6.000000     6.000000   \n",
       "mean     76.833333   74.333333   56.500000   56.500000    56.500000   \n",
       "std     112.245119  109.993939   86.389235   86.389235    86.389235   \n",
       "min       2.000000    1.000000    0.000000    0.000000     0.000000   \n",
       "25%       3.250000    1.500000    1.000000    1.000000     1.000000   \n",
       "50%       6.500000    6.000000    1.000000    1.000000     1.000000   \n",
       "75%     161.250000  156.000000  124.000000  124.000000   124.000000   \n",
       "max     231.000000  227.000000  171.000000  171.000000   171.000000   \n",
       "\n",
       "        wat_sur_r   wat_bas_u   wat_lim_u  wat_unimp_u   wat_sur_u  \n",
       "count    6.000000    6.000000    6.000000     6.000000    6.000000  \n",
       "mean    55.000000   60.666667   60.666667    60.666667   77.333333  \n",
       "std     84.470113   91.685695   91.685695    91.685695  113.002065  \n",
       "min      0.000000    0.000000    0.000000     0.000000    2.000000  \n",
       "25%      0.250000    1.250000    1.250000     1.250000    3.250000  \n",
       "50%      1.000000    2.500000    2.500000     2.500000    6.500000  \n",
       "75%    120.250000  132.750000  132.750000   132.750000  162.750000  \n",
       "max    168.000000  182.000000  182.000000   182.000000  232.000000  "
      ]
     },
     "execution_count": 165,
     "metadata": {},
     "output_type": "execute_result"
    }
   ],
   "source": [
    "count_frame.describe()"
   ]
  },
  {
   "cell_type": "markdown",
   "metadata": {},
   "source": [
    "The summary statistics confirm that there are 6 unique years in the dataset (2015-2020), and each year on average, has 77 data points. However, the standard deviation for the number of data points per year is quite high, indicating that there is significant variability in the number of data points across years. The median of 6.5 data points per year suggests that the distribution is skewed, with some years having more data points than others, with the min and max values being 2 and 232, respectively."
   ]
  },
  {
   "cell_type": "markdown",
   "metadata": {},
   "source": [
    "It is worth exploring the dataset grouped by country to understand the distribution of data points for each country. This will help us identify countries with more data points and those with fewer data points, which could be useful for further analysis."
   ]
  },
  {
   "cell_type": "code",
   "execution_count": 166,
   "metadata": {},
   "outputs": [
    {
     "data": {
      "text/html": [
       "<div>\n",
       "<style scoped>\n",
       "    .dataframe tbody tr th:only-of-type {\n",
       "        vertical-align: middle;\n",
       "    }\n",
       "\n",
       "    .dataframe tbody tr th {\n",
       "        vertical-align: top;\n",
       "    }\n",
       "\n",
       "    .dataframe thead th {\n",
       "        text-align: right;\n",
       "    }\n",
       "</style>\n",
       "<table border=\"1\" class=\"dataframe\">\n",
       "  <thead>\n",
       "    <tr style=\"text-align: right;\">\n",
       "      <th></th>\n",
       "      <th>year</th>\n",
       "      <th>pop_n</th>\n",
       "      <th>pop_u</th>\n",
       "      <th>wat_bas_n</th>\n",
       "      <th>wat_lim_n</th>\n",
       "      <th>wat_unimp_n</th>\n",
       "      <th>wat_sur_n</th>\n",
       "      <th>wat_bas_r</th>\n",
       "      <th>wat_lim_r</th>\n",
       "      <th>wat_unimp_r</th>\n",
       "      <th>wat_sur_r</th>\n",
       "      <th>wat_bas_u</th>\n",
       "      <th>wat_lim_u</th>\n",
       "      <th>wat_unimp_u</th>\n",
       "      <th>wat_sur_u</th>\n",
       "    </tr>\n",
       "    <tr>\n",
       "      <th>name</th>\n",
       "      <th></th>\n",
       "      <th></th>\n",
       "      <th></th>\n",
       "      <th></th>\n",
       "      <th></th>\n",
       "      <th></th>\n",
       "      <th></th>\n",
       "      <th></th>\n",
       "      <th></th>\n",
       "      <th></th>\n",
       "      <th></th>\n",
       "      <th></th>\n",
       "      <th></th>\n",
       "      <th></th>\n",
       "      <th></th>\n",
       "    </tr>\n",
       "  </thead>\n",
       "  <tbody>\n",
       "    <tr>\n",
       "      <th>Afghanistan</th>\n",
       "      <td>2</td>\n",
       "      <td>2</td>\n",
       "      <td>2</td>\n",
       "      <td>2</td>\n",
       "      <td>2</td>\n",
       "      <td>2</td>\n",
       "      <td>2</td>\n",
       "      <td>2</td>\n",
       "      <td>2</td>\n",
       "      <td>2</td>\n",
       "      <td>2</td>\n",
       "      <td>2</td>\n",
       "      <td>2</td>\n",
       "      <td>2</td>\n",
       "      <td>2</td>\n",
       "    </tr>\n",
       "    <tr>\n",
       "      <th>Albania</th>\n",
       "      <td>2</td>\n",
       "      <td>2</td>\n",
       "      <td>2</td>\n",
       "      <td>2</td>\n",
       "      <td>2</td>\n",
       "      <td>2</td>\n",
       "      <td>2</td>\n",
       "      <td>2</td>\n",
       "      <td>2</td>\n",
       "      <td>2</td>\n",
       "      <td>2</td>\n",
       "      <td>2</td>\n",
       "      <td>2</td>\n",
       "      <td>2</td>\n",
       "      <td>2</td>\n",
       "    </tr>\n",
       "    <tr>\n",
       "      <th>Algeria</th>\n",
       "      <td>2</td>\n",
       "      <td>2</td>\n",
       "      <td>2</td>\n",
       "      <td>2</td>\n",
       "      <td>2</td>\n",
       "      <td>2</td>\n",
       "      <td>2</td>\n",
       "      <td>2</td>\n",
       "      <td>2</td>\n",
       "      <td>2</td>\n",
       "      <td>2</td>\n",
       "      <td>2</td>\n",
       "      <td>2</td>\n",
       "      <td>2</td>\n",
       "      <td>2</td>\n",
       "    </tr>\n",
       "    <tr>\n",
       "      <th>American Samoa</th>\n",
       "      <td>2</td>\n",
       "      <td>2</td>\n",
       "      <td>2</td>\n",
       "      <td>2</td>\n",
       "      <td>2</td>\n",
       "      <td>2</td>\n",
       "      <td>2</td>\n",
       "      <td>0</td>\n",
       "      <td>0</td>\n",
       "      <td>0</td>\n",
       "      <td>0</td>\n",
       "      <td>0</td>\n",
       "      <td>0</td>\n",
       "      <td>0</td>\n",
       "      <td>2</td>\n",
       "    </tr>\n",
       "    <tr>\n",
       "      <th>Andorra</th>\n",
       "      <td>2</td>\n",
       "      <td>2</td>\n",
       "      <td>2</td>\n",
       "      <td>2</td>\n",
       "      <td>2</td>\n",
       "      <td>2</td>\n",
       "      <td>2</td>\n",
       "      <td>2</td>\n",
       "      <td>2</td>\n",
       "      <td>2</td>\n",
       "      <td>2</td>\n",
       "      <td>2</td>\n",
       "      <td>2</td>\n",
       "      <td>2</td>\n",
       "      <td>2</td>\n",
       "    </tr>\n",
       "    <tr>\n",
       "      <th>...</th>\n",
       "      <td>...</td>\n",
       "      <td>...</td>\n",
       "      <td>...</td>\n",
       "      <td>...</td>\n",
       "      <td>...</td>\n",
       "      <td>...</td>\n",
       "      <td>...</td>\n",
       "      <td>...</td>\n",
       "      <td>...</td>\n",
       "      <td>...</td>\n",
       "      <td>...</td>\n",
       "      <td>...</td>\n",
       "      <td>...</td>\n",
       "      <td>...</td>\n",
       "      <td>...</td>\n",
       "    </tr>\n",
       "    <tr>\n",
       "      <th>Wallis and Futuna Islands</th>\n",
       "      <td>2</td>\n",
       "      <td>2</td>\n",
       "      <td>2</td>\n",
       "      <td>2</td>\n",
       "      <td>2</td>\n",
       "      <td>2</td>\n",
       "      <td>2</td>\n",
       "      <td>2</td>\n",
       "      <td>2</td>\n",
       "      <td>2</td>\n",
       "      <td>2</td>\n",
       "      <td>0</td>\n",
       "      <td>0</td>\n",
       "      <td>0</td>\n",
       "      <td>2</td>\n",
       "    </tr>\n",
       "    <tr>\n",
       "      <th>West Bank and Gaza Strip</th>\n",
       "      <td>2</td>\n",
       "      <td>2</td>\n",
       "      <td>2</td>\n",
       "      <td>2</td>\n",
       "      <td>2</td>\n",
       "      <td>2</td>\n",
       "      <td>0</td>\n",
       "      <td>2</td>\n",
       "      <td>2</td>\n",
       "      <td>2</td>\n",
       "      <td>0</td>\n",
       "      <td>2</td>\n",
       "      <td>2</td>\n",
       "      <td>2</td>\n",
       "      <td>2</td>\n",
       "    </tr>\n",
       "    <tr>\n",
       "      <th>Yemen</th>\n",
       "      <td>2</td>\n",
       "      <td>2</td>\n",
       "      <td>2</td>\n",
       "      <td>2</td>\n",
       "      <td>2</td>\n",
       "      <td>2</td>\n",
       "      <td>2</td>\n",
       "      <td>2</td>\n",
       "      <td>2</td>\n",
       "      <td>2</td>\n",
       "      <td>2</td>\n",
       "      <td>2</td>\n",
       "      <td>2</td>\n",
       "      <td>2</td>\n",
       "      <td>2</td>\n",
       "    </tr>\n",
       "    <tr>\n",
       "      <th>Zambia</th>\n",
       "      <td>2</td>\n",
       "      <td>2</td>\n",
       "      <td>2</td>\n",
       "      <td>2</td>\n",
       "      <td>2</td>\n",
       "      <td>2</td>\n",
       "      <td>2</td>\n",
       "      <td>2</td>\n",
       "      <td>2</td>\n",
       "      <td>2</td>\n",
       "      <td>2</td>\n",
       "      <td>2</td>\n",
       "      <td>2</td>\n",
       "      <td>2</td>\n",
       "      <td>2</td>\n",
       "    </tr>\n",
       "    <tr>\n",
       "      <th>Zimbabwe</th>\n",
       "      <td>4</td>\n",
       "      <td>4</td>\n",
       "      <td>4</td>\n",
       "      <td>4</td>\n",
       "      <td>4</td>\n",
       "      <td>4</td>\n",
       "      <td>4</td>\n",
       "      <td>4</td>\n",
       "      <td>4</td>\n",
       "      <td>4</td>\n",
       "      <td>4</td>\n",
       "      <td>4</td>\n",
       "      <td>4</td>\n",
       "      <td>4</td>\n",
       "      <td>4</td>\n",
       "    </tr>\n",
       "  </tbody>\n",
       "</table>\n",
       "<p>231 rows × 15 columns</p>\n",
       "</div>"
      ],
      "text/plain": [
       "                           year  pop_n  pop_u  wat_bas_n  wat_lim_n  \\\n",
       "name                                                                  \n",
       "Afghanistan                   2      2      2          2          2   \n",
       "Albania                       2      2      2          2          2   \n",
       "Algeria                       2      2      2          2          2   \n",
       "American Samoa                2      2      2          2          2   \n",
       "Andorra                       2      2      2          2          2   \n",
       "...                         ...    ...    ...        ...        ...   \n",
       "Wallis and Futuna Islands     2      2      2          2          2   \n",
       "West Bank and Gaza Strip      2      2      2          2          2   \n",
       "Yemen                         2      2      2          2          2   \n",
       "Zambia                        2      2      2          2          2   \n",
       "Zimbabwe                      4      4      4          4          4   \n",
       "\n",
       "                           wat_unimp_n  wat_sur_n  wat_bas_r  wat_lim_r  \\\n",
       "name                                                                      \n",
       "Afghanistan                          2          2          2          2   \n",
       "Albania                              2          2          2          2   \n",
       "Algeria                              2          2          2          2   \n",
       "American Samoa                       2          2          0          0   \n",
       "Andorra                              2          2          2          2   \n",
       "...                                ...        ...        ...        ...   \n",
       "Wallis and Futuna Islands            2          2          2          2   \n",
       "West Bank and Gaza Strip             2          0          2          2   \n",
       "Yemen                                2          2          2          2   \n",
       "Zambia                               2          2          2          2   \n",
       "Zimbabwe                             4          4          4          4   \n",
       "\n",
       "                           wat_unimp_r  wat_sur_r  wat_bas_u  wat_lim_u  \\\n",
       "name                                                                      \n",
       "Afghanistan                          2          2          2          2   \n",
       "Albania                              2          2          2          2   \n",
       "Algeria                              2          2          2          2   \n",
       "American Samoa                       0          0          0          0   \n",
       "Andorra                              2          2          2          2   \n",
       "...                                ...        ...        ...        ...   \n",
       "Wallis and Futuna Islands            2          2          0          0   \n",
       "West Bank and Gaza Strip             2          0          2          2   \n",
       "Yemen                                2          2          2          2   \n",
       "Zambia                               2          2          2          2   \n",
       "Zimbabwe                             4          4          4          4   \n",
       "\n",
       "                           wat_unimp_u  wat_sur_u  \n",
       "name                                               \n",
       "Afghanistan                          2          2  \n",
       "Albania                              2          2  \n",
       "Algeria                              2          2  \n",
       "American Samoa                       0          2  \n",
       "Andorra                              2          2  \n",
       "...                                ...        ...  \n",
       "Wallis and Futuna Islands            0          2  \n",
       "West Bank and Gaza Strip             2          2  \n",
       "Yemen                                2          2  \n",
       "Zambia                               2          2  \n",
       "Zimbabwe                             4          4  \n",
       "\n",
       "[231 rows x 15 columns]"
      ]
     },
     "execution_count": 166,
     "metadata": {},
     "output_type": "execute_result"
    }
   ],
   "source": [
    "count_frame = data.groupby('name').count()\n",
    "count_frame"
   ]
  },
  {
   "cell_type": "code",
   "execution_count": 167,
   "metadata": {},
   "outputs": [
    {
     "data": {
      "text/plain": [
       "<Figure size 2000x1500 with 0 Axes>"
      ]
     },
     "metadata": {},
     "output_type": "display_data"
    },
    {
     "data": {
      "image/png": "[encoded data removed]",
      "text/plain": [
       "<Figure size 640x480 with 16 Axes>"
      ]
     },
     "metadata": {},
     "output_type": "display_data"
    }
   ],
   "source": [
    "import matplotlib.pyplot as plt\n",
    "plt.figure(figsize=(20, 15))\n",
    "\n",
    "count_frame.hist()\n",
    "\n",
    "plt.tight_layout()\n",
    "plt.show()"
   ]
  },
  {
   "cell_type": "markdown",
   "metadata": {},
   "source": [
    "The histogram shows that the count of data points per country is highly variable, with some countries having up to 4 data points, with most having 2 data points. This suggests that the dataset is not evenly distributed across countries, and some countries have more data points than others."
   ]
  },
  {
   "cell_type": "markdown",
   "metadata": {},
   "source": [
    "To ensure the data is in the right format for subsequent analysis, we will perform the following preprocessing steps:\n",
    "\n",
    "- Convert the year column to integer type for consistency."
   ]
  },
  {
   "cell_type": "code",
   "execution_count": 168,
   "metadata": {},
   "outputs": [],
   "source": [
    "data['year'] = data['year'].astype(int)"
   ]
  },
  {
   "cell_type": "markdown",
   "metadata": {},
   "source": [
    "# Data Cleaning"
   ]
  },
  {
   "cell_type": "markdown",
   "metadata": {},
   "source": [
    "Before we proceed with the analysis, we need to clean the data to ensure that it is in the right format for further processing. This involves handling missing values, converting data types, and addressing any anomalies in the dataset. This differs from the previous step in that it involves making changes to the dataset, as opposed to just extracting summary statistics, visualising the data, or converting data types for the purpose of visualization."
   ]
  },
  {
   "cell_type": "markdown",
   "metadata": {},
   "source": [
    "The first step in data cleaning is to handle missing values. We can check the number of missing values in each column to determine the extent of missing data in the dataset."
   ]
  },
  {
   "cell_type": "code",
   "execution_count": 169,
   "metadata": {},
   "outputs": [
    {
     "name": "stdout",
     "output_type": "stream",
     "text": [
      "Missing Values Summary:\n",
      " wat_sur_r      134\n",
      "wat_bas_r      125\n",
      "wat_lim_r      125\n",
      "wat_unimp_r    125\n",
      "wat_bas_u      100\n",
      "wat_lim_u      100\n",
      "wat_unimp_u    100\n",
      "wat_sur_n       18\n",
      "wat_bas_n        3\n",
      "wat_lim_n        3\n",
      "wat_unimp_n      3\n",
      "name             0\n",
      "year             0\n",
      "pop_n            0\n",
      "pop_u            0\n",
      "wat_sur_u        0\n",
      "dtype: int64\n"
     ]
    }
   ],
   "source": [
    "missing_summary = data.isnull().sum().sort_values(ascending=False)\n",
    "print(\"Missing Values Summary:\\n\", missing_summary)"
   ]
  },
  {
   "cell_type": "markdown",
   "metadata": {},
   "source": [
    "Only columns with under 30% of missing values will be considered for imputation. This is because columns with a high percentage of missing values may not provide meaningful insights even after imputation. We will focus on columns with less than 30% missing values and impute the missing values using appropriate strategies."
   ]
  },
  {
   "cell_type": "code",
   "execution_count": 170,
   "metadata": {},
   "outputs": [
    {
     "name": "stdout",
     "output_type": "stream",
     "text": [
      "Missing Values Percentage:\n",
      " wat_sur_r      0.288793\n",
      "wat_bas_r      0.269397\n",
      "wat_lim_r      0.269397\n",
      "wat_unimp_r    0.269397\n",
      "wat_bas_u      0.215517\n",
      "wat_lim_u      0.215517\n",
      "wat_unimp_u    0.215517\n",
      "wat_sur_n      0.038793\n",
      "wat_bas_n      0.006466\n",
      "wat_lim_n      0.006466\n",
      "wat_unimp_n    0.006466\n",
      "name           0.000000\n",
      "year           0.000000\n",
      "pop_n          0.000000\n",
      "pop_u          0.000000\n",
      "wat_sur_u      0.000000\n",
      "dtype: float64\n"
     ]
    }
   ],
   "source": [
    "missing_percent = (data.isnull().sum() / data.isnull().count()).sort_values(ascending=False)\n",
    "print(\"Missing Values Percentage:\\n\", missing_percent)"
   ]
  },
  {
   "cell_type": "markdown",
   "metadata": {},
   "source": [
    "All columns with mising values have less than 30% missing values, and as such, we can proceed with imputation. "
   ]
  },
  {
   "cell_type": "markdown",
   "metadata": {},
   "source": [
    "All the columns with missing values are numerical columns, and the missing values are represented as NaN. We can handle these missing values by imputing them with appropriate values, such as the mean or median of the column. This will ensure that the dataset is complete and ready for analysis.\n",
    "\n",
    "We opted to impute the missing values with the median of each column, as it is less sensitive to outliers compared to the mean. This will help preserve the integrity of the data and ensure that the imputed values are representative of the distribution of the data. Additionally, as seen in the summary statistics, the data is not normally distributed, which further supports the use of the median for imputation."
   ]
  },
  {
   "cell_type": "code",
   "execution_count": 171,
   "metadata": {},
   "outputs": [
    {
     "name": "stdout",
     "output_type": "stream",
     "text": [
      "Missing Data Columns:\n",
      " Index(['wat_sur_r', 'wat_bas_r', 'wat_lim_r', 'wat_unimp_r', 'wat_bas_u',\n",
      "       'wat_lim_u', 'wat_unimp_u', 'wat_sur_n', 'wat_bas_n', 'wat_lim_n',\n",
      "       'wat_unimp_n'],\n",
      "      dtype='object')\n"
     ]
    },
    {
     "data": {
      "text/plain": [
       "wat_sur_r       0.713097\n",
       "wat_bas_r      89.875800\n",
       "wat_lim_r       1.804724\n",
       "wat_unimp_r     4.310939\n",
       "wat_bas_u      97.836161\n",
       "wat_lim_u       0.671124\n",
       "wat_unimp_u     0.639986\n",
       "wat_sur_n       0.009381\n",
       "wat_bas_n      96.604139\n",
       "wat_lim_n       0.406530\n",
       "wat_unimp_n     1.344803\n",
       "dtype: float64"
      ]
     },
     "execution_count": 171,
     "metadata": {},
     "output_type": "execute_result"
    }
   ],
   "source": [
    "missing_data_cols = missing_summary[missing_summary > 0].index\n",
    "print(\"Missing Data Columns:\\n\", missing_data_cols)\n",
    "\n",
    "medians = data[missing_data_cols].median()\n",
    "medians"
   ]
  },
  {
   "cell_type": "code",
   "execution_count": 172,
   "metadata": {},
   "outputs": [
    {
     "name": "stderr",
     "output_type": "stream",
     "text": [
      "FutureWarning: A value is trying to be set on a copy of a DataFrame or Series through chained assignment using an inplace method.\n",
      "The behavior will change in pandas 3.0. This inplace method will never work because the intermediate object on which we are setting values always behaves as a copy.\n",
      "\n",
      "For example, when doing 'df[col].method(value, inplace=True)', try using 'df.method({col: value}, inplace=True)' or df[col] = df[col].method(value) instead, to perform the operation inplace on the original object.\n",
      "\n",
      "\n"
     ]
    }
   ],
   "source": [
    "for col in missing_data_cols:\n",
    "    data[col].fillna(medians[col], inplace=True)"
   ]
  },
  {
   "cell_type": "code",
   "execution_count": 173,
   "metadata": {},
   "outputs": [
    {
     "name": "stdout",
     "output_type": "stream",
     "text": [
      "Missing Values Summary:\n",
      " name           0\n",
      "year           0\n",
      "pop_n          0\n",
      "pop_u          0\n",
      "wat_bas_n      0\n",
      "wat_lim_n      0\n",
      "wat_unimp_n    0\n",
      "wat_sur_n      0\n",
      "wat_bas_r      0\n",
      "wat_lim_r      0\n",
      "wat_unimp_r    0\n",
      "wat_sur_r      0\n",
      "wat_bas_u      0\n",
      "wat_lim_u      0\n",
      "wat_unimp_u    0\n",
      "wat_sur_u      0\n",
      "dtype: int64\n"
     ]
    }
   ],
   "source": [
    "missing_summary = data.isnull().sum().sort_values(ascending=False)\n",
    "print(\"Missing Values Summary:\\n\", missing_summary)"
   ]
  },
  {
   "cell_type": "code",
   "execution_count": 174,
   "metadata": {},
   "outputs": [
    {
     "data": {
      "text/plain": [
       "name            object\n",
       "year             int32\n",
       "pop_n          float64\n",
       "pop_u          float64\n",
       "wat_bas_n      float64\n",
       "wat_lim_n      float64\n",
       "wat_unimp_n    float64\n",
       "wat_sur_n      float64\n",
       "wat_bas_r      float64\n",
       "wat_lim_r      float64\n",
       "wat_unimp_r    float64\n",
       "wat_sur_r      float64\n",
       "wat_bas_u      float64\n",
       "wat_lim_u      float64\n",
       "wat_unimp_u    float64\n",
       "wat_sur_u      float64\n",
       "dtype: object"
      ]
     },
     "execution_count": 174,
     "metadata": {},
     "output_type": "execute_result"
    }
   ],
   "source": [
    "data.dtypes"
   ]
  },
  {
   "cell_type": "markdown",
   "metadata": {},
   "source": [
    "All the columns are in appropriate data types for analysis, and there are no missing values in the dataset. The data is now clean and ready for further exploration and analysis."
   ]
  },
  {
   "cell_type": "code",
   "execution_count": 175,
   "metadata": {},
   "outputs": [
    {
     "data": {
      "text/plain": [
       "['name',\n",
       " 'year',\n",
       " 'pop_n',\n",
       " 'pop_u',\n",
       " 'wat_bas_n',\n",
       " 'wat_lim_n',\n",
       " 'wat_unimp_n',\n",
       " 'wat_sur_n',\n",
       " 'wat_bas_r',\n",
       " 'wat_lim_r',\n",
       " 'wat_unimp_r',\n",
       " 'wat_sur_r',\n",
       " 'wat_bas_u',\n",
       " 'wat_lim_u',\n",
       " 'wat_unimp_u',\n",
       " 'wat_sur_u']"
      ]
     },
     "execution_count": 175,
     "metadata": {},
     "output_type": "execute_result"
    }
   ],
   "source": [
    "data.columns.tolist()"
   ]
  },
  {
   "cell_type": "markdown",
   "metadata": {},
   "source": [
    "The next step is to create new features that could provide additional insights into the dataset. For example, we can calculate the total population for each country by multiplying the national population by the urban population percentage. This will give us an estimate of the urban population for each country, which could be useful for the exploratory data analysis."
   ]
  },
  {
   "cell_type": "markdown",
   "metadata": {},
   "source": [
    "# Feature Engineering"
   ]
  },
  {
   "cell_type": "markdown",
   "metadata": {},
   "source": [
    "The first feature we will create is the urban_population column, which represents the urban population for each country. This is calculated by multiplying the national population by the urban population percentage."
   ]
  },
  {
   "cell_type": "code",
   "execution_count": 176,
   "metadata": {},
   "outputs": [
    {
     "data": {
      "text/plain": [
       "0    2.362705e+05\n",
       "1    2.376971e+05\n",
       "2    4.163028e+06\n",
       "3    8.319499e+05\n",
       "4    6.792830e+03\n",
       "Name: urban_population, dtype: float64"
      ]
     },
     "execution_count": 176,
     "metadata": {},
     "output_type": "execute_result"
    }
   ],
   "source": [
    "data['urban_population'] = data['pop_n'] * data['pop_u']\n",
    "data['urban_population'].head()"
   ]
  },
  {
   "cell_type": "markdown",
   "metadata": {},
   "source": [
    "The next feature would be to group the countries into regions based on their geographical location. This will help us analyze water access trends at a regional level and identify patterns that are specific to certain regions of the world.\n",
    "\n",
    "The countryinfo library will be used to map country names to their respective regions. This library provides an easy way to access country information, including ISO country codes and regions. We will create a new column 'region' in the dataset by mapping each country to its corresponding region."
   ]
  },
  {
   "cell_type": "code",
   "execution_count": 177,
   "metadata": {},
   "outputs": [],
   "source": [
    "from countryinfo import CountryInfo\n",
    "\n",
    "def get_continent_and_subregion(country_name):\n",
    "    try:\n",
    "        country = CountryInfo(country_name)\n",
    "        info = country.info()\n",
    "        continent = info.get('region', 'Unknown')\n",
    "        subregion = info.get('subregion', 'Unknown')\n",
    "        return continent, subregion\n",
    "    except Exception as e:\n",
    "        return str(e), str(e)\n",
    "\n",
    "data['continent'], data['subregion'] = zip(*data['name'].apply(get_continent_and_subregion))"
   ]
  },
  {
   "cell_type": "code",
   "execution_count": 178,
   "metadata": {},
   "outputs": [
    {
     "data": {
      "text/html": [
       "<div>\n",
       "<style scoped>\n",
       "    .dataframe tbody tr th:only-of-type {\n",
       "        vertical-align: middle;\n",
       "    }\n",
       "\n",
       "    .dataframe tbody tr th {\n",
       "        vertical-align: top;\n",
       "    }\n",
       "\n",
       "    .dataframe thead th {\n",
       "        text-align: right;\n",
       "    }\n",
       "</style>\n",
       "<table border=\"1\" class=\"dataframe\">\n",
       "  <thead>\n",
       "    <tr style=\"text-align: right;\">\n",
       "      <th></th>\n",
       "      <th>name</th>\n",
       "      <th>year</th>\n",
       "      <th>pop_n</th>\n",
       "      <th>pop_u</th>\n",
       "      <th>wat_bas_n</th>\n",
       "      <th>wat_lim_n</th>\n",
       "      <th>wat_unimp_n</th>\n",
       "      <th>wat_sur_n</th>\n",
       "      <th>wat_bas_r</th>\n",
       "      <th>wat_lim_r</th>\n",
       "      <th>wat_unimp_r</th>\n",
       "      <th>wat_sur_r</th>\n",
       "      <th>wat_bas_u</th>\n",
       "      <th>wat_lim_u</th>\n",
       "      <th>wat_unimp_u</th>\n",
       "      <th>wat_sur_u</th>\n",
       "      <th>urban_population</th>\n",
       "      <th>continent</th>\n",
       "      <th>subregion</th>\n",
       "    </tr>\n",
       "  </thead>\n",
       "  <tbody>\n",
       "    <tr>\n",
       "      <th>346</th>\n",
       "      <td>Ghana</td>\n",
       "      <td>2020</td>\n",
       "      <td>31072.94531</td>\n",
       "      <td>57.348999</td>\n",
       "      <td>85.790997</td>\n",
       "      <td>6.586062</td>\n",
       "      <td>2.812216</td>\n",
       "      <td>4.810725</td>\n",
       "      <td>71.892750</td>\n",
       "      <td>11.934548</td>\n",
       "      <td>4.999356</td>\n",
       "      <td>11.173345</td>\n",
       "      <td>96.12726</td>\n",
       "      <td>2.608342</td>\n",
       "      <td>1.185614</td>\n",
       "      <td>78.784218</td>\n",
       "      <td>1.782002e+06</td>\n",
       "      <td>Africa</td>\n",
       "      <td>Western Africa</td>\n",
       "    </tr>\n",
       "    <tr>\n",
       "      <th>365</th>\n",
       "      <td>Ghana</td>\n",
       "      <td>2015</td>\n",
       "      <td>27849.20313</td>\n",
       "      <td>54.085999</td>\n",
       "      <td>80.157961</td>\n",
       "      <td>7.897599</td>\n",
       "      <td>4.426644</td>\n",
       "      <td>7.517796</td>\n",
       "      <td>67.208305</td>\n",
       "      <td>11.153465</td>\n",
       "      <td>6.335259</td>\n",
       "      <td>15.302971</td>\n",
       "      <td>91.15102</td>\n",
       "      <td>5.133671</td>\n",
       "      <td>2.806406</td>\n",
       "      <td>908.903345</td>\n",
       "      <td>1.506252e+06</td>\n",
       "      <td>Africa</td>\n",
       "      <td>Western Africa</td>\n",
       "    </tr>\n",
       "  </tbody>\n",
       "</table>\n",
       "</div>"
      ],
      "text/plain": [
       "      name  year        pop_n      pop_u  wat_bas_n  wat_lim_n  wat_unimp_n  \\\n",
       "346  Ghana  2020  31072.94531  57.348999  85.790997   6.586062     2.812216   \n",
       "365  Ghana  2015  27849.20313  54.085999  80.157961   7.897599     4.426644   \n",
       "\n",
       "     wat_sur_n  wat_bas_r  wat_lim_r  wat_unimp_r  wat_sur_r  wat_bas_u  \\\n",
       "346   4.810725  71.892750  11.934548     4.999356  11.173345   96.12726   \n",
       "365   7.517796  67.208305  11.153465     6.335259  15.302971   91.15102   \n",
       "\n",
       "     wat_lim_u  wat_unimp_u   wat_sur_u  urban_population continent  \\\n",
       "346   2.608342     1.185614   78.784218      1.782002e+06    Africa   \n",
       "365   5.133671     2.806406  908.903345      1.506252e+06    Africa   \n",
       "\n",
       "          subregion  \n",
       "346  Western Africa  \n",
       "365  Western Africa  "
      ]
     },
     "execution_count": 178,
     "metadata": {},
     "output_type": "execute_result"
    }
   ],
   "source": [
    "data[data['name'] == 'Ghana']"
   ]
  },
  {
   "cell_type": "markdown",
   "metadata": {},
   "source": [
    "To facilitate further analysis, we map countries to their climactic zones. This will help us understand how climate change and weather patterns might influence water access in different regions of the world. The climatic zones are based on the Köppen climate classification system, which categorizes climates based on temperature and precipitation patterns.\n",
    "\n",
    "There is no module in Python that directly provides this information, so we had to do a bit of research to find a suitable source. The data was obtained from the following link: https://weatherandclimate.com/countries. Because there is no API available for this data, we scraped the website using beautifulsoup to extract the table containing the Köppen climate classification for each country. The data is stored in a dictionary, which we will use to map countries to their respective climatic zones."
   ]
  },
  {
   "cell_type": "code",
   "execution_count": 179,
   "metadata": {},
   "outputs": [],
   "source": [
    "import requests\n",
    "from bs4 import BeautifulSoup\n",
    "\n",
    "def get_climate_zone():\n",
    "    \"\"\"\n",
    "    This function scrapes the climate data from the table on the provided website \n",
    "    and store it in a dictionary. Each country will be a key in the dictionary, \n",
    "    and the value will be another dictionary containing the climate zone, \n",
    "    average temperature in Fahrenheit, and average temperature in Celsius.\n",
    "    \"\"\"\n",
    "    url = \"https://weatherandclimate.com/countries\"\n",
    "    response = requests.get(url)\n",
    "    soup = BeautifulSoup(response.text, 'html.parser')\n",
    "    table = soup.find('table', class_='tb1')\n",
    "    climate_data = {}\n",
    "\n",
    "    for row in table.find_all('tr')[1:]: \n",
    "        cells = row.find_all('td')\n",
    "        if len(cells) == 4:\n",
    "            country = cells[0].text.strip()\n",
    "            climate_zone = cells[1].text.strip()\n",
    "            avg_temp_f = cells[2].text.strip()\n",
    "            avg_temp_c = cells[3].text.strip()\n",
    "            climate_data[country] = {\n",
    "                'Climate zone': climate_zone,\n",
    "                'Avg °F': avg_temp_f,\n",
    "                'Avg °C': avg_temp_c\n",
    "            }\n",
    "\n",
    "    return climate_data\n",
    "\n",
    "climate_data = get_climate_zone()\n"
   ]
  },
  {
   "cell_type": "code",
   "execution_count": 180,
   "metadata": {},
   "outputs": [],
   "source": [
    "data['climate_zone'] = data['name'].map(lambda x: climate_data.get(x, {}).get('Climate zone', 'Unknown'))"
   ]
  },
  {
   "cell_type": "code",
   "execution_count": 181,
   "metadata": {},
   "outputs": [
    {
     "data": {
      "text/plain": [
       "0    CFB\n",
       "1    CFB\n",
       "2    CFA\n",
       "3    CSA\n",
       "4    CFB\n",
       "Name: climate_zone, dtype: object"
      ]
     },
     "execution_count": 181,
     "metadata": {},
     "output_type": "execute_result"
    }
   ],
   "source": [
    "data['climate_zone'].head()"
   ]
  },
  {
   "cell_type": "markdown",
   "metadata": {},
   "source": [
    "Since the average temperature is already provided by the website, we can use this information to create a new feature called 'average_temperature'. This feature will provide additional insights into the climate of each country and its potential impact on water access."
   ]
  },
  {
   "cell_type": "code",
   "execution_count": 182,
   "metadata": {},
   "outputs": [],
   "source": [
    "data['average_temperature'] = data['name'].map(lambda x: climate_data.get(x, {}).get('Avg °C', 'Unknown'))"
   ]
  },
  {
   "cell_type": "code",
   "execution_count": 183,
   "metadata": {},
   "outputs": [
    {
     "data": {
      "text/html": [
       "<div>\n",
       "<style scoped>\n",
       "    .dataframe tbody tr th:only-of-type {\n",
       "        vertical-align: middle;\n",
       "    }\n",
       "\n",
       "    .dataframe tbody tr th {\n",
       "        vertical-align: top;\n",
       "    }\n",
       "\n",
       "    .dataframe thead th {\n",
       "        text-align: right;\n",
       "    }\n",
       "</style>\n",
       "<table border=\"1\" class=\"dataframe\">\n",
       "  <thead>\n",
       "    <tr style=\"text-align: right;\">\n",
       "      <th></th>\n",
       "      <th>name</th>\n",
       "      <th>year</th>\n",
       "      <th>pop_n</th>\n",
       "      <th>pop_u</th>\n",
       "      <th>wat_bas_n</th>\n",
       "      <th>wat_lim_n</th>\n",
       "      <th>wat_unimp_n</th>\n",
       "      <th>wat_sur_n</th>\n",
       "      <th>wat_bas_r</th>\n",
       "      <th>wat_lim_r</th>\n",
       "      <th>...</th>\n",
       "      <th>wat_sur_r</th>\n",
       "      <th>wat_bas_u</th>\n",
       "      <th>wat_lim_u</th>\n",
       "      <th>wat_unimp_u</th>\n",
       "      <th>wat_sur_u</th>\n",
       "      <th>urban_population</th>\n",
       "      <th>continent</th>\n",
       "      <th>subregion</th>\n",
       "      <th>climate_zone</th>\n",
       "      <th>average_temperature</th>\n",
       "    </tr>\n",
       "  </thead>\n",
       "  <tbody>\n",
       "    <tr>\n",
       "      <th>346</th>\n",
       "      <td>Ghana</td>\n",
       "      <td>2020</td>\n",
       "      <td>31072.94531</td>\n",
       "      <td>57.348999</td>\n",
       "      <td>85.790997</td>\n",
       "      <td>6.586062</td>\n",
       "      <td>2.812216</td>\n",
       "      <td>4.810725</td>\n",
       "      <td>71.892750</td>\n",
       "      <td>11.934548</td>\n",
       "      <td>...</td>\n",
       "      <td>11.173345</td>\n",
       "      <td>96.12726</td>\n",
       "      <td>2.608342</td>\n",
       "      <td>1.185614</td>\n",
       "      <td>78.784218</td>\n",
       "      <td>1.782002e+06</td>\n",
       "      <td>Africa</td>\n",
       "      <td>Western Africa</td>\n",
       "      <td>AW</td>\n",
       "      <td>28.86</td>\n",
       "    </tr>\n",
       "    <tr>\n",
       "      <th>365</th>\n",
       "      <td>Ghana</td>\n",
       "      <td>2015</td>\n",
       "      <td>27849.20313</td>\n",
       "      <td>54.085999</td>\n",
       "      <td>80.157961</td>\n",
       "      <td>7.897599</td>\n",
       "      <td>4.426644</td>\n",
       "      <td>7.517796</td>\n",
       "      <td>67.208305</td>\n",
       "      <td>11.153465</td>\n",
       "      <td>...</td>\n",
       "      <td>15.302971</td>\n",
       "      <td>91.15102</td>\n",
       "      <td>5.133671</td>\n",
       "      <td>2.806406</td>\n",
       "      <td>908.903345</td>\n",
       "      <td>1.506252e+06</td>\n",
       "      <td>Africa</td>\n",
       "      <td>Western Africa</td>\n",
       "      <td>AW</td>\n",
       "      <td>28.86</td>\n",
       "    </tr>\n",
       "  </tbody>\n",
       "</table>\n",
       "<p>2 rows × 21 columns</p>\n",
       "</div>"
      ],
      "text/plain": [
       "      name  year        pop_n      pop_u  wat_bas_n  wat_lim_n  wat_unimp_n  \\\n",
       "346  Ghana  2020  31072.94531  57.348999  85.790997   6.586062     2.812216   \n",
       "365  Ghana  2015  27849.20313  54.085999  80.157961   7.897599     4.426644   \n",
       "\n",
       "     wat_sur_n  wat_bas_r  wat_lim_r  ...  wat_sur_r  wat_bas_u  wat_lim_u  \\\n",
       "346   4.810725  71.892750  11.934548  ...  11.173345   96.12726   2.608342   \n",
       "365   7.517796  67.208305  11.153465  ...  15.302971   91.15102   5.133671   \n",
       "\n",
       "     wat_unimp_u   wat_sur_u  urban_population  continent       subregion  \\\n",
       "346     1.185614   78.784218      1.782002e+06     Africa  Western Africa   \n",
       "365     2.806406  908.903345      1.506252e+06     Africa  Western Africa   \n",
       "\n",
       "    climate_zone average_temperature  \n",
       "346           AW               28.86  \n",
       "365           AW               28.86  \n",
       "\n",
       "[2 rows x 21 columns]"
      ]
     },
     "execution_count": 183,
     "metadata": {},
     "output_type": "execute_result"
    }
   ],
   "source": [
    "data[data['name'] == 'Ghana']"
   ]
  },
  {
   "cell_type": "code",
   "execution_count": 184,
   "metadata": {},
   "outputs": [
    {
     "data": {
      "text/plain": [
       "['name',\n",
       " 'year',\n",
       " 'pop_n',\n",
       " 'pop_u',\n",
       " 'wat_bas_n',\n",
       " 'wat_lim_n',\n",
       " 'wat_unimp_n',\n",
       " 'wat_sur_n',\n",
       " 'wat_bas_r',\n",
       " 'wat_lim_r',\n",
       " 'wat_unimp_r',\n",
       " 'wat_sur_r',\n",
       " 'wat_bas_u',\n",
       " 'wat_lim_u',\n",
       " 'wat_unimp_u',\n",
       " 'wat_sur_u',\n",
       " 'urban_population',\n",
       " 'continent',\n",
       " 'subregion',\n",
       " 'climate_zone',\n",
       " 'average_temperature']"
      ]
     },
     "execution_count": 184,
     "metadata": {},
     "output_type": "execute_result"
    }
   ],
   "source": [
    "data.columns.tolist()"
   ]
  },
  {
   "cell_type": "markdown",
   "metadata": {},
   "source": [
    "# Exploratory Data Analysis"
   ]
  },
  {
   "cell_type": "markdown",
   "metadata": {},
   "source": [
    "# Data Preprocessing"
   ]
  },
  {
   "cell_type": "markdown",
   "metadata": {},
   "source": [
    "# Model Selection and Training"
   ]
  },
  {
   "cell_type": "markdown",
   "metadata": {},
   "source": [
    "# Model Evaluation"
   ]
  },
  {
   "cell_type": "markdown",
   "metadata": {},
   "source": [
    "# Model Interpretation"
   ]
  },
  {
   "cell_type": "markdown",
   "metadata": {},
   "source": [
    "# Results"
   ]
  },
  {
   "cell_type": "markdown",
   "metadata": {},
   "source": [
    "# Recommendations and Conclusion"
   ]
  }
 ],
 "metadata": {
  "kernelspec": {
   "display_name": "Python 3",
   "language": "python",
   "name": "python3"
  },
  "language_info": {
   "codemirror_mode": {
    "name": "ipython",
    "version": 3
   },
   "file_extension": ".py",
   "mimetype": "text/x-python",
   "name": "python",
   "nbconvert_exporter": "python",
   "pygments_lexer": "ipython3",
   "version": "3.12.7"
  }
 },
 "nbformat": 4,
 "nbformat_minor": 2
}
