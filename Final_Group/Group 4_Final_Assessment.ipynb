{
 "cells": [
  {
   "cell_type": "markdown",
   "metadata": {},
   "source": [
    "# Introduction"
   ]
  },
  {
   "cell_type": "markdown",
   "metadata": {},
   "source": [
    "## Purpose"
   ]
  },
  {
   "cell_type": "markdown",
   "metadata": {},
   "source": [
    "The goal of this project is to analyze the dataset titled \"Estimates of the Use of Water (2000–2020)\" and extract meaningful insights about global water access trends. The dataset spans over two decades and provides information about both rural and urban populations across various countries, detailing their access to different categories of water sources such as basic water, limited access, and surface water.\n",
    "\n",
    "This analysis aims to explore key trends in water access, assess regional disparities, and apply machine learning techniques to predict future trends or categorize countries based on water access profiles. The insights generated from this project could serve as valuable inputs for policymakers and global water organizations to make informed decisions regarding water infrastructure and resource allocation."
   ]
  },
  {
   "cell_type": "markdown",
   "metadata": {},
   "source": [
    "## Dataset Overview"
   ]
  },
  {
   "cell_type": "markdown",
   "metadata": {},
   "source": [
    "The dataset contains the following columns and what they likely mean:\n",
    "\n",
    "- name: The name of the country.\n",
    "- year: The year of the data record (ranging from 2000 to 2020).\n",
    "- pop_n: The national population of the country (total population) in thousands.\n",
    "- pop_u: Urban population (population living in urban areas) represented as a percentage.\n",
    "- wat_bas_n: Percentage of the national population with access to basic water sources.\n",
    "- wat_lim_n: Percentage of the national population with limited access to water sources.\n",
    "- wat_unimp_n: Percentage of the national population without improved water access.\n",
    "- wat_sur_n: Percentage of the national population relying on surface water sources.\n",
    "- wat_bas_r: Percentage of the rural population with access to basic water sources.\n",
    "- wat_lim_r: Percentage of the rural population with limited access to water sources.\n",
    "- wat_unimp_r: Percentage of the rural population without improved water access.\n",
    "- wat_sur_r: Percentage of the rural population relying on surface water sources.\n",
    "- wat_bas_u: Percentage of the urban population with access to basic water sources.\n",
    "- wat_lim_u: Percentage of the urban population with limited access to water sources.\n",
    "- wat_unimp_u: Percentage of the urban population without improved water access.\n",
    "- wat_sur_u: Percentage of the urban population relying on surface water sources.\n",
    "\n",
    "The rational for the assumptions applied to the meanings for the column names stems from data from sites like https://www.ceicdata.com/en/indicator/croatia/population#:~:text=Croatia%20Population%201%20The%20Croatia%20population%20reached%203.9,low%20of%203.9%20million%20people%20in%20Jun%202021. According to this data, the population of Croatia was slightly north of 4,000,000 in 2020. In the dataset provided, the pop_n column contains 4105.268066 which when multiplied by 1,000, yields a figure slightly over 4,000,000. This corresponds to the data found online, and supports our assumptions about the meaning of the column.\n",
    "\n",
    "Additionally, the next column, pop_u, which we assumed to mean the proportion of the population in urban areas, has a value of 57.55299759 for Croatia, in the year 2020. According to https://www.macrotrends.net/global-metrics/countries/HRV/croatia/urban-population#:~:text=1%20Croatia%20urban%20population%20for%202023%20was%202%2C257%2C012%2C,2020%20was%202%2C329%2C561%2C%20a%200.11%25%20increase%20from%202019, the urban population of Croatia in 2020 was 2,329,561, which is roughly 58% of the 4,105,268 in the column for pop_n. This suggests this column contains proportions.\n",
    "\n",
    "It is only logical to assume from this point on that n represents national, u - urban, and r rural."
   ]
  },
  {
   "cell_type": "markdown",
   "metadata": {},
   "source": [
    "## Scope of the Analysis"
   ]
  },
  {
   "cell_type": "markdown",
   "metadata": {},
   "source": [
    "This project will focus on the following core aspects:\n",
    "\n",
    "1. **Data Exploration and Preprocessing**: The dataset will be thoroughly explored to understand its structure, identify missing values, and clean the data for analysis. This process will ensure that the data is in the right format for further analysis and modeling.\n",
    "\n",
    "2. **Exploratory Data Analysis**: Visualizations and statistical techniques will be applied to uncover key trends and patterns in water access over time. This will include analyzing the differences between rural and urban populations and identifying countries or regions that have made significant progress or are facing challenges in water access.\n",
    "\n",
    "3. **Machine Learning for Prediction and Classification**:\n",
    "    - Prediction: Time series forecasting models, such as ARIMA or LSTM, will be used to predict future water access trends. This will help forecast the future state of water access in countries based on historical data.\n",
    "\n",
    "    - Clustering and Classification: Machine learning models will also be applied to group countries with similar water access profiles, identifying patterns and regions of the world that share similar challenges or successes.\n",
    "\n",
    "    - Policy Impact Simulation: We will implement a tool to simulate the impact of specific policy interventions (e.g., infrastructure investment or water conservation efforts) on future water access trends.\n",
    "\n",
    "4. **Additional Analysis**: Beyond the basic scope of the project, we will incorporate:\n",
    "\n",
    "    - Socioeconomic Factors: We will explore the relationship between water access and socioeconomic factors, such as GDP, literacy rates, and government spending on water infrastructure. This analysis could provide deeper insights into the causes of water access disparities.\n",
    "    - Climate Change and Water Access: We will examine the role of climate change, such as variations in temperature and rainfall patterns, and its correlation with water access in different countries.\n",
    "    - Regional Analysis: A comparative study will analyze how different regions of the world are progressing in terms of water access and identify best practices that could be adopted globally.\n",
    "\n",
    "5. **Interactive Data Visualization**: To make the findings more engaging and accessible, an interactive dashboard will be created to visualize water access trends. Users will be able to explore the data dynamically by selecting countries or regions and viewing specific trends over time.\n"
   ]
  },
  {
   "cell_type": "markdown",
   "metadata": {},
   "source": [
    "## Key Questions"
   ]
  },
  {
   "cell_type": "markdown",
   "metadata": {},
   "source": [
    "- What are the trends in water access across countries, particularly over the years from 2000 to 2020?\n",
    "- How does water access differ between rural and urban populations, and what are the driving factors behind these disparities?\n",
    "- Which regions of the world are making the most significant progress in improving water access, and which ones are facing persistent challenges?\n",
    "- Can machine learning be used to predict future water access trends or to group countries into meaningful categories for policy targeting?\n",
    "- How do socioeconomic factors and climate change influence water access, and what interventions could mitigate these effects?\n",
    "- What is the potential impact of policy interventions on future water access in resource-constrained countries?"
   ]
  },
  {
   "cell_type": "markdown",
   "metadata": {},
   "source": [
    "## Objectives of the Analysis"
   ]
  },
  {
   "cell_type": "markdown",
   "metadata": {},
   "source": [
    "- Exploration: Understand the dataset’s structure, detect anomalies, and preprocess the data for analysis.\n",
    "- Analysis: Utilize machine learning models to generate insights and predict future trends. Apply clustering techniques to categorize countries based on water access, and use regression models to analyze the impact of socioeconomic factors.\n",
    "- Insight Generation: Provide a clear set of actionable insights for stakeholders, policymakers, and global water organizations to address water access disparities."
   ]
  },
  {
   "cell_type": "markdown",
   "metadata": {},
   "source": [
    "# Data Collection"
   ]
  },
  {
   "cell_type": "markdown",
   "metadata": {},
   "source": [
    "As mentioned in the introduction, the data has already been collected aand provided in the dataset 'Estimates of the use of water (2000-2020).csv'. All that has to be done in this step as sych, is to load the dataset, and extract summary statistics, which will influence subsequent steps.\n",
    "\n",
    "The pandas library will be used here due to its utility functions that enable the creation of pandas dataframes from csv files."
   ]
  },
  {
   "cell_type": "code",
   "execution_count": 2,
   "metadata": {},
   "outputs": [],
   "source": [
    "import pandas as pd\n",
    "\n",
    "data = pd.read_csv('Estimates of the use of water (2000-2020).csv')"
   ]
  },
  {
   "cell_type": "code",
   "execution_count": 3,
   "metadata": {},
   "outputs": [
    {
     "data": {
      "text/html": [
       "<div>\n",
       "<style scoped>\n",
       "    .dataframe tbody tr th:only-of-type {\n",
       "        vertical-align: middle;\n",
       "    }\n",
       "\n",
       "    .dataframe tbody tr th {\n",
       "        vertical-align: top;\n",
       "    }\n",
       "\n",
       "    .dataframe thead th {\n",
       "        text-align: right;\n",
       "    }\n",
       "</style>\n",
       "<table border=\"1\" class=\"dataframe\">\n",
       "  <thead>\n",
       "    <tr style=\"text-align: right;\">\n",
       "      <th></th>\n",
       "      <th>name</th>\n",
       "      <th>year</th>\n",
       "      <th>pop_n</th>\n",
       "      <th>pop_u</th>\n",
       "      <th>wat_bas_n</th>\n",
       "      <th>wat_lim_n</th>\n",
       "      <th>wat_unimp_n</th>\n",
       "      <th>wat_sur_n</th>\n",
       "      <th>wat_bas_r</th>\n",
       "      <th>wat_lim_r</th>\n",
       "      <th>wat_unimp_r</th>\n",
       "      <th>wat_sur_r</th>\n",
       "      <th>wat_bas_u</th>\n",
       "      <th>wat_lim_u</th>\n",
       "      <th>wat_unimp_u</th>\n",
       "      <th>wat_sur_u</th>\n",
       "    </tr>\n",
       "  </thead>\n",
       "  <tbody>\n",
       "    <tr>\n",
       "      <th>0</th>\n",
       "      <td>Croatia</td>\n",
       "      <td>2020</td>\n",
       "      <td>4105.268066</td>\n",
       "      <td>57.552998</td>\n",
       "      <td>NaN</td>\n",
       "      <td>NaN</td>\n",
       "      <td>NaN</td>\n",
       "      <td>NaN</td>\n",
       "      <td>NaN</td>\n",
       "      <td>NaN</td>\n",
       "      <td>NaN</td>\n",
       "      <td>NaN</td>\n",
       "      <td>100.000000</td>\n",
       "      <td>0.0</td>\n",
       "      <td>0.000000</td>\n",
       "      <td>0</td>\n",
       "    </tr>\n",
       "    <tr>\n",
       "      <th>1</th>\n",
       "      <td>Croatia</td>\n",
       "      <td>2015</td>\n",
       "      <td>4232.874023</td>\n",
       "      <td>56.155003</td>\n",
       "      <td>NaN</td>\n",
       "      <td>NaN</td>\n",
       "      <td>NaN</td>\n",
       "      <td>NaN</td>\n",
       "      <td>NaN</td>\n",
       "      <td>NaN</td>\n",
       "      <td>NaN</td>\n",
       "      <td>NaN</td>\n",
       "      <td>100.000000</td>\n",
       "      <td>0.0</td>\n",
       "      <td>0.000000</td>\n",
       "      <td>0</td>\n",
       "    </tr>\n",
       "    <tr>\n",
       "      <th>2</th>\n",
       "      <td>Argentina</td>\n",
       "      <td>2020</td>\n",
       "      <td>45195.77734</td>\n",
       "      <td>92.111000</td>\n",
       "      <td>NaN</td>\n",
       "      <td>NaN</td>\n",
       "      <td>NaN</td>\n",
       "      <td>NaN</td>\n",
       "      <td>NaN</td>\n",
       "      <td>NaN</td>\n",
       "      <td>NaN</td>\n",
       "      <td>NaN</td>\n",
       "      <td>99.790421</td>\n",
       "      <td>0.0</td>\n",
       "      <td>0.209579</td>\n",
       "      <td>0</td>\n",
       "    </tr>\n",
       "    <tr>\n",
       "      <th>3</th>\n",
       "      <td>Greece</td>\n",
       "      <td>2015</td>\n",
       "      <td>10659.7373</td>\n",
       "      <td>78.046005</td>\n",
       "      <td>100.000005</td>\n",
       "      <td>0.0</td>\n",
       "      <td>0.0</td>\n",
       "      <td>0.0</td>\n",
       "      <td>100.0</td>\n",
       "      <td>0.0</td>\n",
       "      <td>0.0</td>\n",
       "      <td>0.0</td>\n",
       "      <td>100.000000</td>\n",
       "      <td>0.0</td>\n",
       "      <td>0.000000</td>\n",
       "      <td>0</td>\n",
       "    </tr>\n",
       "    <tr>\n",
       "      <th>4</th>\n",
       "      <td>Andorra</td>\n",
       "      <td>2020</td>\n",
       "      <td>77.26499939</td>\n",
       "      <td>87.916000</td>\n",
       "      <td>100.000004</td>\n",
       "      <td>0.0</td>\n",
       "      <td>0.0</td>\n",
       "      <td>0.0</td>\n",
       "      <td>100.0</td>\n",
       "      <td>0.0</td>\n",
       "      <td>0.0</td>\n",
       "      <td>0.0</td>\n",
       "      <td>100.000000</td>\n",
       "      <td>0.0</td>\n",
       "      <td>0.000000</td>\n",
       "      <td>0</td>\n",
       "    </tr>\n",
       "  </tbody>\n",
       "</table>\n",
       "</div>"
      ],
      "text/plain": [
       "        name  year        pop_n      pop_u   wat_bas_n  wat_lim_n  \\\n",
       "0    Croatia  2020  4105.268066  57.552998         NaN        NaN   \n",
       "1    Croatia  2015  4232.874023  56.155003         NaN        NaN   \n",
       "2  Argentina  2020  45195.77734  92.111000         NaN        NaN   \n",
       "3     Greece  2015   10659.7373  78.046005  100.000005        0.0   \n",
       "4    Andorra  2020  77.26499939  87.916000  100.000004        0.0   \n",
       "\n",
       "   wat_unimp_n  wat_sur_n  wat_bas_r  wat_lim_r  wat_unimp_r  wat_sur_r  \\\n",
       "0          NaN        NaN        NaN        NaN          NaN        NaN   \n",
       "1          NaN        NaN        NaN        NaN          NaN        NaN   \n",
       "2          NaN        NaN        NaN        NaN          NaN        NaN   \n",
       "3          0.0        0.0      100.0        0.0          0.0        0.0   \n",
       "4          0.0        0.0      100.0        0.0          0.0        0.0   \n",
       "\n",
       "    wat_bas_u  wat_lim_u  wat_unimp_u wat_sur_u  \n",
       "0  100.000000        0.0     0.000000         0  \n",
       "1  100.000000        0.0     0.000000         0  \n",
       "2   99.790421        0.0     0.209579         0  \n",
       "3  100.000000        0.0     0.000000         0  \n",
       "4  100.000000        0.0     0.000000         0  "
      ]
     },
     "execution_count": 3,
     "metadata": {},
     "output_type": "execute_result"
    }
   ],
   "source": [
    "data.head()"
   ]
  },
  {
   "cell_type": "code",
   "execution_count": 4,
   "metadata": {},
   "outputs": [
    {
     "data": {
      "text/html": [
       "<div>\n",
       "<style scoped>\n",
       "    .dataframe tbody tr th:only-of-type {\n",
       "        vertical-align: middle;\n",
       "    }\n",
       "\n",
       "    .dataframe tbody tr th {\n",
       "        vertical-align: top;\n",
       "    }\n",
       "\n",
       "    .dataframe thead th {\n",
       "        text-align: right;\n",
       "    }\n",
       "</style>\n",
       "<table border=\"1\" class=\"dataframe\">\n",
       "  <thead>\n",
       "    <tr style=\"text-align: right;\">\n",
       "      <th></th>\n",
       "      <th>name</th>\n",
       "      <th>year</th>\n",
       "      <th>pop_n</th>\n",
       "      <th>pop_u</th>\n",
       "      <th>wat_bas_n</th>\n",
       "      <th>wat_lim_n</th>\n",
       "      <th>wat_unimp_n</th>\n",
       "      <th>wat_sur_n</th>\n",
       "      <th>wat_bas_r</th>\n",
       "      <th>wat_lim_r</th>\n",
       "      <th>wat_unimp_r</th>\n",
       "      <th>wat_sur_r</th>\n",
       "      <th>wat_bas_u</th>\n",
       "      <th>wat_lim_u</th>\n",
       "      <th>wat_unimp_u</th>\n",
       "      <th>wat_sur_u</th>\n",
       "    </tr>\n",
       "  </thead>\n",
       "  <tbody>\n",
       "    <tr>\n",
       "      <th>459</th>\n",
       "      <td>Ethiopia</td>\n",
       "      <td>2015</td>\n",
       "      <td>100835.4531</td>\n",
       "      <td>19.428001</td>\n",
       "      <td>42.070067</td>\n",
       "      <td>21.738790</td>\n",
       "      <td>24.477856</td>\n",
       "      <td>11.713286</td>\n",
       "      <td>32.451767</td>\n",
       "      <td>23.598552</td>\n",
       "      <td>29.781556</td>\n",
       "      <td>14.168125</td>\n",
       "      <td>81.959177</td>\n",
       "      <td>14.025967</td>\n",
       "      <td>2.482300</td>\n",
       "      <td>1.532556439</td>\n",
       "    </tr>\n",
       "    <tr>\n",
       "      <th>460</th>\n",
       "      <td>Papua New Guinea</td>\n",
       "      <td>2015</td>\n",
       "      <td>8107.771973</td>\n",
       "      <td>13.012000</td>\n",
       "      <td>41.485508</td>\n",
       "      <td>1.809953</td>\n",
       "      <td>21.261052</td>\n",
       "      <td>35.443486</td>\n",
       "      <td>34.990633</td>\n",
       "      <td>1.804724</td>\n",
       "      <td>23.253549</td>\n",
       "      <td>39.951094</td>\n",
       "      <td>84.905143</td>\n",
       "      <td>1.844908</td>\n",
       "      <td>7.940776</td>\n",
       "      <td>5.309172598</td>\n",
       "    </tr>\n",
       "    <tr>\n",
       "      <th>461</th>\n",
       "      <td>South Sudan</td>\n",
       "      <td>2015</td>\n",
       "      <td>10715.65723</td>\n",
       "      <td>18.851999</td>\n",
       "      <td>41.247509</td>\n",
       "      <td>30.695737</td>\n",
       "      <td>13.554393</td>\n",
       "      <td>14.502360</td>\n",
       "      <td>36.726780</td>\n",
       "      <td>32.662800</td>\n",
       "      <td>14.310065</td>\n",
       "      <td>16.300355</td>\n",
       "      <td>60.706877</td>\n",
       "      <td>22.228554</td>\n",
       "      <td>10.301639</td>\n",
       "      <td>6.762929552</td>\n",
       "    </tr>\n",
       "    <tr>\n",
       "      <th>462</th>\n",
       "      <td>South Sudan</td>\n",
       "      <td>2020</td>\n",
       "      <td>11193.72852</td>\n",
       "      <td>20.198999</td>\n",
       "      <td>40.950927</td>\n",
       "      <td>37.426963</td>\n",
       "      <td>13.537555</td>\n",
       "      <td>8.084555</td>\n",
       "      <td>33.593629</td>\n",
       "      <td>42.164381</td>\n",
       "      <td>14.111096</td>\n",
       "      <td>10.130894</td>\n",
       "      <td>70.017704</td>\n",
       "      <td>18.710661</td>\n",
       "      <td>11.271635</td>\n",
       "      <td>0</td>\n",
       "    </tr>\n",
       "    <tr>\n",
       "      <th>463</th>\n",
       "      <td>Central African Republic</td>\n",
       "      <td>2020</td>\n",
       "      <td>4829.76416</td>\n",
       "      <td>42.197998</td>\n",
       "      <td>37.202402</td>\n",
       "      <td>25.682373</td>\n",
       "      <td>33.539114</td>\n",
       "      <td>3.576111</td>\n",
       "      <td>28.106594</td>\n",
       "      <td>19.405890</td>\n",
       "      <td>46.373073</td>\n",
       "      <td>6.114443</td>\n",
       "      <td>49.661665</td>\n",
       "      <td>34.279780</td>\n",
       "      <td>15.959402</td>\n",
       "      <td>0.09915281712</td>\n",
       "    </tr>\n",
       "  </tbody>\n",
       "</table>\n",
       "</div>"
      ],
      "text/plain": [
       "                         name  year        pop_n      pop_u  wat_bas_n  \\\n",
       "459                  Ethiopia  2015  100835.4531  19.428001  42.070067   \n",
       "460          Papua New Guinea  2015  8107.771973  13.012000  41.485508   \n",
       "461               South Sudan  2015  10715.65723  18.851999  41.247509   \n",
       "462               South Sudan  2020  11193.72852  20.198999  40.950927   \n",
       "463  Central African Republic  2020   4829.76416  42.197998  37.202402   \n",
       "\n",
       "     wat_lim_n  wat_unimp_n  wat_sur_n  wat_bas_r  wat_lim_r  wat_unimp_r  \\\n",
       "459  21.738790    24.477856  11.713286  32.451767  23.598552    29.781556   \n",
       "460   1.809953    21.261052  35.443486  34.990633   1.804724    23.253549   \n",
       "461  30.695737    13.554393  14.502360  36.726780  32.662800    14.310065   \n",
       "462  37.426963    13.537555   8.084555  33.593629  42.164381    14.111096   \n",
       "463  25.682373    33.539114   3.576111  28.106594  19.405890    46.373073   \n",
       "\n",
       "     wat_sur_r  wat_bas_u  wat_lim_u  wat_unimp_u      wat_sur_u  \n",
       "459  14.168125  81.959177  14.025967     2.482300    1.532556439  \n",
       "460  39.951094  84.905143   1.844908     7.940776    5.309172598  \n",
       "461  16.300355  60.706877  22.228554    10.301639    6.762929552  \n",
       "462  10.130894  70.017704  18.710661    11.271635              0  \n",
       "463   6.114443  49.661665  34.279780    15.959402  0.09915281712  "
      ]
     },
     "execution_count": 4,
     "metadata": {},
     "output_type": "execute_result"
    }
   ],
   "source": [
    "data.tail()"
   ]
  },
  {
   "cell_type": "code",
   "execution_count": 5,
   "metadata": {},
   "outputs": [
    {
     "name": "stdout",
     "output_type": "stream",
     "text": [
      "<class 'pandas.core.frame.DataFrame'>\n",
      "RangeIndex: 464 entries, 0 to 463\n",
      "Data columns (total 16 columns):\n",
      " #   Column       Non-Null Count  Dtype  \n",
      "---  ------       --------------  -----  \n",
      " 0   name         464 non-null    object \n",
      " 1   year         464 non-null    int64  \n",
      " 2   pop_n        464 non-null    object \n",
      " 3   pop_u        464 non-null    float64\n",
      " 4   wat_bas_n    461 non-null    float64\n",
      " 5   wat_lim_n    461 non-null    float64\n",
      " 6   wat_unimp_n  461 non-null    float64\n",
      " 7   wat_sur_n    446 non-null    float64\n",
      " 8   wat_bas_r    339 non-null    float64\n",
      " 9   wat_lim_r    339 non-null    float64\n",
      " 10  wat_unimp_r  339 non-null    float64\n",
      " 11  wat_sur_r    330 non-null    float64\n",
      " 12  wat_bas_u    364 non-null    float64\n",
      " 13  wat_lim_u    364 non-null    float64\n",
      " 14  wat_unimp_u  364 non-null    float64\n",
      " 15  wat_sur_u    361 non-null    object \n",
      "dtypes: float64(12), int64(1), object(3)\n",
      "memory usage: 58.1+ KB\n"
     ]
    }
   ],
   "source": [
    "data.info()"
   ]
  },
  {
   "cell_type": "code",
   "execution_count": 6,
   "metadata": {},
   "outputs": [
    {
     "data": {
      "text/html": [
       "<div>\n",
       "<style scoped>\n",
       "    .dataframe tbody tr th:only-of-type {\n",
       "        vertical-align: middle;\n",
       "    }\n",
       "\n",
       "    .dataframe tbody tr th {\n",
       "        vertical-align: top;\n",
       "    }\n",
       "\n",
       "    .dataframe thead th {\n",
       "        text-align: right;\n",
       "    }\n",
       "</style>\n",
       "<table border=\"1\" class=\"dataframe\">\n",
       "  <thead>\n",
       "    <tr style=\"text-align: right;\">\n",
       "      <th></th>\n",
       "      <th>year</th>\n",
       "      <th>pop_u</th>\n",
       "      <th>wat_bas_n</th>\n",
       "      <th>wat_lim_n</th>\n",
       "      <th>wat_unimp_n</th>\n",
       "      <th>wat_sur_n</th>\n",
       "      <th>wat_bas_r</th>\n",
       "      <th>wat_lim_r</th>\n",
       "      <th>wat_unimp_r</th>\n",
       "      <th>wat_sur_r</th>\n",
       "      <th>wat_bas_u</th>\n",
       "      <th>wat_lim_u</th>\n",
       "      <th>wat_unimp_u</th>\n",
       "    </tr>\n",
       "  </thead>\n",
       "  <tbody>\n",
       "    <tr>\n",
       "      <th>count</th>\n",
       "      <td>464.000000</td>\n",
       "      <td>464.000000</td>\n",
       "      <td>461.000000</td>\n",
       "      <td>461.000000</td>\n",
       "      <td>461.000000</td>\n",
       "      <td>446.000000</td>\n",
       "      <td>339.000000</td>\n",
       "      <td>339.000000</td>\n",
       "      <td>339.000000</td>\n",
       "      <td>330.000000</td>\n",
       "      <td>364.000000</td>\n",
       "      <td>364.000000</td>\n",
       "      <td>364.000000</td>\n",
       "    </tr>\n",
       "    <tr>\n",
       "      <th>mean</th>\n",
       "      <td>2017.398707</td>\n",
       "      <td>60.890215</td>\n",
       "      <td>89.174871</td>\n",
       "      <td>3.675032</td>\n",
       "      <td>4.984907</td>\n",
       "      <td>2.238010</td>\n",
       "      <td>79.453935</td>\n",
       "      <td>5.846687</td>\n",
       "      <td>9.712588</td>\n",
       "      <td>5.122794</td>\n",
       "      <td>94.170999</td>\n",
       "      <td>3.292272</td>\n",
       "      <td>2.135052</td>\n",
       "    </tr>\n",
       "    <tr>\n",
       "      <th>std</th>\n",
       "      <td>2.459714</td>\n",
       "      <td>25.052383</td>\n",
       "      <td>15.489866</td>\n",
       "      <td>6.513164</td>\n",
       "      <td>7.522532</td>\n",
       "      <td>4.420156</td>\n",
       "      <td>22.426280</td>\n",
       "      <td>8.269319</td>\n",
       "      <td>12.190953</td>\n",
       "      <td>7.732253</td>\n",
       "      <td>8.141636</td>\n",
       "      <td>5.380358</td>\n",
       "      <td>3.508875</td>\n",
       "    </tr>\n",
       "    <tr>\n",
       "      <th>min</th>\n",
       "      <td>2015.000000</td>\n",
       "      <td>0.000000</td>\n",
       "      <td>37.202402</td>\n",
       "      <td>0.000000</td>\n",
       "      <td>0.000000</td>\n",
       "      <td>0.000000</td>\n",
       "      <td>20.622514</td>\n",
       "      <td>0.000000</td>\n",
       "      <td>0.000000</td>\n",
       "      <td>0.000000</td>\n",
       "      <td>49.661665</td>\n",
       "      <td>0.000000</td>\n",
       "      <td>0.000000</td>\n",
       "    </tr>\n",
       "    <tr>\n",
       "      <th>25%</th>\n",
       "      <td>2015.000000</td>\n",
       "      <td>41.839750</td>\n",
       "      <td>85.495601</td>\n",
       "      <td>0.000000</td>\n",
       "      <td>0.108476</td>\n",
       "      <td>0.000000</td>\n",
       "      <td>62.353529</td>\n",
       "      <td>0.000000</td>\n",
       "      <td>0.352567</td>\n",
       "      <td>0.000000</td>\n",
       "      <td>91.009838</td>\n",
       "      <td>0.000000</td>\n",
       "      <td>0.000000</td>\n",
       "    </tr>\n",
       "    <tr>\n",
       "      <th>50%</th>\n",
       "      <td>2015.500000</td>\n",
       "      <td>62.281998</td>\n",
       "      <td>96.604139</td>\n",
       "      <td>0.406530</td>\n",
       "      <td>1.344803</td>\n",
       "      <td>0.009381</td>\n",
       "      <td>89.875800</td>\n",
       "      <td>1.804724</td>\n",
       "      <td>4.310939</td>\n",
       "      <td>0.713097</td>\n",
       "      <td>97.836161</td>\n",
       "      <td>0.671124</td>\n",
       "      <td>0.639986</td>\n",
       "    </tr>\n",
       "    <tr>\n",
       "      <th>75%</th>\n",
       "      <td>2020.000000</td>\n",
       "      <td>81.416750</td>\n",
       "      <td>99.765173</td>\n",
       "      <td>4.692599</td>\n",
       "      <td>6.163618</td>\n",
       "      <td>2.303579</td>\n",
       "      <td>98.587231</td>\n",
       "      <td>8.768605</td>\n",
       "      <td>15.371147</td>\n",
       "      <td>7.727167</td>\n",
       "      <td>99.866205</td>\n",
       "      <td>4.234145</td>\n",
       "      <td>2.662380</td>\n",
       "    </tr>\n",
       "    <tr>\n",
       "      <th>max</th>\n",
       "      <td>2020.000000</td>\n",
       "      <td>100.000000</td>\n",
       "      <td>100.000005</td>\n",
       "      <td>37.426963</td>\n",
       "      <td>34.719560</td>\n",
       "      <td>35.443486</td>\n",
       "      <td>100.000000</td>\n",
       "      <td>42.164381</td>\n",
       "      <td>51.215982</td>\n",
       "      <td>41.629254</td>\n",
       "      <td>100.000000</td>\n",
       "      <td>34.279780</td>\n",
       "      <td>19.835807</td>\n",
       "    </tr>\n",
       "  </tbody>\n",
       "</table>\n",
       "</div>"
      ],
      "text/plain": [
       "              year       pop_u   wat_bas_n   wat_lim_n  wat_unimp_n  \\\n",
       "count   464.000000  464.000000  461.000000  461.000000   461.000000   \n",
       "mean   2017.398707   60.890215   89.174871    3.675032     4.984907   \n",
       "std       2.459714   25.052383   15.489866    6.513164     7.522532   \n",
       "min    2015.000000    0.000000   37.202402    0.000000     0.000000   \n",
       "25%    2015.000000   41.839750   85.495601    0.000000     0.108476   \n",
       "50%    2015.500000   62.281998   96.604139    0.406530     1.344803   \n",
       "75%    2020.000000   81.416750   99.765173    4.692599     6.163618   \n",
       "max    2020.000000  100.000000  100.000005   37.426963    34.719560   \n",
       "\n",
       "        wat_sur_n   wat_bas_r   wat_lim_r  wat_unimp_r   wat_sur_r  \\\n",
       "count  446.000000  339.000000  339.000000   339.000000  330.000000   \n",
       "mean     2.238010   79.453935    5.846687     9.712588    5.122794   \n",
       "std      4.420156   22.426280    8.269319    12.190953    7.732253   \n",
       "min      0.000000   20.622514    0.000000     0.000000    0.000000   \n",
       "25%      0.000000   62.353529    0.000000     0.352567    0.000000   \n",
       "50%      0.009381   89.875800    1.804724     4.310939    0.713097   \n",
       "75%      2.303579   98.587231    8.768605    15.371147    7.727167   \n",
       "max     35.443486  100.000000   42.164381    51.215982   41.629254   \n",
       "\n",
       "        wat_bas_u   wat_lim_u  wat_unimp_u  \n",
       "count  364.000000  364.000000   364.000000  \n",
       "mean    94.170999    3.292272     2.135052  \n",
       "std      8.141636    5.380358     3.508875  \n",
       "min     49.661665    0.000000     0.000000  \n",
       "25%     91.009838    0.000000     0.000000  \n",
       "50%     97.836161    0.671124     0.639986  \n",
       "75%     99.866205    4.234145     2.662380  \n",
       "max    100.000000   34.279780    19.835807  "
      ]
     },
     "execution_count": 6,
     "metadata": {},
     "output_type": "execute_result"
    }
   ],
   "source": [
    "data.describe()"
   ]
  },
  {
   "cell_type": "code",
   "execution_count": 7,
   "metadata": {},
   "outputs": [
    {
     "data": {
      "text/plain": [
       "array([2020, 2015, 2017, 2019, 2016, 2018], dtype=int64)"
      ]
     },
     "execution_count": 7,
     "metadata": {},
     "output_type": "execute_result"
    }
   ],
   "source": [
    "data.year.unique()"
   ]
  },
  {
   "cell_type": "code",
   "execution_count": 8,
   "metadata": {},
   "outputs": [
    {
     "data": {
      "text/plain": [
       "array([[<Axes: title={'center': 'year'}>,\n",
       "        <Axes: title={'center': 'pop_u'}>,\n",
       "        <Axes: title={'center': 'wat_bas_n'}>,\n",
       "        <Axes: title={'center': 'wat_lim_n'}>],\n",
       "       [<Axes: title={'center': 'wat_unimp_n'}>,\n",
       "        <Axes: title={'center': 'wat_sur_n'}>,\n",
       "        <Axes: title={'center': 'wat_bas_r'}>,\n",
       "        <Axes: title={'center': 'wat_lim_r'}>],\n",
       "       [<Axes: title={'center': 'wat_unimp_r'}>,\n",
       "        <Axes: title={'center': 'wat_sur_r'}>,\n",
       "        <Axes: title={'center': 'wat_bas_u'}>,\n",
       "        <Axes: title={'center': 'wat_lim_u'}>],\n",
       "       [<Axes: title={'center': 'wat_unimp_u'}>, <Axes: >, <Axes: >,\n",
       "        <Axes: >]], dtype=object)"
      ]
     },
     "execution_count": 8,
     "metadata": {},
     "output_type": "execute_result"
    },
    {
     "data": {
      "image/png": "[encoded data removed]",
      "text/plain": [
       "<Figure size 640x480 with 16 Axes>"
      ]
     },
     "metadata": {},
     "output_type": "display_data"
    }
   ],
   "source": [
    "data.hist()"
   ]
  },
  {
   "cell_type": "markdown",
   "metadata": {},
   "source": [
    "# Exploratory Data Analysis"
   ]
  },
  {
   "cell_type": "markdown",
   "metadata": {},
   "source": [
    "# Data Cleaning"
   ]
  },
  {
   "cell_type": "markdown",
   "metadata": {},
   "source": [
    "# Feature Engineering"
   ]
  },
  {
   "cell_type": "markdown",
   "metadata": {},
   "source": [
    "# Data Preprocessing"
   ]
  },
  {
   "cell_type": "markdown",
   "metadata": {},
   "source": [
    "# Model Selection and Training"
   ]
  },
  {
   "cell_type": "markdown",
   "metadata": {},
   "source": [
    "# Model Evaluation"
   ]
  },
  {
   "cell_type": "markdown",
   "metadata": {},
   "source": [
    "# Model Interpretation"
   ]
  },
  {
   "cell_type": "markdown",
   "metadata": {},
   "source": [
    "# Results"
   ]
  },
  {
   "cell_type": "markdown",
   "metadata": {},
   "source": [
    "# Recommendations and Conclusion"
   ]
  }
 ],
 "metadata": {
  "kernelspec": {
   "display_name": "Python 3",
   "language": "python",
   "name": "python3"
  },
  "language_info": {
   "codemirror_mode": {
    "name": "ipython",
    "version": 3
   },
   "file_extension": ".py",
   "mimetype": "text/x-python",
   "name": "python",
   "nbconvert_exporter": "python",
   "pygments_lexer": "ipython3",
   "version": "3.12.7"
  }
 },
 "nbformat": 4,
 "nbformat_minor": 2
}
