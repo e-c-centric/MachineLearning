{
  "cells": [
    {
      "cell_type": "markdown",
      "metadata": {},
      "source": [
        "# Question 1"
      ]
    },
    {
      "cell_type": "markdown",
      "metadata": {},
      "source": [
        "## Part A"
      ]
    },
    {
      "cell_type": "code",
      "execution_count": 76,
      "metadata": {},
      "outputs": [],
      "source": [
        "import pandas as pd"
      ]
    },
    {
      "cell_type": "code",
      "execution_count": 77,
      "metadata": {},
      "outputs": [],
      "source": [
        "data = {\n",
        "    \"PlotID\": [1, 2, 3, 4, 5, 6, 7, 8, 9, 10, 11, 12, 13, 14, 15, 16, 17, 18, 19, 20],\n",
        "    \"Size of Plot (sq. meters)\": [250, 300, 150, 400, 500, 600, 350, 450, 200, 275, 325, 550, 450, 225, 375, 175, 275, 350, 500, 600],\n",
        "    \"Land Price (GHS)\": [25000, 28500, 15750, 36000, 45000, 52200, 32000, 40500, 19900, 27250, 30000, 50000, 41500, 20750, 34500, 17500, 26500, 33000, 46000, 53500]\n",
        "}"
      ]
    },
    {
      "cell_type": "code",
      "execution_count": 78,
      "metadata": {},
      "outputs": [],
      "source": [
        "land_df = pd.DataFrame(data)"
      ]
    },
    {
      "cell_type": "code",
      "execution_count": 79,
      "metadata": {},
      "outputs": [
        {
          "data": {
            "text/html": [
              "<div>\n",
              "<style scoped>\n",
              "    .dataframe tbody tr th:only-of-type {\n",
              "        vertical-align: middle;\n",
              "    }\n",
              "\n",
              "    .dataframe tbody tr th {\n",
              "        vertical-align: top;\n",
              "    }\n",
              "\n",
              "    .dataframe thead th {\n",
              "        text-align: right;\n",
              "    }\n",
              "</style>\n",
              "<table border=\"1\" class=\"dataframe\">\n",
              "  <thead>\n",
              "    <tr style=\"text-align: right;\">\n",
              "      <th></th>\n",
              "      <th>PlotID</th>\n",
              "      <th>Size of Plot (sq. meters)</th>\n",
              "      <th>Land Price (GHS)</th>\n",
              "    </tr>\n",
              "  </thead>\n",
              "  <tbody>\n",
              "    <tr>\n",
              "      <th>0</th>\n",
              "      <td>1</td>\n",
              "      <td>250</td>\n",
              "      <td>25000</td>\n",
              "    </tr>\n",
              "    <tr>\n",
              "      <th>1</th>\n",
              "      <td>2</td>\n",
              "      <td>300</td>\n",
              "      <td>28500</td>\n",
              "    </tr>\n",
              "    <tr>\n",
              "      <th>2</th>\n",
              "      <td>3</td>\n",
              "      <td>150</td>\n",
              "      <td>15750</td>\n",
              "    </tr>\n",
              "    <tr>\n",
              "      <th>3</th>\n",
              "      <td>4</td>\n",
              "      <td>400</td>\n",
              "      <td>36000</td>\n",
              "    </tr>\n",
              "    <tr>\n",
              "      <th>4</th>\n",
              "      <td>5</td>\n",
              "      <td>500</td>\n",
              "      <td>45000</td>\n",
              "    </tr>\n",
              "    <tr>\n",
              "      <th>5</th>\n",
              "      <td>6</td>\n",
              "      <td>600</td>\n",
              "      <td>52200</td>\n",
              "    </tr>\n",
              "    <tr>\n",
              "      <th>6</th>\n",
              "      <td>7</td>\n",
              "      <td>350</td>\n",
              "      <td>32000</td>\n",
              "    </tr>\n",
              "    <tr>\n",
              "      <th>7</th>\n",
              "      <td>8</td>\n",
              "      <td>450</td>\n",
              "      <td>40500</td>\n",
              "    </tr>\n",
              "    <tr>\n",
              "      <th>8</th>\n",
              "      <td>9</td>\n",
              "      <td>200</td>\n",
              "      <td>19900</td>\n",
              "    </tr>\n",
              "    <tr>\n",
              "      <th>9</th>\n",
              "      <td>10</td>\n",
              "      <td>275</td>\n",
              "      <td>27250</td>\n",
              "    </tr>\n",
              "    <tr>\n",
              "      <th>10</th>\n",
              "      <td>11</td>\n",
              "      <td>325</td>\n",
              "      <td>30000</td>\n",
              "    </tr>\n",
              "    <tr>\n",
              "      <th>11</th>\n",
              "      <td>12</td>\n",
              "      <td>550</td>\n",
              "      <td>50000</td>\n",
              "    </tr>\n",
              "    <tr>\n",
              "      <th>12</th>\n",
              "      <td>13</td>\n",
              "      <td>450</td>\n",
              "      <td>41500</td>\n",
              "    </tr>\n",
              "    <tr>\n",
              "      <th>13</th>\n",
              "      <td>14</td>\n",
              "      <td>225</td>\n",
              "      <td>20750</td>\n",
              "    </tr>\n",
              "    <tr>\n",
              "      <th>14</th>\n",
              "      <td>15</td>\n",
              "      <td>375</td>\n",
              "      <td>34500</td>\n",
              "    </tr>\n",
              "    <tr>\n",
              "      <th>15</th>\n",
              "      <td>16</td>\n",
              "      <td>175</td>\n",
              "      <td>17500</td>\n",
              "    </tr>\n",
              "    <tr>\n",
              "      <th>16</th>\n",
              "      <td>17</td>\n",
              "      <td>275</td>\n",
              "      <td>26500</td>\n",
              "    </tr>\n",
              "    <tr>\n",
              "      <th>17</th>\n",
              "      <td>18</td>\n",
              "      <td>350</td>\n",
              "      <td>33000</td>\n",
              "    </tr>\n",
              "    <tr>\n",
              "      <th>18</th>\n",
              "      <td>19</td>\n",
              "      <td>500</td>\n",
              "      <td>46000</td>\n",
              "    </tr>\n",
              "    <tr>\n",
              "      <th>19</th>\n",
              "      <td>20</td>\n",
              "      <td>600</td>\n",
              "      <td>53500</td>\n",
              "    </tr>\n",
              "  </tbody>\n",
              "</table>\n",
              "</div>"
            ],
            "text/plain": [
              "    PlotID  Size of Plot (sq. meters)  Land Price (GHS)\n",
              "0        1                        250             25000\n",
              "1        2                        300             28500\n",
              "2        3                        150             15750\n",
              "3        4                        400             36000\n",
              "4        5                        500             45000\n",
              "5        6                        600             52200\n",
              "6        7                        350             32000\n",
              "7        8                        450             40500\n",
              "8        9                        200             19900\n",
              "9       10                        275             27250\n",
              "10      11                        325             30000\n",
              "11      12                        550             50000\n",
              "12      13                        450             41500\n",
              "13      14                        225             20750\n",
              "14      15                        375             34500\n",
              "15      16                        175             17500\n",
              "16      17                        275             26500\n",
              "17      18                        350             33000\n",
              "18      19                        500             46000\n",
              "19      20                        600             53500"
            ]
          },
          "execution_count": 79,
          "metadata": {},
          "output_type": "execute_result"
        }
      ],
      "source": [
        "land_df"
      ]
    },
    {
      "cell_type": "code",
      "execution_count": 80,
      "metadata": {},
      "outputs": [
        {
          "data": {
            "text/html": [
              "<div>\n",
              "<style scoped>\n",
              "    .dataframe tbody tr th:only-of-type {\n",
              "        vertical-align: middle;\n",
              "    }\n",
              "\n",
              "    .dataframe tbody tr th {\n",
              "        vertical-align: top;\n",
              "    }\n",
              "\n",
              "    .dataframe thead th {\n",
              "        text-align: right;\n",
              "    }\n",
              "</style>\n",
              "<table border=\"1\" class=\"dataframe\">\n",
              "  <thead>\n",
              "    <tr style=\"text-align: right;\">\n",
              "      <th></th>\n",
              "      <th>PlotID</th>\n",
              "      <th>Size of Plot (sq. meters)</th>\n",
              "      <th>Land Price (GHS)</th>\n",
              "    </tr>\n",
              "  </thead>\n",
              "  <tbody>\n",
              "    <tr>\n",
              "      <th>count</th>\n",
              "      <td>20.00000</td>\n",
              "      <td>20.000000</td>\n",
              "      <td>20.000000</td>\n",
              "    </tr>\n",
              "    <tr>\n",
              "      <th>mean</th>\n",
              "      <td>10.50000</td>\n",
              "      <td>365.000000</td>\n",
              "      <td>33767.500000</td>\n",
              "    </tr>\n",
              "    <tr>\n",
              "      <th>std</th>\n",
              "      <td>5.91608</td>\n",
              "      <td>137.983599</td>\n",
              "      <td>11580.169926</td>\n",
              "    </tr>\n",
              "    <tr>\n",
              "      <th>min</th>\n",
              "      <td>1.00000</td>\n",
              "      <td>150.000000</td>\n",
              "      <td>15750.000000</td>\n",
              "    </tr>\n",
              "    <tr>\n",
              "      <th>25%</th>\n",
              "      <td>5.75000</td>\n",
              "      <td>268.750000</td>\n",
              "      <td>26125.000000</td>\n",
              "    </tr>\n",
              "    <tr>\n",
              "      <th>50%</th>\n",
              "      <td>10.50000</td>\n",
              "      <td>350.000000</td>\n",
              "      <td>32500.000000</td>\n",
              "    </tr>\n",
              "    <tr>\n",
              "      <th>75%</th>\n",
              "      <td>15.25000</td>\n",
              "      <td>462.500000</td>\n",
              "      <td>42375.000000</td>\n",
              "    </tr>\n",
              "    <tr>\n",
              "      <th>max</th>\n",
              "      <td>20.00000</td>\n",
              "      <td>600.000000</td>\n",
              "      <td>53500.000000</td>\n",
              "    </tr>\n",
              "  </tbody>\n",
              "</table>\n",
              "</div>"
            ],
            "text/plain": [
              "         PlotID  Size of Plot (sq. meters)  Land Price (GHS)\n",
              "count  20.00000                  20.000000         20.000000\n",
              "mean   10.50000                 365.000000      33767.500000\n",
              "std     5.91608                 137.983599      11580.169926\n",
              "min     1.00000                 150.000000      15750.000000\n",
              "25%     5.75000                 268.750000      26125.000000\n",
              "50%    10.50000                 350.000000      32500.000000\n",
              "75%    15.25000                 462.500000      42375.000000\n",
              "max    20.00000                 600.000000      53500.000000"
            ]
          },
          "execution_count": 80,
          "metadata": {},
          "output_type": "execute_result"
        }
      ],
      "source": [
        "land_df.describe()"
      ]
    },
    {
      "cell_type": "code",
      "execution_count": 81,
      "metadata": {},
      "outputs": [
        {
          "name": "stdout",
          "output_type": "stream",
          "text": [
            "<class 'pandas.core.frame.DataFrame'>\n",
            "RangeIndex: 20 entries, 0 to 19\n",
            "Data columns (total 3 columns):\n",
            " #   Column                     Non-Null Count  Dtype\n",
            "---  ------                     --------------  -----\n",
            " 0   PlotID                     20 non-null     int64\n",
            " 1   Size of Plot (sq. meters)  20 non-null     int64\n",
            " 2   Land Price (GHS)           20 non-null     int64\n",
            "dtypes: int64(3)\n",
            "memory usage: 612.0 bytes\n"
          ]
        }
      ],
      "source": [
        "land_df.info()"
      ]
    },
    {
      "cell_type": "markdown",
      "metadata": {},
      "source": [
        "## Part B"
      ]
    },
    {
      "cell_type": "code",
      "execution_count": 82,
      "metadata": {},
      "outputs": [],
      "source": [
        "import matplotlib.pyplot as plt"
      ]
    },
    {
      "cell_type": "code",
      "execution_count": 83,
      "metadata": {},
      "outputs": [
        {
          "data": {
            "image/png": "[encoded data removed]",
            "text/plain": [
              "<Figure size 1000x1000 with 1 Axes>"
            ]
          },
          "metadata": {},
          "output_type": "display_data"
        }
      ],
      "source": [
        "plt.figure(figsize=(10, 10))\n",
        "plt.scatter(land_df[\"Size of Plot (sq. meters)\"], land_df[\"Land Price (GHS)\"], color='green', edgecolor='k', alpha=0.7)\n",
        "\n",
        "plt.title('Scatter Plot of Land Prices vs. Plot Sizes', fontsize=14)\n",
        "plt.xlabel('Size of Plot (sq. meters)', fontsize=12)\n",
        "plt.ylabel('Land Price (GHS)', fontsize=12)\n",
        "\n",
        "plt.grid(True, linestyle='--', alpha=0.8)\n",
        "\n",
        "for i in range(len(land_df)):\n",
        "    plt.annotate(\n",
        "        land_df[\"PlotID\"][i],\n",
        "        (land_df[\"Size of Plot (sq. meters)\"][i], land_df[\"Land Price (GHS)\"][i]),\n",
        "        textcoords=\"offset points\",\n",
        "        xytext=(8,5),\n",
        "        ha='center',\n",
        "        fontsize=12,\n",
        "    )\n",
        "\n",
        "plt.show()"
      ]
    },
    {
      "cell_type": "markdown",
      "metadata": {},
      "source": [
        "# Question 2"
      ]
    },
    {
      "cell_type": "markdown",
      "metadata": {},
      "source": [
        "## Part A"
      ]
    },
    {
      "cell_type": "code",
      "execution_count": 84,
      "metadata": {},
      "outputs": [
        {
          "name": "stdout",
          "output_type": "stream",
          "text": [
            "Requirement already satisfied: seaborn in c:\\users\\egale\\appdata\\local\\programs\\python\\python312\\lib\\site-packages (0.13.2)\n",
            "Requirement already satisfied: numpy!=1.24.0,>=1.20 in c:\\users\\egale\\appdata\\local\\programs\\python\\python312\\lib\\site-packages (from seaborn) (1.26.4)\n",
            "Requirement already satisfied: pandas>=1.2 in c:\\users\\egale\\appdata\\local\\programs\\python\\python312\\lib\\site-packages (from seaborn) (2.2.2)\n",
            "Requirement already satisfied: matplotlib!=3.6.1,>=3.4 in c:\\users\\egale\\appdata\\local\\programs\\python\\python312\\lib\\site-packages (from seaborn) (3.9.2)\n",
            "Requirement already satisfied: contourpy>=1.0.1 in c:\\users\\egale\\appdata\\local\\programs\\python\\python312\\lib\\site-packages (from matplotlib!=3.6.1,>=3.4->seaborn) (1.3.0)\n",
            "Requirement already satisfied: cycler>=0.10 in c:\\users\\egale\\appdata\\local\\programs\\python\\python312\\lib\\site-packages (from matplotlib!=3.6.1,>=3.4->seaborn) (0.12.1)\n",
            "Requirement already satisfied: fonttools>=4.22.0 in c:\\users\\egale\\appdata\\local\\programs\\python\\python312\\lib\\site-packages (from matplotlib!=3.6.1,>=3.4->seaborn) (4.53.1)\n",
            "Requirement already satisfied: kiwisolver>=1.3.1 in c:\\users\\egale\\appdata\\local\\programs\\python\\python312\\lib\\site-packages (from matplotlib!=3.6.1,>=3.4->seaborn) (1.4.7)\n",
            "Requirement already satisfied: packaging>=20.0 in c:\\users\\egale\\appdata\\local\\programs\\python\\python312\\lib\\site-packages (from matplotlib!=3.6.1,>=3.4->seaborn) (24.1)\n",
            "Requirement already satisfied: pillow>=8 in c:\\users\\egale\\appdata\\local\\programs\\python\\python312\\lib\\site-packages (from matplotlib!=3.6.1,>=3.4->seaborn) (10.3.0)\n",
            "Requirement already satisfied: pyparsing>=2.3.1 in c:\\users\\egale\\appdata\\local\\programs\\python\\python312\\lib\\site-packages (from matplotlib!=3.6.1,>=3.4->seaborn) (3.1.2)\n",
            "Requirement already satisfied: python-dateutil>=2.7 in c:\\users\\egale\\appdata\\local\\programs\\python\\python312\\lib\\site-packages (from matplotlib!=3.6.1,>=3.4->seaborn) (2.9.0.post0)\n",
            "Requirement already satisfied: pytz>=2020.1 in c:\\users\\egale\\appdata\\local\\programs\\python\\python312\\lib\\site-packages (from pandas>=1.2->seaborn) (2024.1)\n",
            "Requirement already satisfied: tzdata>=2022.7 in c:\\users\\egale\\appdata\\local\\programs\\python\\python312\\lib\\site-packages (from pandas>=1.2->seaborn) (2024.1)\n",
            "Requirement already satisfied: six>=1.5 in c:\\users\\egale\\appdata\\local\\programs\\python\\python312\\lib\\site-packages (from python-dateutil>=2.7->matplotlib!=3.6.1,>=3.4->seaborn) (1.16.0)\n",
            "Note: you may need to restart the kernel to use updated packages.\n"
          ]
        }
      ],
      "source": [
        "%pip install seaborn"
      ]
    },
    {
      "cell_type": "code",
      "execution_count": 85,
      "metadata": {},
      "outputs": [],
      "source": [
        "from sklearn.ensemble import RandomForestClassifier\n",
        "from sklearn.preprocessing import LabelEncoder\n",
        "from sklearn.decomposition import PCA\n",
        "import numpy as np\n",
        "from sklearn.model_selection import train_test_split\n",
        "from sklearn.linear_model import LogisticRegression\n",
        "from sklearn.metrics import confusion_matrix, accuracy_score\n",
        "from sklearn.tree import DecisionTreeClassifier\n",
        "import seaborn as sns"
      ]
    },
    {
      "cell_type": "markdown",
      "metadata": {},
      "source": [
        "The data from the images are rewritten as dictionaries with the column header being the key, and the values in that column in a list. This is so that the `pandas.Dataframe` method can easily convert the information provided into a pandas dataframe, which makes subsequent operations easier."
      ]
    },
    {
      "cell_type": "code",
      "execution_count": 86,
      "metadata": {},
      "outputs": [],
      "source": [
        "# Data for hospital patients obtained from image\n",
        "data_hospital = {\n",
        "    \"Patient ID\": [1, 2, 3, 4, 5, 6, 7, 8, 9, 10],\n",
        "    \"Fever\": [38.5, 39, 37.8, 40.2, 38, 39.5, 37.5, 38.8, 39.2, 38.3],\n",
        "    \"Headache\": [\"Yes\", \"Yes\", \"No\", \"Yes\", \"No\", \"Yes\", \"No\", \"Yes\", \"Yes\", \"No\"],\n",
        "    \"Muscle Pain\": [\"Yes\", \"Yes\", \"Yes\", \"Yes\", \"No\", \"No\", \"Yes\", \"No\", \"Yes\", \"No\"],\n",
        "    \"Nausea\": [\"Yes\", \"No\", \"No\", \"Yes\", \"Yes\", \"No\", \"No\", \"Yes\", \"No\", \"No\"],\n",
        "    \"Rash\": [\"No\", \"No\", \"No\", \"Yes\", \"No\", \"Yes\", \"No\", \"No\", \"Yes\", \"No\"],\n",
        "    \"Diarrhea\": [\"No\", \"Yes\", \"No\", \"No\", \"Yes\", \"No\", \"No\", \"No\", \"Yes\", \"Yes\"],\n",
        "    \"Disease (Target)\": [\"Malaria\", \"Typhoid\", \"Malaria\", \"Typhoid\", \"Typhoid\", \"Typhoid\", \"Malaria\", \"Malaria\", \"Typhoid\", \"Typhoid\"]\n",
        "}"
      ]
    },
    {
      "cell_type": "code",
      "execution_count": 87,
      "metadata": {},
      "outputs": [],
      "source": [
        "# Data for store customers obtained from image\n",
        "data_store = {\n",
        "    \"Customer ID\": [1, 2, 3, 4, 5, 6, 7, 8, 9, 10],\n",
        "    \"Age\": [25, 45, 35, 50, 30, 40, 28, 55, 32, 42],\n",
        "    \"Income ($1000s)\": [40, 80, 60, 100, 45, 70, 50, 90, 55, 75],\n",
        "    \"Education Level\": [\"Bachelor's\", \"Master's\", \"PhD\", \"Bachelor's\", \"High School\", \"Master's\", \"Bachelor's\", \"PhD\", \"High School\", \"Master's\"],\n",
        "    \"Previous Purchases\": [2, 10, 5, 8, 1, 6, 3, 12, 4, 7],\n",
        "    \"Marital Status\": [\"Single\", \"Married\", \"Single\", \"Married\", \"Divorced\", \"Married\", \"Single\", \"Widowed\", \"Married\", \"Single\"],\n",
        "    \"Buy Product (Target)\": [\"No\", \"Yes\", \"No\", \"Yes\", \"No\", \"Yes\", \"No\", \"Yes\", \"No\", \"Yes\"]\n",
        "}"
      ]
    },
    {
      "cell_type": "code",
      "execution_count": 88,
      "metadata": {},
      "outputs": [],
      "source": [
        "# both datases are transformed into pandas dataframes\n",
        "\n",
        "df_hospital = pd.DataFrame(data_hospital)\n",
        "df_store = pd.DataFrame(data_store)"
      ]
    },
    {
      "cell_type": "code",
      "execution_count": 89,
      "metadata": {},
      "outputs": [
        {
          "data": {
            "text/html": [
              "<div>\n",
              "<style scoped>\n",
              "    .dataframe tbody tr th:only-of-type {\n",
              "        vertical-align: middle;\n",
              "    }\n",
              "\n",
              "    .dataframe tbody tr th {\n",
              "        vertical-align: top;\n",
              "    }\n",
              "\n",
              "    .dataframe thead th {\n",
              "        text-align: right;\n",
              "    }\n",
              "</style>\n",
              "<table border=\"1\" class=\"dataframe\">\n",
              "  <thead>\n",
              "    <tr style=\"text-align: right;\">\n",
              "      <th></th>\n",
              "      <th>Patient ID</th>\n",
              "      <th>Fever</th>\n",
              "      <th>Headache</th>\n",
              "      <th>Muscle Pain</th>\n",
              "      <th>Nausea</th>\n",
              "      <th>Rash</th>\n",
              "      <th>Diarrhea</th>\n",
              "      <th>Disease (Target)</th>\n",
              "    </tr>\n",
              "  </thead>\n",
              "  <tbody>\n",
              "    <tr>\n",
              "      <th>0</th>\n",
              "      <td>1</td>\n",
              "      <td>38.5</td>\n",
              "      <td>Yes</td>\n",
              "      <td>Yes</td>\n",
              "      <td>Yes</td>\n",
              "      <td>No</td>\n",
              "      <td>No</td>\n",
              "      <td>Malaria</td>\n",
              "    </tr>\n",
              "    <tr>\n",
              "      <th>1</th>\n",
              "      <td>2</td>\n",
              "      <td>39.0</td>\n",
              "      <td>Yes</td>\n",
              "      <td>Yes</td>\n",
              "      <td>No</td>\n",
              "      <td>No</td>\n",
              "      <td>Yes</td>\n",
              "      <td>Typhoid</td>\n",
              "    </tr>\n",
              "    <tr>\n",
              "      <th>2</th>\n",
              "      <td>3</td>\n",
              "      <td>37.8</td>\n",
              "      <td>No</td>\n",
              "      <td>Yes</td>\n",
              "      <td>No</td>\n",
              "      <td>No</td>\n",
              "      <td>No</td>\n",
              "      <td>Malaria</td>\n",
              "    </tr>\n",
              "    <tr>\n",
              "      <th>3</th>\n",
              "      <td>4</td>\n",
              "      <td>40.2</td>\n",
              "      <td>Yes</td>\n",
              "      <td>Yes</td>\n",
              "      <td>Yes</td>\n",
              "      <td>Yes</td>\n",
              "      <td>No</td>\n",
              "      <td>Typhoid</td>\n",
              "    </tr>\n",
              "    <tr>\n",
              "      <th>4</th>\n",
              "      <td>5</td>\n",
              "      <td>38.0</td>\n",
              "      <td>No</td>\n",
              "      <td>No</td>\n",
              "      <td>Yes</td>\n",
              "      <td>No</td>\n",
              "      <td>Yes</td>\n",
              "      <td>Typhoid</td>\n",
              "    </tr>\n",
              "  </tbody>\n",
              "</table>\n",
              "</div>"
            ],
            "text/plain": [
              "   Patient ID  Fever Headache Muscle Pain Nausea Rash Diarrhea  \\\n",
              "0           1   38.5      Yes         Yes    Yes   No       No   \n",
              "1           2   39.0      Yes         Yes     No   No      Yes   \n",
              "2           3   37.8       No         Yes     No   No       No   \n",
              "3           4   40.2      Yes         Yes    Yes  Yes       No   \n",
              "4           5   38.0       No          No    Yes   No      Yes   \n",
              "\n",
              "  Disease (Target)  \n",
              "0          Malaria  \n",
              "1          Typhoid  \n",
              "2          Malaria  \n",
              "3          Typhoid  \n",
              "4          Typhoid  "
            ]
          },
          "execution_count": 89,
          "metadata": {},
          "output_type": "execute_result"
        }
      ],
      "source": [
        "# viewing the first 5 rows of the hospital dataset to \n",
        "# confirm the transformation and also that the values are consistent with the image\n",
        "df_hospital.head()"
      ]
    },
    {
      "cell_type": "code",
      "execution_count": 90,
      "metadata": {},
      "outputs": [
        {
          "name": "stdout",
          "output_type": "stream",
          "text": [
            "<class 'pandas.core.frame.DataFrame'>\n",
            "RangeIndex: 10 entries, 0 to 9\n",
            "Data columns (total 8 columns):\n",
            " #   Column            Non-Null Count  Dtype  \n",
            "---  ------            --------------  -----  \n",
            " 0   Patient ID        10 non-null     int64  \n",
            " 1   Fever             10 non-null     float64\n",
            " 2   Headache          10 non-null     object \n",
            " 3   Muscle Pain       10 non-null     object \n",
            " 4   Nausea            10 non-null     object \n",
            " 5   Rash              10 non-null     object \n",
            " 6   Diarrhea          10 non-null     object \n",
            " 7   Disease (Target)  10 non-null     object \n",
            "dtypes: float64(1), int64(1), object(6)\n",
            "memory usage: 772.0+ bytes\n"
          ]
        }
      ],
      "source": [
        "df_hospital.info()"
      ]
    },
    {
      "cell_type": "code",
      "execution_count": 91,
      "metadata": {},
      "outputs": [
        {
          "data": {
            "text/html": [
              "<div>\n",
              "<style scoped>\n",
              "    .dataframe tbody tr th:only-of-type {\n",
              "        vertical-align: middle;\n",
              "    }\n",
              "\n",
              "    .dataframe tbody tr th {\n",
              "        vertical-align: top;\n",
              "    }\n",
              "\n",
              "    .dataframe thead th {\n",
              "        text-align: right;\n",
              "    }\n",
              "</style>\n",
              "<table border=\"1\" class=\"dataframe\">\n",
              "  <thead>\n",
              "    <tr style=\"text-align: right;\">\n",
              "      <th></th>\n",
              "      <th>Customer ID</th>\n",
              "      <th>Age</th>\n",
              "      <th>Income ($1000s)</th>\n",
              "      <th>Education Level</th>\n",
              "      <th>Previous Purchases</th>\n",
              "      <th>Marital Status</th>\n",
              "      <th>Buy Product (Target)</th>\n",
              "    </tr>\n",
              "  </thead>\n",
              "  <tbody>\n",
              "    <tr>\n",
              "      <th>0</th>\n",
              "      <td>1</td>\n",
              "      <td>25</td>\n",
              "      <td>40</td>\n",
              "      <td>Bachelor's</td>\n",
              "      <td>2</td>\n",
              "      <td>Single</td>\n",
              "      <td>No</td>\n",
              "    </tr>\n",
              "    <tr>\n",
              "      <th>1</th>\n",
              "      <td>2</td>\n",
              "      <td>45</td>\n",
              "      <td>80</td>\n",
              "      <td>Master's</td>\n",
              "      <td>10</td>\n",
              "      <td>Married</td>\n",
              "      <td>Yes</td>\n",
              "    </tr>\n",
              "    <tr>\n",
              "      <th>2</th>\n",
              "      <td>3</td>\n",
              "      <td>35</td>\n",
              "      <td>60</td>\n",
              "      <td>PhD</td>\n",
              "      <td>5</td>\n",
              "      <td>Single</td>\n",
              "      <td>No</td>\n",
              "    </tr>\n",
              "    <tr>\n",
              "      <th>3</th>\n",
              "      <td>4</td>\n",
              "      <td>50</td>\n",
              "      <td>100</td>\n",
              "      <td>Bachelor's</td>\n",
              "      <td>8</td>\n",
              "      <td>Married</td>\n",
              "      <td>Yes</td>\n",
              "    </tr>\n",
              "    <tr>\n",
              "      <th>4</th>\n",
              "      <td>5</td>\n",
              "      <td>30</td>\n",
              "      <td>45</td>\n",
              "      <td>High School</td>\n",
              "      <td>1</td>\n",
              "      <td>Divorced</td>\n",
              "      <td>No</td>\n",
              "    </tr>\n",
              "  </tbody>\n",
              "</table>\n",
              "</div>"
            ],
            "text/plain": [
              "   Customer ID  Age  Income ($1000s) Education Level  Previous Purchases  \\\n",
              "0            1   25               40      Bachelor's                   2   \n",
              "1            2   45               80        Master's                  10   \n",
              "2            3   35               60             PhD                   5   \n",
              "3            4   50              100      Bachelor's                   8   \n",
              "4            5   30               45     High School                   1   \n",
              "\n",
              "  Marital Status Buy Product (Target)  \n",
              "0         Single                   No  \n",
              "1        Married                  Yes  \n",
              "2         Single                   No  \n",
              "3        Married                  Yes  \n",
              "4       Divorced                   No  "
            ]
          },
          "execution_count": 91,
          "metadata": {},
          "output_type": "execute_result"
        }
      ],
      "source": [
        "df_store.head()"
      ]
    },
    {
      "cell_type": "code",
      "execution_count": 92,
      "metadata": {},
      "outputs": [
        {
          "name": "stdout",
          "output_type": "stream",
          "text": [
            "<class 'pandas.core.frame.DataFrame'>\n",
            "RangeIndex: 10 entries, 0 to 9\n",
            "Data columns (total 7 columns):\n",
            " #   Column                Non-Null Count  Dtype \n",
            "---  ------                --------------  ----- \n",
            " 0   Customer ID           10 non-null     int64 \n",
            " 1   Age                   10 non-null     int64 \n",
            " 2   Income ($1000s)       10 non-null     int64 \n",
            " 3   Education Level       10 non-null     object\n",
            " 4   Previous Purchases    10 non-null     int64 \n",
            " 5   Marital Status        10 non-null     object\n",
            " 6   Buy Product (Target)  10 non-null     object\n",
            "dtypes: int64(4), object(3)\n",
            "memory usage: 692.0+ bytes\n"
          ]
        }
      ],
      "source": [
        "df_store.info()"
      ]
    },
    {
      "cell_type": "code",
      "execution_count": 93,
      "metadata": {},
      "outputs": [],
      "source": [
        "def encode_categorical_columns(df):\n",
        "    \"\"\"\n",
        "    Encodes categorical columns in a pandas dataFrame.\n",
        "    It selects categorical columns, identified by their 'object' datatype,\n",
        "    and encodes them using Label Encoding.\n",
        "\n",
        "    Parameters:\n",
        "    df (pandas.DataFrame): The input dataFrame.\n",
        "\n",
        "    Returns:\n",
        "    pandas.DataFrame: The dataFrame with categorical columns encoded.\n",
        "    \"\"\"\n",
        "\n",
        "\n",
        "    le = LabelEncoder()\n",
        "    for column in df.columns:\n",
        "        if df[column].dtype == 'object':\n",
        "            df[column] = le.fit_transform(df[column])\n",
        "    return df"
      ]
    },
    {
      "cell_type": "code",
      "execution_count": 94,
      "metadata": {},
      "outputs": [],
      "source": [
        "# encoding the categorical columns in the hospital and store datasets\n",
        "\n",
        "df_hospital = encode_categorical_columns(df_hospital)\n",
        "df_store = encode_categorical_columns(df_store)"
      ]
    },
    {
      "cell_type": "code",
      "execution_count": 95,
      "metadata": {},
      "outputs": [
        {
          "data": {
            "text/html": [
              "<div>\n",
              "<style scoped>\n",
              "    .dataframe tbody tr th:only-of-type {\n",
              "        vertical-align: middle;\n",
              "    }\n",
              "\n",
              "    .dataframe tbody tr th {\n",
              "        vertical-align: top;\n",
              "    }\n",
              "\n",
              "    .dataframe thead th {\n",
              "        text-align: right;\n",
              "    }\n",
              "</style>\n",
              "<table border=\"1\" class=\"dataframe\">\n",
              "  <thead>\n",
              "    <tr style=\"text-align: right;\">\n",
              "      <th></th>\n",
              "      <th>Patient ID</th>\n",
              "      <th>Fever</th>\n",
              "      <th>Headache</th>\n",
              "      <th>Muscle Pain</th>\n",
              "      <th>Nausea</th>\n",
              "      <th>Rash</th>\n",
              "      <th>Diarrhea</th>\n",
              "      <th>Disease (Target)</th>\n",
              "    </tr>\n",
              "  </thead>\n",
              "  <tbody>\n",
              "    <tr>\n",
              "      <th>0</th>\n",
              "      <td>1</td>\n",
              "      <td>38.5</td>\n",
              "      <td>1</td>\n",
              "      <td>1</td>\n",
              "      <td>1</td>\n",
              "      <td>0</td>\n",
              "      <td>0</td>\n",
              "      <td>0</td>\n",
              "    </tr>\n",
              "    <tr>\n",
              "      <th>1</th>\n",
              "      <td>2</td>\n",
              "      <td>39.0</td>\n",
              "      <td>1</td>\n",
              "      <td>1</td>\n",
              "      <td>0</td>\n",
              "      <td>0</td>\n",
              "      <td>1</td>\n",
              "      <td>1</td>\n",
              "    </tr>\n",
              "    <tr>\n",
              "      <th>2</th>\n",
              "      <td>3</td>\n",
              "      <td>37.8</td>\n",
              "      <td>0</td>\n",
              "      <td>1</td>\n",
              "      <td>0</td>\n",
              "      <td>0</td>\n",
              "      <td>0</td>\n",
              "      <td>0</td>\n",
              "    </tr>\n",
              "    <tr>\n",
              "      <th>3</th>\n",
              "      <td>4</td>\n",
              "      <td>40.2</td>\n",
              "      <td>1</td>\n",
              "      <td>1</td>\n",
              "      <td>1</td>\n",
              "      <td>1</td>\n",
              "      <td>0</td>\n",
              "      <td>1</td>\n",
              "    </tr>\n",
              "    <tr>\n",
              "      <th>4</th>\n",
              "      <td>5</td>\n",
              "      <td>38.0</td>\n",
              "      <td>0</td>\n",
              "      <td>0</td>\n",
              "      <td>1</td>\n",
              "      <td>0</td>\n",
              "      <td>1</td>\n",
              "      <td>1</td>\n",
              "    </tr>\n",
              "  </tbody>\n",
              "</table>\n",
              "</div>"
            ],
            "text/plain": [
              "   Patient ID  Fever  Headache  Muscle Pain  Nausea  Rash  Diarrhea  \\\n",
              "0           1   38.5         1            1       1     0         0   \n",
              "1           2   39.0         1            1       0     0         1   \n",
              "2           3   37.8         0            1       0     0         0   \n",
              "3           4   40.2         1            1       1     1         0   \n",
              "4           5   38.0         0            0       1     0         1   \n",
              "\n",
              "   Disease (Target)  \n",
              "0                 0  \n",
              "1                 1  \n",
              "2                 0  \n",
              "3                 1  \n",
              "4                 1  "
            ]
          },
          "execution_count": 95,
          "metadata": {},
          "output_type": "execute_result"
        }
      ],
      "source": [
        "# viewing the first 5 rows of the hospital dataset to confirm the encoding was successful\n",
        "\n",
        "df_hospital.head()"
      ]
    },
    {
      "cell_type": "code",
      "execution_count": 96,
      "metadata": {},
      "outputs": [
        {
          "name": "stdout",
          "output_type": "stream",
          "text": [
            "<class 'pandas.core.frame.DataFrame'>\n",
            "RangeIndex: 10 entries, 0 to 9\n",
            "Data columns (total 8 columns):\n",
            " #   Column            Non-Null Count  Dtype  \n",
            "---  ------            --------------  -----  \n",
            " 0   Patient ID        10 non-null     int64  \n",
            " 1   Fever             10 non-null     float64\n",
            " 2   Headache          10 non-null     int32  \n",
            " 3   Muscle Pain       10 non-null     int32  \n",
            " 4   Nausea            10 non-null     int32  \n",
            " 5   Rash              10 non-null     int32  \n",
            " 6   Diarrhea          10 non-null     int32  \n",
            " 7   Disease (Target)  10 non-null     int32  \n",
            "dtypes: float64(1), int32(6), int64(1)\n",
            "memory usage: 532.0 bytes\n"
          ]
        }
      ],
      "source": [
        "# viewing the information of the hospital dataset to confirm the encoding was successful\n",
        "# had it not been successful, the columns would have been of 'object' datatype\n",
        "# but now they are of 'int64' or 'float64' datatype\n",
        "df_hospital.info()"
      ]
    },
    {
      "cell_type": "code",
      "execution_count": 97,
      "metadata": {},
      "outputs": [
        {
          "data": {
            "text/html": [
              "<div>\n",
              "<style scoped>\n",
              "    .dataframe tbody tr th:only-of-type {\n",
              "        vertical-align: middle;\n",
              "    }\n",
              "\n",
              "    .dataframe tbody tr th {\n",
              "        vertical-align: top;\n",
              "    }\n",
              "\n",
              "    .dataframe thead th {\n",
              "        text-align: right;\n",
              "    }\n",
              "</style>\n",
              "<table border=\"1\" class=\"dataframe\">\n",
              "  <thead>\n",
              "    <tr style=\"text-align: right;\">\n",
              "      <th></th>\n",
              "      <th>Customer ID</th>\n",
              "      <th>Age</th>\n",
              "      <th>Income ($1000s)</th>\n",
              "      <th>Education Level</th>\n",
              "      <th>Previous Purchases</th>\n",
              "      <th>Marital Status</th>\n",
              "      <th>Buy Product (Target)</th>\n",
              "    </tr>\n",
              "  </thead>\n",
              "  <tbody>\n",
              "    <tr>\n",
              "      <th>0</th>\n",
              "      <td>1</td>\n",
              "      <td>25</td>\n",
              "      <td>40</td>\n",
              "      <td>0</td>\n",
              "      <td>2</td>\n",
              "      <td>2</td>\n",
              "      <td>0</td>\n",
              "    </tr>\n",
              "    <tr>\n",
              "      <th>1</th>\n",
              "      <td>2</td>\n",
              "      <td>45</td>\n",
              "      <td>80</td>\n",
              "      <td>2</td>\n",
              "      <td>10</td>\n",
              "      <td>1</td>\n",
              "      <td>1</td>\n",
              "    </tr>\n",
              "    <tr>\n",
              "      <th>2</th>\n",
              "      <td>3</td>\n",
              "      <td>35</td>\n",
              "      <td>60</td>\n",
              "      <td>3</td>\n",
              "      <td>5</td>\n",
              "      <td>2</td>\n",
              "      <td>0</td>\n",
              "    </tr>\n",
              "    <tr>\n",
              "      <th>3</th>\n",
              "      <td>4</td>\n",
              "      <td>50</td>\n",
              "      <td>100</td>\n",
              "      <td>0</td>\n",
              "      <td>8</td>\n",
              "      <td>1</td>\n",
              "      <td>1</td>\n",
              "    </tr>\n",
              "    <tr>\n",
              "      <th>4</th>\n",
              "      <td>5</td>\n",
              "      <td>30</td>\n",
              "      <td>45</td>\n",
              "      <td>1</td>\n",
              "      <td>1</td>\n",
              "      <td>0</td>\n",
              "      <td>0</td>\n",
              "    </tr>\n",
              "  </tbody>\n",
              "</table>\n",
              "</div>"
            ],
            "text/plain": [
              "   Customer ID  Age  Income ($1000s)  Education Level  Previous Purchases  \\\n",
              "0            1   25               40                0                   2   \n",
              "1            2   45               80                2                  10   \n",
              "2            3   35               60                3                   5   \n",
              "3            4   50              100                0                   8   \n",
              "4            5   30               45                1                   1   \n",
              "\n",
              "   Marital Status  Buy Product (Target)  \n",
              "0               2                     0  \n",
              "1               1                     1  \n",
              "2               2                     0  \n",
              "3               1                     1  \n",
              "4               0                     0  "
            ]
          },
          "execution_count": 97,
          "metadata": {},
          "output_type": "execute_result"
        }
      ],
      "source": [
        "df_store.head()"
      ]
    },
    {
      "cell_type": "code",
      "execution_count": 98,
      "metadata": {},
      "outputs": [],
      "source": [
        "# Separate features and target variables for the hospital dataset. \n",
        "# The target variable is the 'Disease (Target)' column.\n",
        "# The features are all the other columns except the 'Patient ID' column \n",
        "# which has no relevance to whether the patient has malaria or typhoid.\n",
        "# This is ibecause it is just an identifier for the patient.\n",
        "\n",
        "X_hospital = df_hospital.drop(columns=[\"Patient ID\", \"Disease (Target)\"])\n",
        "y_hospital = df_hospital[\"Disease (Target)\"]"
      ]
    },
    {
      "cell_type": "code",
      "execution_count": 99,
      "metadata": {},
      "outputs": [],
      "source": [
        "# Separate features and target variables for the store dataset. \n",
        "# The target variable is the 'Buy Product (Target)' column.\n",
        "# The features are all the other columns except the 'Customer ID' column\n",
        "# which has no relevance to whether the customer will buy a product or not.\n",
        "# This is because it is just an identifier for the customer.\n",
        "\n",
        "X_store = df_store.drop(columns=[\"Customer ID\", \"Buy Product (Target)\"])\n",
        "y_store = df_store[\"Buy Product (Target)\"]"
      ]
    },
    {
      "cell_type": "markdown",
      "metadata": {},
      "source": [
        "A Random Forest classifier is trained on each dataset to learn the relationships between the features and the target variable. Based on the learned relationships, I extract feature importance from the trained models to identify the most significant features."
      ]
    },
    {
      "cell_type": "code",
      "execution_count": 100,
      "metadata": {},
      "outputs": [
        {
          "data": {
            "text/html": [
              "<style>#sk-container-id-5 {color: black;}#sk-container-id-5 pre{padding: 0;}#sk-container-id-5 div.sk-toggleable {background-color: white;}#sk-container-id-5 label.sk-toggleable__label {cursor: pointer;display: block;width: 100%;margin-bottom: 0;padding: 0.3em;box-sizing: border-box;text-align: center;}#sk-container-id-5 label.sk-toggleable__label-arrow:before {content: \"▸\";float: left;margin-right: 0.25em;color: #696969;}#sk-container-id-5 label.sk-toggleable__label-arrow:hover:before {color: black;}#sk-container-id-5 div.sk-estimator:hover label.sk-toggleable__label-arrow:before {color: black;}#sk-container-id-5 div.sk-toggleable__content {max-height: 0;max-width: 0;overflow: hidden;text-align: left;background-color: #f0f8ff;}#sk-container-id-5 div.sk-toggleable__content pre {margin: 0.2em;color: black;border-radius: 0.25em;background-color: #f0f8ff;}#sk-container-id-5 input.sk-toggleable__control:checked~div.sk-toggleable__content {max-height: 200px;max-width: 100%;overflow: auto;}#sk-container-id-5 input.sk-toggleable__control:checked~label.sk-toggleable__label-arrow:before {content: \"▾\";}#sk-container-id-5 div.sk-estimator input.sk-toggleable__control:checked~label.sk-toggleable__label {background-color: #d4ebff;}#sk-container-id-5 div.sk-label input.sk-toggleable__control:checked~label.sk-toggleable__label {background-color: #d4ebff;}#sk-container-id-5 input.sk-hidden--visually {border: 0;clip: rect(1px 1px 1px 1px);clip: rect(1px, 1px, 1px, 1px);height: 1px;margin: -1px;overflow: hidden;padding: 0;position: absolute;width: 1px;}#sk-container-id-5 div.sk-estimator {font-family: monospace;background-color: #f0f8ff;border: 1px dotted black;border-radius: 0.25em;box-sizing: border-box;margin-bottom: 0.5em;}#sk-container-id-5 div.sk-estimator:hover {background-color: #d4ebff;}#sk-container-id-5 div.sk-parallel-item::after {content: \"\";width: 100%;border-bottom: 1px solid gray;flex-grow: 1;}#sk-container-id-5 div.sk-label:hover label.sk-toggleable__label {background-color: #d4ebff;}#sk-container-id-5 div.sk-serial::before {content: \"\";position: absolute;border-left: 1px solid gray;box-sizing: border-box;top: 0;bottom: 0;left: 50%;z-index: 0;}#sk-container-id-5 div.sk-serial {display: flex;flex-direction: column;align-items: center;background-color: white;padding-right: 0.2em;padding-left: 0.2em;position: relative;}#sk-container-id-5 div.sk-item {position: relative;z-index: 1;}#sk-container-id-5 div.sk-parallel {display: flex;align-items: stretch;justify-content: center;background-color: white;position: relative;}#sk-container-id-5 div.sk-item::before, #sk-container-id-5 div.sk-parallel-item::before {content: \"\";position: absolute;border-left: 1px solid gray;box-sizing: border-box;top: 0;bottom: 0;left: 50%;z-index: -1;}#sk-container-id-5 div.sk-parallel-item {display: flex;flex-direction: column;z-index: 1;position: relative;background-color: white;}#sk-container-id-5 div.sk-parallel-item:first-child::after {align-self: flex-end;width: 50%;}#sk-container-id-5 div.sk-parallel-item:last-child::after {align-self: flex-start;width: 50%;}#sk-container-id-5 div.sk-parallel-item:only-child::after {width: 0;}#sk-container-id-5 div.sk-dashed-wrapped {border: 1px dashed gray;margin: 0 0.4em 0.5em 0.4em;box-sizing: border-box;padding-bottom: 0.4em;background-color: white;}#sk-container-id-5 div.sk-label label {font-family: monospace;font-weight: bold;display: inline-block;line-height: 1.2em;}#sk-container-id-5 div.sk-label-container {text-align: center;}#sk-container-id-5 div.sk-container {/* jupyter's `normalize.less` sets `[hidden] { display: none; }` but bootstrap.min.css set `[hidden] { display: none !important; }` so we also need the `!important` here to be able to override the default hidden behavior on the sphinx rendered scikit-learn.org. See: https://github.com/scikit-learn/scikit-learn/issues/21755 */display: inline-block !important;position: relative;}#sk-container-id-5 div.sk-text-repr-fallback {display: none;}</style><div id=\"sk-container-id-5\" class=\"sk-top-container\"><div class=\"sk-text-repr-fallback\"><pre>RandomForestClassifier(random_state=42)</pre><b>In a Jupyter environment, please rerun this cell to show the HTML representation or trust the notebook. <br />On GitHub, the HTML representation is unable to render, please try loading this page with nbviewer.org.</b></div><div class=\"sk-container\" hidden><div class=\"sk-item\"><div class=\"sk-estimator sk-toggleable\"><input class=\"sk-toggleable__control sk-hidden--visually\" id=\"sk-estimator-id-5\" type=\"checkbox\" checked><label for=\"sk-estimator-id-5\" class=\"sk-toggleable__label sk-toggleable__label-arrow\">RandomForestClassifier</label><div class=\"sk-toggleable__content\"><pre>RandomForestClassifier(random_state=42)</pre></div></div></div></div></div>"
            ],
            "text/plain": [
              "RandomForestClassifier(random_state=42)"
            ]
          },
          "execution_count": 100,
          "metadata": {},
          "output_type": "execute_result"
        }
      ],
      "source": [
        "rf_hospital = RandomForestClassifier(n_estimators=100, random_state=42)\n",
        "rf_hospital.fit(X_hospital, y_hospital)\n",
        "\n",
        "rf_store = RandomForestClassifier(n_estimators=100, random_state=42)\n",
        "rf_store.fit(X_store, y_store)"
      ]
    },
    {
      "cell_type": "markdown",
      "metadata": {},
      "source": [
        "Feature importance is a measure of how much a feature contributes to the prediction of the target variable. It is calculated by the Random Forest algorithm based on the decrease in impurity that a feature causes when it is used to split the data. The more a feature decreases impurity, the more important it is."
      ]
    },
    {
      "cell_type": "code",
      "execution_count": 101,
      "metadata": {},
      "outputs": [],
      "source": [
        "importances_hospital = rf_hospital.feature_importances_\n",
        "importances_store = rf_store.feature_importances_\n",
        "\n",
        "importances_hospital = rf_hospital.feature_importances_\n",
        "importances_store = rf_store.feature_importances_\n",
        "\n",
        "features_hospital = X_hospital.columns\n",
        "features_store = X_store.columns\n",
        "\n",
        "importances_hospital_df = pd.DataFrame(importances_hospital, index=features_hospital, columns=['Importance']).sort_values(by='Importance', ascending=False)\n",
        "importances_store_df = pd.DataFrame(importances_store, index=features_store, columns=['Importance']).sort_values(by='Importance', ascending=False)"
      ]
    },
    {
      "cell_type": "markdown",
      "metadata": {},
      "source": [
        "PCA is used to reduce the dimensionality of the features to 2 components for visualisation purposes. This helps in creating 2D classification plots that are easier to interpret."
      ]
    },
    {
      "cell_type": "code",
      "execution_count": 102,
      "metadata": {},
      "outputs": [],
      "source": [
        "pca_hospital = PCA(n_components=2)\n",
        "X_hospital_pca = pca_hospital.fit_transform(X_hospital)\n",
        "\n",
        "pca_store = PCA(n_components=2)\n",
        "X_store_pca = pca_store.fit_transform(X_store)"
      ]
    },
    {
      "cell_type": "markdown",
      "metadata": {},
      "source": [
        "The Random Forest classifiers created are then trained on the reduced dataset, and the decision boundaries are plotted. The decision boundaries are plotted to show the regions where the classifier predicts the target variable to be 0 or 1 (label-encoded values of the target variable).\n",
        "\n",
        "A decision boundary is a line that separates the regions where the classifier predicts the target variable to be 0 or 1. The decision boundary is created by the classifier based on the learned relationships between the features and the target variable."
      ]
    },
    {
      "cell_type": "code",
      "execution_count": 103,
      "metadata": {},
      "outputs": [
        {
          "data": {
            "text/html": [
              "<style>#sk-container-id-6 {color: black;}#sk-container-id-6 pre{padding: 0;}#sk-container-id-6 div.sk-toggleable {background-color: white;}#sk-container-id-6 label.sk-toggleable__label {cursor: pointer;display: block;width: 100%;margin-bottom: 0;padding: 0.3em;box-sizing: border-box;text-align: center;}#sk-container-id-6 label.sk-toggleable__label-arrow:before {content: \"▸\";float: left;margin-right: 0.25em;color: #696969;}#sk-container-id-6 label.sk-toggleable__label-arrow:hover:before {color: black;}#sk-container-id-6 div.sk-estimator:hover label.sk-toggleable__label-arrow:before {color: black;}#sk-container-id-6 div.sk-toggleable__content {max-height: 0;max-width: 0;overflow: hidden;text-align: left;background-color: #f0f8ff;}#sk-container-id-6 div.sk-toggleable__content pre {margin: 0.2em;color: black;border-radius: 0.25em;background-color: #f0f8ff;}#sk-container-id-6 input.sk-toggleable__control:checked~div.sk-toggleable__content {max-height: 200px;max-width: 100%;overflow: auto;}#sk-container-id-6 input.sk-toggleable__control:checked~label.sk-toggleable__label-arrow:before {content: \"▾\";}#sk-container-id-6 div.sk-estimator input.sk-toggleable__control:checked~label.sk-toggleable__label {background-color: #d4ebff;}#sk-container-id-6 div.sk-label input.sk-toggleable__control:checked~label.sk-toggleable__label {background-color: #d4ebff;}#sk-container-id-6 input.sk-hidden--visually {border: 0;clip: rect(1px 1px 1px 1px);clip: rect(1px, 1px, 1px, 1px);height: 1px;margin: -1px;overflow: hidden;padding: 0;position: absolute;width: 1px;}#sk-container-id-6 div.sk-estimator {font-family: monospace;background-color: #f0f8ff;border: 1px dotted black;border-radius: 0.25em;box-sizing: border-box;margin-bottom: 0.5em;}#sk-container-id-6 div.sk-estimator:hover {background-color: #d4ebff;}#sk-container-id-6 div.sk-parallel-item::after {content: \"\";width: 100%;border-bottom: 1px solid gray;flex-grow: 1;}#sk-container-id-6 div.sk-label:hover label.sk-toggleable__label {background-color: #d4ebff;}#sk-container-id-6 div.sk-serial::before {content: \"\";position: absolute;border-left: 1px solid gray;box-sizing: border-box;top: 0;bottom: 0;left: 50%;z-index: 0;}#sk-container-id-6 div.sk-serial {display: flex;flex-direction: column;align-items: center;background-color: white;padding-right: 0.2em;padding-left: 0.2em;position: relative;}#sk-container-id-6 div.sk-item {position: relative;z-index: 1;}#sk-container-id-6 div.sk-parallel {display: flex;align-items: stretch;justify-content: center;background-color: white;position: relative;}#sk-container-id-6 div.sk-item::before, #sk-container-id-6 div.sk-parallel-item::before {content: \"\";position: absolute;border-left: 1px solid gray;box-sizing: border-box;top: 0;bottom: 0;left: 50%;z-index: -1;}#sk-container-id-6 div.sk-parallel-item {display: flex;flex-direction: column;z-index: 1;position: relative;background-color: white;}#sk-container-id-6 div.sk-parallel-item:first-child::after {align-self: flex-end;width: 50%;}#sk-container-id-6 div.sk-parallel-item:last-child::after {align-self: flex-start;width: 50%;}#sk-container-id-6 div.sk-parallel-item:only-child::after {width: 0;}#sk-container-id-6 div.sk-dashed-wrapped {border: 1px dashed gray;margin: 0 0.4em 0.5em 0.4em;box-sizing: border-box;padding-bottom: 0.4em;background-color: white;}#sk-container-id-6 div.sk-label label {font-family: monospace;font-weight: bold;display: inline-block;line-height: 1.2em;}#sk-container-id-6 div.sk-label-container {text-align: center;}#sk-container-id-6 div.sk-container {/* jupyter's `normalize.less` sets `[hidden] { display: none; }` but bootstrap.min.css set `[hidden] { display: none !important; }` so we also need the `!important` here to be able to override the default hidden behavior on the sphinx rendered scikit-learn.org. See: https://github.com/scikit-learn/scikit-learn/issues/21755 */display: inline-block !important;position: relative;}#sk-container-id-6 div.sk-text-repr-fallback {display: none;}</style><div id=\"sk-container-id-6\" class=\"sk-top-container\"><div class=\"sk-text-repr-fallback\"><pre>RandomForestClassifier(random_state=42)</pre><b>In a Jupyter environment, please rerun this cell to show the HTML representation or trust the notebook. <br />On GitHub, the HTML representation is unable to render, please try loading this page with nbviewer.org.</b></div><div class=\"sk-container\" hidden><div class=\"sk-item\"><div class=\"sk-estimator sk-toggleable\"><input class=\"sk-toggleable__control sk-hidden--visually\" id=\"sk-estimator-id-6\" type=\"checkbox\" checked><label for=\"sk-estimator-id-6\" class=\"sk-toggleable__label sk-toggleable__label-arrow\">RandomForestClassifier</label><div class=\"sk-toggleable__content\"><pre>RandomForestClassifier(random_state=42)</pre></div></div></div></div></div>"
            ],
            "text/plain": [
              "RandomForestClassifier(random_state=42)"
            ]
          },
          "execution_count": 103,
          "metadata": {},
          "output_type": "execute_result"
        }
      ],
      "source": [
        "rf_hospital_pca = RandomForestClassifier(n_estimators=100, random_state=42)\n",
        "rf_hospital_pca.fit(X_hospital_pca, y_hospital)\n",
        "\n",
        "rf_store_pca = RandomForestClassifier(n_estimators=100, random_state=42)\n",
        "rf_store_pca.fit(X_store_pca, y_store)"
      ]
    },
    {
      "cell_type": "code",
      "execution_count": 104,
      "metadata": {},
      "outputs": [],
      "source": [
        "def create_meshgrid(X, h=0.02):\n",
        "    \"\"\"\n",
        "    Creates a meshgrid for plotting decision boundaries.\n",
        "\n",
        "    Parameters:\n",
        "    X (numpy.ndarray): The input data.\n",
        "    h (float): The step size in the meshgrid. Default is 0.02.\n",
        "\n",
        "    Returns:\n",
        "    numpy.ndarray: The meshgrid.\n",
        "    \"\"\"\n",
        "    x_min, x_max = X[:, 0].min() - 1, X[:, 0].max() + 1\n",
        "    y_min, y_max = X[:, 1].min() - 1, X[:, 1].max() + 1\n",
        "    xx, yy = np.meshgrid(np.arange(x_min, x_max, h), np.arange(y_min, y_max, h))\n",
        "    return xx, yy"
      ]
    },
    {
      "cell_type": "code",
      "execution_count": 105,
      "metadata": {},
      "outputs": [],
      "source": [
        "# creating meshgrids for the hospital and store datasets\n",
        "\n",
        "xx_hospital, yy_hospital = create_meshgrid(X_hospital_pca)\n",
        "xx_store, yy_store = create_meshgrid(X_store_pca)"
      ]
    },
    {
      "cell_type": "markdown",
      "metadata": {},
      "source": [
        "Predicting the target variable for each meshgrid point in the hospital and store datasets.\n",
        "This is done by first flattening the meshgrid points into a 2D array, then predicting the target variable for each point. The predicted target variable is then reshaped to the original meshgrid shape."
      ]
    },
    {
      "cell_type": "code",
      "execution_count": 106,
      "metadata": {},
      "outputs": [],
      "source": [
        "Z_hospital = rf_hospital_pca.predict(np.c_[xx_hospital.ravel(), yy_hospital.ravel()])\n",
        "Z_hospital = Z_hospital.reshape(xx_hospital.shape)\n",
        "\n",
        "Z_store = rf_store_pca.predict(np.c_[xx_store.ravel(), yy_store.ravel()])\n",
        "Z_store = Z_store.reshape(xx_store.shape)"
      ]
    },
    {
      "cell_type": "markdown",
      "metadata": {},
      "source": [
        "Classification plots are created to show the decision boundaries and the predicted target variable for each meshgrid point. The classification plots help in visualising how the classifier predicts the target variable based on the learned relationships between the features and the target variable."
      ]
    },
    {
      "cell_type": "code",
      "execution_count": 107,
      "metadata": {},
      "outputs": [
        {
          "data": {
            "image/png": "[encoded data removed]",
            "text/plain": [
              "<Figure size 1400x600 with 2 Axes>"
            ]
          },
          "metadata": {},
          "output_type": "display_data"
        }
      ],
      "source": [
        "fig, axes = plt.subplots(1, 2, figsize=(14, 6))\n",
        "\n",
        "# Hospital patients classification plot\n",
        "axes[0].contourf(xx_hospital, yy_hospital, Z_hospital, alpha=0.3, cmap='viridis')\n",
        "scatter_hospital = axes[0].scatter(X_hospital_pca[:, 0], X_hospital_pca[:, 1], c=y_hospital, cmap='viridis', edgecolor='k', alpha=0.7)\n",
        "axes[0].set_title('Hospital Patients Classification Plot')\n",
        "axes[0].set_xlabel('PC1')\n",
        "axes[0].set_ylabel('PC2')\n",
        "#Malaira is represented by 0 and Typhoid is represented by 1\n",
        "class_names_hospital = {0: 'Malaria', 1: 'Typhoid'}\n",
        "handles_hospital, labels_hospital = scatter_hospital.legend_elements()\n",
        "labels_hospital = [class_names_hospital[int(label.strip('$\\\\mathdefault{}'))] for label in labels_hospital]\n",
        "legend1 = axes[0].legend(handles_hospital, labels_hospital, title=\"Disease\")\n",
        "axes[0].add_artist(legend1)\n",
        "\n",
        "# Store customers classification plot\n",
        "axes[1].contourf(xx_store, yy_store, Z_store, alpha=0.3, cmap='viridis')\n",
        "scatter_store = axes[1].scatter(X_store_pca[:, 0], X_store_pca[:, 1], c=y_store, cmap='viridis', edgecolor='k', alpha=0.7)\n",
        "axes[1].set_title('Store Customers Classification Plot')\n",
        "axes[1].set_xlabel('PC1')\n",
        "axes[1].set_ylabel('PC2')\n",
        "class_names_store = {0: 'No', 1: 'Yes'}\n",
        "handles_store, labels_store = scatter_store.legend_elements()\n",
        "labels_store = [class_names_store[int(label.strip('$\\\\mathdefault{}'))] for label in labels_store]\n",
        "legend2 = axes[1].legend(handles_store, labels_store, title=\"Buy Product\")\n",
        "axes[1].add_artist(legend2)\n",
        "\n",
        "\n",
        "plt.show()"
      ]
    },
    {
      "cell_type": "markdown",
      "metadata": {},
      "source": [
        "Without compressing the data, a classification plot can be produced using only the most significant features in each dataset, `Fever` in the case of predicting if an illness is malaria or typhoid, and the prediction of a RandomForestClassifier model trained on the dataset."
      ]
    },
    {
      "cell_type": "code",
      "execution_count": 108,
      "metadata": {},
      "outputs": [],
      "source": [
        "model = RandomForestClassifier()\n",
        "\n",
        "model.fit(X_hospital, y_hospital)\n",
        "\n",
        "y_pred_full = model.predict(X_hospital)"
      ]
    },
    {
      "cell_type": "code",
      "execution_count": 109,
      "metadata": {},
      "outputs": [
        {
          "data": {
            "image/png": "[encoded data removed]",
            "text/plain": [
              "<Figure size 800x600 with 1 Axes>"
            ]
          },
          "metadata": {},
          "output_type": "display_data"
        }
      ],
      "source": [
        "plt.figure(figsize=(8,6))\n",
        "\n",
        "plt.scatter(X_hospital[\"Fever\"], y_pred_full, c=y_pred_full, cmap=\"coolwarm\", edgecolor='k', s=100)\n",
        "\n",
        "plt.title('Predicted Malaria or Typhoid')\n",
        "plt.xlabel('Fever')\n",
        "plt.ylabel('Predicted Disease (0: Typhoid, 1: Malaria)')\n",
        "plt.grid(True)\n",
        "plt.show()"
      ]
    },
    {
      "cell_type": "markdown",
      "metadata": {},
      "source": [
        "The same process can be repeated for the store dataset, using `Previous Purchases` as the x-axis."
      ]
    },
    {
      "cell_type": "code",
      "execution_count": 110,
      "metadata": {},
      "outputs": [
        {
          "data": {
            "image/png": "[encoded data removed]",
            "text/plain": [
              "<Figure size 800x600 with 1 Axes>"
            ]
          },
          "metadata": {},
          "output_type": "display_data"
        }
      ],
      "source": [
        "model = RandomForestClassifier()\n",
        "\n",
        "model.fit(X_store, y_store)\n",
        "\n",
        "y_pred_full = model.predict(X_store)\n",
        "\n",
        "plt.figure(figsize=(8,6))\n",
        "\n",
        "plt.scatter(X_store[\"Previous Purchases\"], y_pred_full, c=y_pred_full, cmap=\"coolwarm\", edgecolor='k', s=100)\n",
        "\n",
        "plt.title('Buy or Not')\n",
        "plt.xlabel('Previous Purchases')\n",
        "plt.ylabel('Predicted Purchase (0: No, 1: Yes)')\n",
        "plt.grid(True)\n",
        "plt.show()"
      ]
    },
    {
      "cell_type": "markdown",
      "metadata": {},
      "source": [
        "Feature importance plots are created to show the most significant features based on the Random Forest classifier. The feature importance plots help in identifying the features that contribute the most to the prediction of the target variable."
      ]
    },
    {
      "cell_type": "code",
      "execution_count": 111,
      "metadata": {},
      "outputs": [
        {
          "data": {
            "image/png": "[encoded data removed]",
            "text/plain": [
              "<Figure size 1400x600 with 2 Axes>"
            ]
          },
          "metadata": {},
          "output_type": "display_data"
        }
      ],
      "source": [
        "fig, axes = plt.subplots(1, 2, figsize=(14, 6))\n",
        "\n",
        "# Hospital patients feature importance plot\n",
        "importances_hospital_df.plot(kind='bar', ax=axes[0], legend=False)\n",
        "axes[0].set_title('Hospital Patients Feature Importances')\n",
        "axes[0].set_ylabel('Importance')\n",
        "\n",
        "# Store customers feature importance plot\n",
        "importances_store_df.plot(kind='bar', ax=axes[1], legend=False)\n",
        "axes[1].set_title('Store Customers Feature Importances')\n",
        "axes[1].set_ylabel('Importance')\n",
        "\n",
        "plt.tight_layout()\n",
        "plt.show()"
      ]
    },
    {
      "cell_type": "markdown",
      "metadata": {},
      "source": [
        "## Part B"
      ]
    },
    {
      "cell_type": "code",
      "execution_count": 112,
      "metadata": {},
      "outputs": [
        {
          "name": "stdout",
          "output_type": "stream",
          "text": [
            "             Importance\n",
            "Fever          0.414857\n",
            "Diarrhea       0.221829\n",
            "Rash           0.147390\n",
            "Muscle Pain    0.078890\n",
            "Headache       0.077787\n",
            "Nausea         0.059247\n"
          ]
        }
      ],
      "source": [
        "print(importances_hospital_df)"
      ]
    },
    {
      "cell_type": "markdown",
      "metadata": {},
      "source": [
        "Based on the feature importance plots, the most significant features for predicting whether a patient has malaria or typhoid are:\n",
        "\n",
        "Feature | Importance\n",
        "--- | ---\n",
        "Fever | 0.4149\n",
        "Diarrhea | 0.2218\n",
        "Rash | 0.1474\n",
        "\n",
        "The last 3 features are ignored because they have very low importance values compared to the top 3 features. The next two highest importance features are `Muscle Pain` and `Headache`, with importance values of `0.078890` and `0.077787`, respectively. Combined, these two features contribute almost as much as the third most important feature, `Rash`. Therefore, it is reasonable to consider these two features as insignificant for predicting whether a patient has malaria or typhoid. The last feature, `Nausea`, has an importance value of `0.059247`, which is significantly lower than even the fifth most important feature, `Headache`. Therefore, it is reasonable to consider this feature as insignificant for predicting whether a patient has malaria or typhoid.\n",
        "\n",
        "Intuitively, the features discarded as insignificant as they are observed in occurrences of both diseases, and hence do not provide much information to distinguish between the two diseases, which would explain their low importance values as they contribute very little to a classifier's decision-making process."
      ]
    },
    {
      "cell_type": "code",
      "execution_count": 113,
      "metadata": {},
      "outputs": [
        {
          "name": "stdout",
          "output_type": "stream",
          "text": [
            "                    Importance\n",
            "Previous Purchases    0.318681\n",
            "Age                   0.302520\n",
            "Income ($1000s)       0.290139\n",
            "Education Level       0.065030\n",
            "Marital Status        0.023631\n"
          ]
        }
      ],
      "source": [
        "print(importances_store_df)"
      ]
    },
    {
      "cell_type": "markdown",
      "metadata": {},
      "source": [
        "Based on the feature importance plots, the most significant features for predicting whether a customer will buy a product from a store are:\n",
        "\n",
        "Feature | Importance\n",
        "--- | ---\n",
        "Previous Purchase | 0.3187\n",
        "Age | 0.3025\n",
        "Income | 0.2901\n",
        "\n",
        "The last 2 features are `Education Level` and `Marital Status` with importance values of `0.065030` and `0.023631`, respectively. Combined, these two features contribute significantly less than the third most important feature, `Income`. Therefore, it is reasonable to consider these two features as insignificant for predicting whether a customer will buy a product from a store.\n",
        "\n",
        "Intuitively, the most important features are related to the customer's purchasing behaviour, such as `Previous Purchase`, `Age`, and `Income`. If a person has purchased a product before, they are more likely to buy another product from the same location if they are satisfied with the previous purchase. Depending on what the shop sells, the age of the customer can also be a significant factor in determining whether they will buy a product. Similarly, the income of the customer can also be a significant factor in determining whether they will buy a product, as people with higher incomes are more likely to spend money on products."
      ]
    },
    {
      "cell_type": "markdown",
      "metadata": {},
      "source": [
        "## Part C"
      ]
    },
    {
      "cell_type": "markdown",
      "metadata": {},
      "source": [
        "- Using all features ensures that no potentially useful information is discarded, which can be particularly beneficial if all features contribute significantly to the classification task. Additionally, by including all features, we avoid the risk of losing important information that might be critical for accurate classification.\n",
        "\n",
        "- However, there are several downsides to using all features. Including irrelevant or redundant features can lead to overfitting, where the model performs well on training data but poorly on unseen data. This is because the model may learn noise and spurious patterns. More features also increase the complexity of the model, making it harder to interpret and understand. This can lead to longer training times and higher computational costs. Furthermore, high-dimensional data can lead to the curse of dimensionality, where the distance between data points becomes less meaningful, and the model's performance may degrade.\n",
        "\n",
        "- On the other hand, using only the most significant features has several advantages. By selecting only the most significant features, we reduce the risk of overfitting. The model focuses on the most relevant information, leading to better generalization on unseen data. A model with fewer features is easier to interpret and understand, which is particularly important in domains where explainability is crucial, such as healthcare and finance. Fewer features also mean reduced computational requirements, leading to faster training and prediction times. This is beneficial for large datasets and real-time applications.\n",
        "\n",
        "- However, there are also some downsides to using only a subset of features. By excluding some features, we risk losing potentially useful information that could improve the model's performance. This is particularly problematic if the feature selection process is not robust. Additionally, the process of selecting significant features can introduce bias if not done carefully. It is essential to use appropriate feature selection techniques to ensure that the most relevant features are chosen.\n",
        "\n",
        "- In the context of the two classification problems looked at in this task, using only the most significant features could be beneficial if the goal is to build simpler, more interpretable models that generalize well to unseen data. However, if all features contribute significantly to the classification task, using all features might be more appropriate to capture the full complexity of the data.\n",
        "\n",
        "- All the features did not consider significantly, however. For example, in the hospital dataset, the feature importances observed were:\n",
        "\n",
        "Feature | Importance\n",
        "--- | ---\n",
        "Fever |0.414857\n",
        "Diarrhea|0.221829\n",
        "Rash|0.147390\n",
        "Muscle Pain|0.078890\n",
        "Headache|0.077787\n",
        "Nausea|0.059247\n",
        "\n",
        "And in the store dataset,\n",
        "Feature | Importance\n",
        "--- | ---\n",
        "Previous Purchases|0.318681\n",
        "Age|0.302520\n",
        "Income ($1000s)|0.290139\n",
        "Education Level|0.065030\n",
        "Marital Status|0.023631\n",
        "\n",
        "In this situation, it would be beneficial to use only the most significant features for the classification task, as the less significant features contribute very little to the model's decision-making process. By using only the most significant features, we can build simpler, more interpretable models that generalize well to unseen data."
      ]
    }
  ],
  "metadata": {
    "colab": {
      "provenance": []
    },
    "kernelspec": {
      "display_name": "Python 3",
      "name": "python3"
    },
    "language_info": {
      "codemirror_mode": {
        "name": "ipython",
        "version": 3
      },
      "file_extension": ".py",
      "mimetype": "text/x-python",
      "name": "python",
      "nbconvert_exporter": "python",
      "pygments_lexer": "ipython3",
      "version": "3.12.4"
    }
  },
  "nbformat": 4,
  "nbformat_minor": 0
}
