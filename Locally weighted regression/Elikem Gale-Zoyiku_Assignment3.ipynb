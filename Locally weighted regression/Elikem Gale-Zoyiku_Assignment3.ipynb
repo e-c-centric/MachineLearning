{
 "cells": [
  {
   "cell_type": "markdown",
   "metadata": {},
   "source": [
    "# Locally Weighted Regression Model Implementation"
   ]
  },
  {
   "cell_type": "markdown",
   "metadata": {},
   "source": [
    "This implementation of the Locally Weighted Regression algorithm is based on the following resources:\n",
    "- [VTU Pulse](https://vtupulse.com/machine-learning/locally-weighted-regression-algorithm-in-python/#:~:text=Implement%20the%20non-parametric%20Locally%20Weighted%20Regression%20Algorithm%20in)\n",
    "- [Wikipedia](https://en.wikipedia.org/wiki/Local_regression)\n",
    "\n",
    "The algorithm is a non-parametric regression method that uses a weighted linear regression to predict the output of a new data point. The weights are calculated based on the distance between the new data point and the training data points. The closer the training data point is to the new data point, the higher the weight assigned to it.\n",
    "\n",
    "The algorithm is defined by the following steps:\n",
    "1. For each new data point, calculate the weights for each training data point based on the distance between them.\n",
    "2. Fit a linear regression model using the training data points and the weights calculated in step 1.\n",
    "3. Predict the output of the new data point using the linear regression model.\n",
    "\n",
    "The kernel function used to calculate the weights is the Gaussian kernel function, which is defined as:\n",
    "$$\n",
    "w(i) = e^{-\\frac{(x^{(i)} - x)^2}{2\\tau^2}}\n",
    "$$\n",
    "where $x^{(i)}$ is the input feature of the training data point, $x$ is the input feature of the new data point, and $\\tau$ is the bandwidth parameter that controls the width of the kernel.\n",
    "\n",
    "The linear regression model is defined as:\n",
    "$$\n",
    "\\theta = (X^TWX)^{-1}X^TWY\n",
    "$$\n",
    "where $X$ is the matrix of input features of the training data points, $W$ is the diagonal matrix of weights, and $Y$ is the vector of output values of the training data points.\n",
    "\n",
    "A variation of the normal equation is used to calculate the weights in the linear regression model:\n",
    "$$\n",
    "\\theta = (X^TWX +  I)^{-1}X^TWY\n",
    "$$\n",
    "where $I$ is the identity matrix.\n",
    "\n",
    "The accuracy of the algorithm can be improved by tuning the bandwidth parameter $\\tau$ and the mean squared error can be used as the evaluation metric.\n",
    "\n",
    "The implementation of the Locally Weighted Regression algorithm is below, with the following functions:\n",
    "- `kernel(point, data, tau)`: Calculate the weights for each training data point based on the distance between the new data point and the training data points.\n",
    "- `local_weight(point, data, tau)`: Find the weights for each training data point using the `kernel` function, and a variation of the normal equation to calculate the weights in the linear regression model.\n",
    "- `local_weight_regression(X_b, Y, tau)`: Fit a linear regression model using the training data points and the weights calculated in the `local_weight` function.\n",
    "- `compute_mse(Y, Y_pred)`: Calculate the mean squared error between the predicted output and the actual output."
   ]
  },
  {
   "cell_type": "markdown",
   "metadata": {},
   "source": [
    "## Implementation"
   ]
  },
  {
   "cell_type": "code",
   "execution_count": 1174,
   "metadata": {},
   "outputs": [],
   "source": [
    "import numpy as np\n",
    "import matplotlib.pyplot as plt\n",
    "import pandas as pd"
   ]
  },
  {
   "cell_type": "markdown",
   "metadata": {},
   "source": [
    "The kernel function used in this implementation is the Gaussian kernel function, but other kernel functions can be used as well. The bandwidth parameter $\\tau$ can be tuned to improve the accuracy of the algorithm. The kernel function is used to calculate the weights for each training data point based on the distance between the new data point and the training data points. The weights are then used in the linear regression model to predict the output of the new data point."
   ]
  },
  {
   "cell_type": "code",
   "execution_count": 1175,
   "metadata": {},
   "outputs": [],
   "source": [
    "def kernel(point, xmat, k):\n",
    "    \"\"\"Calculates the kernel function for a given point and data set X_b.\n",
    "    This kernel function is a Gaussian kernel which assigns weights to each\n",
    "    point in the data set based on the distance between the point and the\n",
    "    other points in the data set (based on a Gaussian distribution).\n",
    "    Args:\n",
    "        point: the point to calculate the kernel function for\n",
    "        xmat: the data set\n",
    "        k: the kernel width (also called the bandwidth, and represented by tau)\n",
    "    Returns:\n",
    "        weights: the weights for each point in the data set\n",
    "    \"\"\"\n",
    "    m, n = np.shape(xmat)\n",
    "    weights = np.mat(np.eye(m))\n",
    "    for j in range(m):\n",
    "        diff = point - xmat[j]\n",
    "        weights[j, j] = np.exp(float(diff * diff.T) / (-2.0 * k**2))  \n",
    "    return weights"
   ]
  },
  {
   "cell_type": "markdown",
   "metadata": {},
   "source": [
    "The `local_weight` function calculates the weights for each training data point using the `kernel` function and a variation of the normal equation to calculate the weights in the linear regression model. The weights are then used in the linear regression model to predict the output of the new data point. To avoid singular matrix errors or linearly dependent features, the pseudo-inverse method is used to calculate the weights in the linear regression model."
   ]
  },
  {
   "cell_type": "code",
   "execution_count": 1176,
   "metadata": {},
   "outputs": [],
   "source": [
    "def local_weight(point, xmat, ymat, k):\n",
    "    \"\"\"Calculates the local weight for a given point.\n",
    "    This function calculates the local weight for a given point by using the\n",
    "    kernel function to assign weights to each point in the data set, and then\n",
    "    solving the weighted normal equation to find the local regression coefficients.\n",
    "    Args:\n",
    "        point: the point to calculate the local weight for\n",
    "        xmat: the data set\n",
    "        ymat: the target values\n",
    "        k: the kernel width (also called the bandwidth, and represented by tau)\n",
    "    Returns:\n",
    "        W: the local weight for the given point\n",
    "    \"\"\"\n",
    "    wei = kernel(point, xmat, k)\n",
    "    XTWX = xmat.T * (wei * xmat)\n",
    "    XTWY = xmat.T * (wei * ymat)\n",
    "    W = np.linalg.pinv(XTWX) * XTWY  \n",
    "    return W"
   ]
  },
  {
   "cell_type": "markdown",
   "metadata": {},
   "source": [
    "The `local_weight_regression` function fits a linear regression model using the training data points and the weights calculated in the `local_weight` function. The linear regression model is used to predict the output of the new data point."
   ]
  },
  {
   "cell_type": "code",
   "execution_count": 1177,
   "metadata": {},
   "outputs": [],
   "source": [
    "def local_weight_regression(xmat, ymat, k):\n",
    "    \"\"\"Calculates the local weight regression for a given data set.\n",
    "    This function calculates the local weight regression for a given data set\n",
    "    by iterating through each point in the data set, calculating the local weight\n",
    "    for each point, and then using the local weight to make a prediction for each point.\n",
    "    Args:\n",
    "        xmat: the data set\n",
    "        ymat: the target values\n",
    "        k: the kernel width (also called the bandwidth, and represented by tau)\n",
    "    Returns:\n",
    "        Y_pred: the predicted values\n",
    "    \"\"\"\n",
    "    m, n = np.shape(xmat)\n",
    "    ypred = np.zeros(m)\n",
    "    for i in range(m):\n",
    "        W = local_weight(xmat[i], xmat, ymat, k)\n",
    "        ypred[i] = float(np.dot(xmat[i], W))  \n",
    "    return ypred"
   ]
  },
  {
   "cell_type": "markdown",
   "metadata": {},
   "source": [
    "`Mean Squared Error` is used as the evaluation metric to measure the accuracy of the algorithm. The mean squared error is calculated as the average of the squared differences between the predicted output and the actual output."
   ]
  },
  {
   "cell_type": "code",
   "execution_count": 1178,
   "metadata": {},
   "outputs": [],
   "source": [
    "def compute_mse(Y_true, Y_pred):\n",
    "    \"\"\"Computes the Mean Squared Error (MSE) of the model.\n",
    "    This function computes the Mean Squared Error (MSE) of the model by\n",
    "    calculating the average squared difference between the actual target values\n",
    "    and the predicted values.\n",
    "    Args:\n",
    "        Y_true: the actual target values\n",
    "        Y_pred: the predicted values\n",
    "    Returns:\n",
    "        mse: Mean Squared Error\n",
    "    \"\"\"\n",
    "    mse = np.mean((Y_true - Y_pred) ** 2)\n",
    "    return mse"
   ]
  },
  {
   "cell_type": "markdown",
   "metadata": {},
   "source": [
    "The function below seeks to find the optimal bandwidth parameter $\\tau$ that minimizes the mean squared error of the algorithm. he steps are as follows:\n",
    "1. Generate a range of values for the bandwidth parameter $\\tau$ from 0.1 to 1.0, in increments of 0.001.\n",
    "2. For each value of $\\tau$, fit the Locally Weighted Regression model using the training data points and calculate the mean squared error. Store the mean squared error for each value of $\\tau$.\n",
    "3. Find the value of $\\tau$ that minimizes the mean squared error and use it to fit the final Locally Weighted Regression model.\n",
    "4. Plot the mean squared error for each value of $\\tau` to visualize the relationship between the bandwidth parameter and the mean squared error."
   ]
  },
  {
   "cell_type": "code",
   "execution_count": 1179,
   "metadata": {},
   "outputs": [],
   "source": [
    "def find_optimal_tau(X_b, y_mat):\n",
    "    \"\"\"Finds the optimal tau for the local weight regression model.\n",
    "    This function finds the optimal tau for the local weight regression model\n",
    "    by iterating through a range of tau values, calculating the Mean Squared Error (MSE)\n",
    "    for each tau, and then selecting the tau value that minimizes the MSE. It then\n",
    "    plots the MSE vs Tau graph to visualize the relationship between the two.\n",
    "    Args:\n",
    "        X_b: the data set\n",
    "        y_mat: the target values\n",
    "    Returns:\n",
    "        optimal_tau: the optimal tau value\n",
    "    \"\"\"\n",
    "    taus = np.linspace(0.1, 1, 20)\n",
    "    mses = []\n",
    "    for tau in taus:\n",
    "        y_pred = local_weight_regression(X_b, y_mat, tau)\n",
    "        mse = compute_mse(y_mat, y_pred)\n",
    "        mses.append(mse)\n",
    "    \n",
    "    optimal_tau = taus[np.argmin(mses)]\n",
    "    \n",
    "    plt.plot(taus, mses, 'b-', label='MSE')\n",
    "    plt.plot(taus[np.argmin(mses)], min(mses), 'ro', label='Minimum MSE/Optimal Tau')\n",
    "    plt.xlabel('Tau')\n",
    "    plt.ylabel('MSE')\n",
    "    plt.legend()\n",
    "    plt.title('Tau vs MSE')\n",
    "    plt.show()\n",
    "    \n",
    "    return optimal_tau"
   ]
  },
  {
   "cell_type": "code",
   "execution_count": 1180,
   "metadata": {},
   "outputs": [],
   "source": [
    "def plot_regression_line(X, y, predictions, feature_name, target_name, tau = 0):\n",
    "    sorted_indices = np.argsort(X)\n",
    "    X_sorted = X[sorted_indices]\n",
    "    predictions_sorted = predictions[sorted_indices]\n",
    "\n",
    "    plt.scatter(X, y, color='blue', alpha=0.5, label='Original Data')\n",
    "    plt.plot(X_sorted, predictions_sorted, color='red', label='Regression Line')\n",
    "    plt.xlabel(feature_name)\n",
    "    plt.ylabel(target_name)\n",
    "    plt.title(f'{target_name} vs {feature_name}')\n",
    "    plt.legend()\n",
    "    plt.show()"
   ]
  },
  {
   "cell_type": "code",
   "execution_count": 1181,
   "metadata": {},
   "outputs": [],
   "source": [
    "def effect_of_tau_on_regression_line(X_b, y_mat, X, y, y_mean, y_std):\n",
    "    \"\"\"Plots the effect of tau on the regression line.\n",
    "    This function plots the effect of tau on the regression line by\n",
    "    plotting the regression line for different tau values.\n",
    "    Args:\n",
    "        X_b: the data set\n",
    "        y_mat: the target values\n",
    "        X: the original feature values\n",
    "        y: the original target values\n",
    "        y_mean: the mean of the original target values\n",
    "        y_std: the standard deviation of the original target values\n",
    "    \"\"\"\n",
    "    taus = np.linspace(0.01, 1, 5)\n",
    "    plt.figure(figsize=(15, 10))\n",
    "    for i, tau in enumerate(taus):\n",
    "        plt.subplot(2, 3, i + 1)\n",
    "        predictions_normalized = local_weight_regression(X_b, y_mat, tau)\n",
    "        predictions = predictions_normalized * y_std + y_mean\n",
    "        plot_regression_line(X, y, predictions, 'Size of Plot (sq. meters)', 'Land Price (GHS)', tau)\n",
    "    plt.tight_layout()\n",
    "    plt.show()"
   ]
  },
  {
   "cell_type": "markdown",
   "metadata": {},
   "source": [
    "## Testing the Implementation"
   ]
  },
  {
   "cell_type": "markdown",
   "metadata": {},
   "source": [
    "The model is tested on a synthetic dataset, provided in-class when we looked at the Locally Weighted Regression algorithm. The model is only trained on the size of the land and the price of the house, and the goal is to predict the price of a house given the size of the land."
   ]
  },
  {
   "cell_type": "code",
   "execution_count": 1182,
   "metadata": {},
   "outputs": [],
   "source": [
    "data = pd.read_csv('simulated_land_price_data.csv')"
   ]
  },
  {
   "cell_type": "code",
   "execution_count": 1183,
   "metadata": {},
   "outputs": [
    {
     "name": "stdout",
     "output_type": "stream",
     "text": [
      "<class 'pandas.core.frame.DataFrame'>\n",
      "RangeIndex: 20 entries, 0 to 19\n",
      "Data columns (total 5 columns):\n",
      " #   Column                         Non-Null Count  Dtype  \n",
      "---  ------                         --------------  -----  \n",
      " 0   Size of Plot (sq. meters)      20 non-null     float64\n",
      " 1   Distance from Airport (km)     20 non-null     float64\n",
      " 2   Proximity to Main Road (km)    20 non-null     float64\n",
      " 3   Proximity to City Center (km)  20 non-null     float64\n",
      " 4   Land Price (GHS)               20 non-null     float64\n",
      "dtypes: float64(5)\n",
      "memory usage: 932.0 bytes\n"
     ]
    }
   ],
   "source": [
    "data.info()"
   ]
  },
  {
   "cell_type": "code",
   "execution_count": 1184,
   "metadata": {},
   "outputs": [
    {
     "data": {
      "text/html": [
       "<div>\n",
       "<style scoped>\n",
       "    .dataframe tbody tr th:only-of-type {\n",
       "        vertical-align: middle;\n",
       "    }\n",
       "\n",
       "    .dataframe tbody tr th {\n",
       "        vertical-align: top;\n",
       "    }\n",
       "\n",
       "    .dataframe thead th {\n",
       "        text-align: right;\n",
       "    }\n",
       "</style>\n",
       "<table border=\"1\" class=\"dataframe\">\n",
       "  <thead>\n",
       "    <tr style=\"text-align: right;\">\n",
       "      <th></th>\n",
       "      <th>Size of Plot (sq. meters)</th>\n",
       "      <th>Distance from Airport (km)</th>\n",
       "      <th>Proximity to Main Road (km)</th>\n",
       "      <th>Proximity to City Center (km)</th>\n",
       "      <th>Land Price (GHS)</th>\n",
       "    </tr>\n",
       "  </thead>\n",
       "  <tbody>\n",
       "    <tr>\n",
       "      <th>0</th>\n",
       "      <td>287.270059</td>\n",
       "      <td>20.296322</td>\n",
       "      <td>2.098344</td>\n",
       "      <td>12.773546</td>\n",
       "      <td>5838.663580</td>\n",
       "    </tr>\n",
       "    <tr>\n",
       "      <th>1</th>\n",
       "      <td>575.357153</td>\n",
       "      <td>8.487347</td>\n",
       "      <td>5.456592</td>\n",
       "      <td>10.426981</td>\n",
       "      <td>5426.483504</td>\n",
       "    </tr>\n",
       "    <tr>\n",
       "      <th>2</th>\n",
       "      <td>465.996971</td>\n",
       "      <td>12.303616</td>\n",
       "      <td>1.309497</td>\n",
       "      <td>21.574750</td>\n",
       "      <td>4055.991201</td>\n",
       "    </tr>\n",
       "    <tr>\n",
       "      <th>3</th>\n",
       "      <td>399.329242</td>\n",
       "      <td>14.159046</td>\n",
       "      <td>9.183884</td>\n",
       "      <td>12.135067</td>\n",
       "      <td>497.461141</td>\n",
       "    </tr>\n",
       "    <tr>\n",
       "      <th>4</th>\n",
       "      <td>178.009320</td>\n",
       "      <td>16.401750</td>\n",
       "      <td>3.329020</td>\n",
       "      <td>10.618690</td>\n",
       "      <td>1784.919488</td>\n",
       "    </tr>\n",
       "  </tbody>\n",
       "</table>\n",
       "</div>"
      ],
      "text/plain": [
       "   Size of Plot (sq. meters)  Distance from Airport (km)  \\\n",
       "0                 287.270059                   20.296322   \n",
       "1                 575.357153                    8.487347   \n",
       "2                 465.996971                   12.303616   \n",
       "3                 399.329242                   14.159046   \n",
       "4                 178.009320                   16.401750   \n",
       "\n",
       "   Proximity to Main Road (km)  Proximity to City Center (km)  \\\n",
       "0                     2.098344                      12.773546   \n",
       "1                     5.456592                      10.426981   \n",
       "2                     1.309497                      21.574750   \n",
       "3                     9.183884                      12.135067   \n",
       "4                     3.329020                      10.618690   \n",
       "\n",
       "   Land Price (GHS)  \n",
       "0       5838.663580  \n",
       "1       5426.483504  \n",
       "2       4055.991201  \n",
       "3        497.461141  \n",
       "4       1784.919488  "
      ]
     },
     "execution_count": 1184,
     "metadata": {},
     "output_type": "execute_result"
    }
   ],
   "source": [
    "data.head()"
   ]
  },
  {
   "cell_type": "code",
   "execution_count": 1185,
   "metadata": {},
   "outputs": [
    {
     "data": {
      "text/plain": [
       "<matplotlib.legend.Legend at 0x26af47d59d0>"
      ]
     },
     "execution_count": 1185,
     "metadata": {},
     "output_type": "execute_result"
    },
    {
     "data": {
      "image/png": "[encoded data removed]",
      "text/plain": [
       "<Figure size 640x480 with 1 Axes>"
      ]
     },
     "metadata": {},
     "output_type": "display_data"
    }
   ],
   "source": [
    "plt.scatter(data['Size of Plot (sq. meters)'], data['Land Price (GHS)'], color='blue', alpha=0.5, label='Original Data')\n",
    "plt.xlabel('Size of Plot (sq. meters)')\n",
    "plt.ylabel('Land Price (GHS)')\n",
    "plt.title('Land Price Data Distribution')\n",
    "plt.legend()"
   ]
  },
  {
   "cell_type": "markdown",
   "metadata": {},
   "source": [
    "Extracting the feature of interest (size of the land) and the target variable (price of the house) from the dataset:"
   ]
  },
  {
   "cell_type": "code",
   "execution_count": 1186,
   "metadata": {},
   "outputs": [],
   "source": [
    "X = np.array(data['Size of Plot (sq. meters)'])\n",
    "y = np.array(data['Land Price (GHS)'])"
   ]
  },
  {
   "cell_type": "code",
   "execution_count": 1187,
   "metadata": {},
   "outputs": [
    {
     "data": {
      "text/plain": [
       "array([287.2700594, 575.3571532, 465.9969709, 399.3292421, 178.0093202,\n",
       "       177.9972602, 129.0418061, 533.0880729, 400.5575059, 454.0362889,\n",
       "       110.2922471, 584.9549261, 516.2213204, 206.1695553, 190.9124836,\n",
       "       191.7022549, 252.1211215, 362.3782158, 315.9725093, 245.6145701])"
      ]
     },
     "execution_count": 1187,
     "metadata": {},
     "output_type": "execute_result"
    }
   ],
   "source": [
    "X"
   ]
  },
  {
   "cell_type": "code",
   "execution_count": 1188,
   "metadata": {},
   "outputs": [
    {
     "data": {
      "text/plain": [
       "array([5838.66358  , 5426.483504 , 4055.991201 ,  497.4611415,\n",
       "       1784.919488 ,  648.1882645, 4403.082131 , 7195.998014 ,\n",
       "       3882.310222 , 5677.999429 ,  768.9618472,  664.2391914,\n",
       "        627.1757412, 4935.639968 , 3836.407549 , 4377.118688 ,\n",
       "       1087.082036 , 5167.420694 , 5775.819997 , 3369.435779 ])"
      ]
     },
     "execution_count": 1188,
     "metadata": {},
     "output_type": "execute_result"
    }
   ],
   "source": [
    "y"
   ]
  },
  {
   "cell_type": "markdown",
   "metadata": {},
   "source": [
    "The target values are normalized to improve the performance of the algorithm, as I observed that the algorithm performs better when the target values displayed less variance. As such, predictions are made on the normalized target values, and the predictions are then denormalized to get the actual price of the house."
   ]
  },
  {
   "cell_type": "code",
   "execution_count": 1189,
   "metadata": {},
   "outputs": [],
   "source": [
    "X_mean = np.mean(X)\n",
    "X_std = np.std(X)\n",
    "X_normalized = (X - X_mean) / X_std\n",
    "\n",
    "y_mean = np.mean(y)\n",
    "y_std = np.std(y)\n",
    "y_normalized = (y - y_mean) / y_std"
   ]
  },
  {
   "cell_type": "code",
   "execution_count": 1190,
   "metadata": {},
   "outputs": [],
   "source": [
    "X_mat = np.mat(X_normalized).T\n",
    "y_mat = np.mat(y_normalized).T"
   ]
  },
  {
   "cell_type": "code",
   "execution_count": 1191,
   "metadata": {},
   "outputs": [
    {
     "data": {
      "text/plain": [
       "matrix([[-0.27730331],\n",
       "        [ 1.64394295],\n",
       "        [ 0.91462239],\n",
       "        [ 0.47001683],\n",
       "        [-1.00596069],\n",
       "        [-1.00604111],\n",
       "        [-1.33252392],\n",
       "        [ 1.36205142],\n",
       "        [ 0.47820809],\n",
       "        [ 0.83485688],\n",
       "        [-1.4575643 ],\n",
       "        [ 1.70795028],\n",
       "        [ 1.24956743],\n",
       "        [-0.81816072],\n",
       "        [-0.91990978],\n",
       "        [-0.91464282],\n",
       "        [-0.51171077],\n",
       "        [ 0.22359128],\n",
       "        [-0.08588732],\n",
       "        [-0.55510281]])"
      ]
     },
     "execution_count": 1191,
     "metadata": {},
     "output_type": "execute_result"
    }
   ],
   "source": [
    "X_mat"
   ]
  },
  {
   "cell_type": "code",
   "execution_count": 1192,
   "metadata": {},
   "outputs": [
    {
     "data": {
      "text/plain": [
       "matrix([[ 1.10541511],\n",
       "        [ 0.91050513],\n",
       "        [ 0.26243249],\n",
       "        [-1.42031026],\n",
       "        [-0.81150237],\n",
       "        [-1.34903505],\n",
       "        [ 0.42656339],\n",
       "        [ 1.74726572],\n",
       "        [ 0.18030295],\n",
       "        [ 1.02944092],\n",
       "        [-1.29192415],\n",
       "        [-1.34144496],\n",
       "        [-1.35897137],\n",
       "        [ 0.6783971 ],\n",
       "        [ 0.15859669],\n",
       "        [ 0.4142859 ],\n",
       "        [-1.14149281],\n",
       "        [ 0.7880006 ],\n",
       "        [ 1.0756979 ],\n",
       "        [-0.06222296]])"
      ]
     },
     "execution_count": 1192,
     "metadata": {},
     "output_type": "execute_result"
    }
   ],
   "source": [
    "y_mat"
   ]
  },
  {
   "cell_type": "markdown",
   "metadata": {},
   "source": [
    "The intercept term is added to the feature matrix to account for the bias term in the linear regression model."
   ]
  },
  {
   "cell_type": "code",
   "execution_count": 1193,
   "metadata": {},
   "outputs": [],
   "source": [
    "m = np.shape(X_mat)[0]\n",
    "one = np.mat(np.ones(m)).T\n",
    "X_b = np.hstack((one, X_mat))"
   ]
  },
  {
   "cell_type": "code",
   "execution_count": 1194,
   "metadata": {},
   "outputs": [
    {
     "data": {
      "text/plain": [
       "matrix([[ 1.        , -0.27730331],\n",
       "        [ 1.        ,  1.64394295],\n",
       "        [ 1.        ,  0.91462239],\n",
       "        [ 1.        ,  0.47001683],\n",
       "        [ 1.        , -1.00596069],\n",
       "        [ 1.        , -1.00604111],\n",
       "        [ 1.        , -1.33252392],\n",
       "        [ 1.        ,  1.36205142],\n",
       "        [ 1.        ,  0.47820809],\n",
       "        [ 1.        ,  0.83485688],\n",
       "        [ 1.        , -1.4575643 ],\n",
       "        [ 1.        ,  1.70795028],\n",
       "        [ 1.        ,  1.24956743],\n",
       "        [ 1.        , -0.81816072],\n",
       "        [ 1.        , -0.91990978],\n",
       "        [ 1.        , -0.91464282],\n",
       "        [ 1.        , -0.51171077],\n",
       "        [ 1.        ,  0.22359128],\n",
       "        [ 1.        , -0.08588732],\n",
       "        [ 1.        , -0.55510281]])"
      ]
     },
     "execution_count": 1194,
     "metadata": {},
     "output_type": "execute_result"
    }
   ],
   "source": [
    "X_b"
   ]
  },
  {
   "cell_type": "code",
   "execution_count": 1195,
   "metadata": {},
   "outputs": [
    {
     "name": "stderr",
     "output_type": "stream",
     "text": [
      "C:\\Users\\egale\\AppData\\Local\\Temp\\ipykernel_21092\\1838959028.py:17: DeprecationWarning: Conversion of an array with ndim > 0 to a scalar is deprecated, and will error in future. Ensure you extract a single element from your array before performing this operation. (Deprecated NumPy 1.25.)\n",
      "  weights[j, j] = np.exp(float(diff * diff.T) / (-2.0 * k**2))\n"
     ]
    },
    {
     "data": {
      "image/png": "[encoded data removed]",
      "text/plain": [
       "<Figure size 640x480 with 1 Axes>"
      ]
     },
     "metadata": {},
     "output_type": "display_data"
    }
   ],
   "source": [
    "optimal_tau = find_optimal_tau(X_b, y_mat)"
   ]
  },
  {
   "cell_type": "code",
   "execution_count": 1196,
   "metadata": {},
   "outputs": [
    {
     "name": "stdout",
     "output_type": "stream",
     "text": [
      "Optimal Tau: 0.1\n"
     ]
    }
   ],
   "source": [
    "print(f'Optimal Tau: {optimal_tau}')"
   ]
  },
  {
   "cell_type": "markdown",
   "metadata": {},
   "source": [
    "Observations:\n",
    "The relationship betweeen the bandwidth parameter $\\tau$ and the mean squared error (MSE) is used as a proxy to understand the effect of $\\tau$ on the model's performance and prediction smoothness. The curve exhibits a steep decline in MSE for small values of $\\tau$, followed by a gradual flattening as $\\tau$ increases. The red dot at the leftmost part of the curve indicates the minimum MSE, which occurs when $\\tau$ is very close to zero. As $\\tau$ increases beyond this point, the MSE rapidly increases, and eventually, the curve plateaus. The plateau indicates that further increases in $\\tau$ no longer significantly change the MSE, but the model is likely becoming too smooth.\n",
    "\n",
    "Analysis of $\\tau's$ Effect on Prediction Smoothness:\n",
    "- When \\(\\tau\\) is small, the model prioritizes points very close to the data point being predicted, meaning the model heavily weights nearby points. This creates a regression line that is highly sensitive to local variations. As a result, the predictions tend to be less smooth, as the MSE is minimized implying it is fitting quite well to the data points. This explains why, for small \\(\\tau\\), the MSE is minimized (the model fits very closely to training data), but it may perform poorly on new data (leading to increased MSE after \\(\\tau\\) surpasses the optimal point).\n",
    "  \n",
    "- As \\(\\tau\\) increases, the bandwidth expands, and the model starts to incorporate more distant points in the prediction, averaging out local fluctuations. This leads to a smoother regression line, as MSE is not minimized so the curve strays away frm individual data points, but at the cost of losing some of the finer details captured by smaller \\(\\tau\\). At very large \\(\\tau\\), the regression line becomes overly smooth, potentially leading to underfitting, where the model is too simplistic and fails to capture important trends in the data. This is evident from the flatter portion of the curve at larger \\(\\tau\\), where the MSE stops decreasing and stabilizes at a higher value.\n",
    "\n",
    "Explanation of \\(\\tau\\)'s Influence on the Regression Line:\n",
    "- Small \\(\\tau\\): The model becomes highly flexible, leading to a regression line that follows the training data closely. This results in high sensitivity to noise and sharp fluctuations, reducing the smoothness of the predictions. The risk is overfitting, where the model does not generalize well to new data.\n",
    "  \n",
    "- Large \\(\\tau\\): The model becomes smoother as it gives equal weight to a broader range of points, leading to a more general prediction line that ignores local variations. While this reduces variance, it can lead to underfitting if important patterns are smoothed out too much."
   ]
  },
  {
   "cell_type": "markdown",
   "metadata": {},
   "source": [
    "---"
   ]
  },
  {
   "cell_type": "markdown",
   "metadata": {},
   "source": [
    "After the optimal bandwidth parameter $\\tau$ is found, the Locally Weighted Regression model is fitted using the training data points and the optimal $\\tau$. The model is then used to predict the output of the new data point. However, the predictions are made on the normalized target values, so the predictions are then denormalized to get the actual price of the house."
   ]
  },
  {
   "cell_type": "code",
   "execution_count": 1197,
   "metadata": {},
   "outputs": [
    {
     "name": "stderr",
     "output_type": "stream",
     "text": [
      "C:\\Users\\egale\\AppData\\Local\\Temp\\ipykernel_21092\\1838959028.py:17: DeprecationWarning: Conversion of an array with ndim > 0 to a scalar is deprecated, and will error in future. Ensure you extract a single element from your array before performing this operation. (Deprecated NumPy 1.25.)\n",
      "  weights[j, j] = np.exp(float(diff * diff.T) / (-2.0 * k**2))\n"
     ]
    }
   ],
   "source": [
    "predictions_normalized = local_weight_regression(X_b, y_mat, optimal_tau)"
   ]
  },
  {
   "cell_type": "markdown",
   "metadata": {},
   "source": [
    "Denormalizing the predicted output to get the actual price of the land:"
   ]
  },
  {
   "cell_type": "code",
   "execution_count": 1198,
   "metadata": {},
   "outputs": [],
   "source": [
    "predictions = predictions_normalized * y_std + y_mean"
   ]
  },
  {
   "cell_type": "markdown",
   "metadata": {},
   "source": [
    "Printing each prediction and the actual price of the house to compare the results."
   ]
  },
  {
   "cell_type": "code",
   "execution_count": 1199,
   "metadata": {},
   "outputs": [
    {
     "name": "stdout",
     "output_type": "stream",
     "text": [
      "predicted: 5481.985048873656 actual: 5838.66358\n",
      "predicted: 4418.586386188389 actual: 5426.483504\n",
      "predicted: 4117.506479707613 actual: 4055.991201\n",
      "predicted: 2249.642363884897 actual: 497.4611415\n",
      "predicted: 1451.7250649968141 actual: 1784.919488\n",
      "predicted: 1449.849457425406 actual: 648.1882645\n",
      "predicted: 4043.289369119798 actual: 4403.082131\n",
      "predicted: 6236.285600046107 actual: 7195.998014\n",
      "predicted: 2212.876042431687 actual: 3882.310222\n",
      "predicted: 5527.162787248448 actual: 5677.999429\n",
      "predicted: 771.4654751122239 actual: 768.9618472\n",
      "predicted: 856.1151590213158 actual: 664.2391914\n",
      "predicted: 962.0220918044242 actual: 627.1757412\n",
      "predicted: 4712.35286192077 actual: 4935.639968\n",
      "predicted: 3514.7985063392966 actual: 3836.407549\n",
      "predicted: 3623.3404004854215 actual: 4377.118688\n",
      "predicted: 2314.729069906679 actual: 1087.082036\n",
      "predicted: 5113.987906449446 actual: 5167.420694\n",
      "predicted: 5767.032981893062 actual: 5775.819997\n",
      "predicted: 2550.735696769509 actual: 3369.435779\n"
     ]
    }
   ],
   "source": [
    "for i in range(m):\n",
    "    print('predicted:', predictions[i], 'actual:', y[i])"
   ]
  },
  {
   "cell_type": "markdown",
   "metadata": {},
   "source": [
    "The mean squared error of the final Locally Weighted Regression model is calculated to evaluate the accuracy of the algorithm."
   ]
  },
  {
   "cell_type": "code",
   "execution_count": 1200,
   "metadata": {},
   "outputs": [
    {
     "name": "stdout",
     "output_type": "stream",
     "text": [
      "Mean Squared Error: 594083.73703754\n"
     ]
    }
   ],
   "source": [
    "error = compute_mse(y, predictions)\n",
    "print(f'Mean Squared Error: {error:.8f}')"
   ]
  },
  {
   "cell_type": "markdown",
   "metadata": {},
   "source": [
    "The original data is plotted along with the regression line to visualize the relationship between the size of the land and the price of the house. The regression line fits the data well, indicating that the Locally Weighted Regression model is accurate in predicting the price of a house given the size of the land."
   ]
  },
  {
   "cell_type": "code",
   "execution_count": 1201,
   "metadata": {},
   "outputs": [
    {
     "data": {
      "image/png": "[encoded data removed]",
      "text/plain": [
       "<Figure size 640x480 with 1 Axes>"
      ]
     },
     "metadata": {},
     "output_type": "display_data"
    }
   ],
   "source": [
    "plot_regression_line(X, y, predictions, 'Size of Plot (sq. meters)', 'Land Price (GHS)')"
   ]
  },
  {
   "cell_type": "code",
   "execution_count": 1202,
   "metadata": {},
   "outputs": [
    {
     "name": "stdout",
     "output_type": "stream",
     "text": [
      "Predicted price for plot size 287 sq. meters: 5465.37 GHS\n",
      "Predicted price for plot size 500 sq. meters: 1977.88 GHS\n",
      "Predicted price for plot size 120 sq. meters: 2640.76 GHS\n",
      "Predicted price for plot size 150 sq. meters: 2997.72 GHS\n",
      "Predicted price for plot size 160 sq. meters: 2314.60 GHS\n",
      "Predicted price for plot size 178 sq. meters: 1450.28 GHS\n"
     ]
    },
    {
     "name": "stderr",
     "output_type": "stream",
     "text": [
      "C:\\Users\\egale\\AppData\\Local\\Temp\\ipykernel_21092\\1838959028.py:17: DeprecationWarning: Conversion of an array with ndim > 0 to a scalar is deprecated, and will error in future. Ensure you extract a single element from your array before performing this operation. (Deprecated NumPy 1.25.)\n",
      "  weights[j, j] = np.exp(float(diff * diff.T) / (-2.0 * k**2))\n",
      "C:\\Users\\egale\\AppData\\Local\\Temp\\ipykernel_21092\\2899281088.py:9: DeprecationWarning: Conversion of an array with ndim > 0 to a scalar is deprecated, and will error in future. Ensure you extract a single element from your array before performing this operation. (Deprecated NumPy 1.25.)\n",
      "  unseen_predictions_normalized[i] = float(np.dot(unseen_data_b[i], W))\n"
     ]
    }
   ],
   "source": [
    "def predict_unseen_data(unseen_data, X_b, y_mat, optimal_tau, y_mean, y_std, X_mean, X_std):\n",
    "    unseen_data_normalized = (unseen_data - X_mean) / X_std\n",
    "    unseen_data_mat = np.mat(unseen_data_normalized).T\n",
    "    unseen_data_b = np.hstack((np.ones((unseen_data_mat.shape[0], 1)), unseen_data_mat))\n",
    "\n",
    "    unseen_predictions_normalized = np.zeros(unseen_data_b.shape[0])\n",
    "    for i in range(unseen_data_b.shape[0]):\n",
    "        W = local_weight(unseen_data_b[i], X_b, y_mat, optimal_tau)\n",
    "        unseen_predictions_normalized[i] = float(np.dot(unseen_data_b[i], W))\n",
    "\n",
    "    unseen_predictions = unseen_predictions_normalized * y_std + y_mean\n",
    "    return unseen_predictions\n",
    "\n",
    "unseen_data = np.array([287, 500, 120, 150, 160, 178])\n",
    "unseen_predictions = predict_unseen_data(unseen_data, X_b, y_mat, optimal_tau, y_mean, y_std, X_mean, X_std)\n",
    "\n",
    "for i, size in enumerate(unseen_data):\n",
    "    print(f'Predicted price for plot size {size} sq. meters: {unseen_predictions[i]:.2f} GHS')"
   ]
  },
  {
   "cell_type": "markdown",
   "metadata": {},
   "source": [
    "## References\n",
    "https://vtupulse.com/machine-learning/locally-weighted-regression-algorithm-in-python/#:~:text=Implement%20the%20non-parametric%20Locally%20Weighted%20Regression%20Algorithm%20in"
   ]
  }
 ],
 "metadata": {
  "kernelspec": {
   "display_name": "Python 3",
   "language": "python",
   "name": "python3"
  },
  "language_info": {
   "codemirror_mode": {
    "name": "ipython",
    "version": 3
   },
   "file_extension": ".py",
   "mimetype": "text/x-python",
   "name": "python",
   "nbconvert_exporter": "python",
   "pygments_lexer": "ipython3",
   "version": "3.12.4"
  }
 },
 "nbformat": 4,
 "nbformat_minor": 2
}
